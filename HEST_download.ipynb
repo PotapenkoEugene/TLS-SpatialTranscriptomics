{
 "cells": [
  {
   "cell_type": "markdown",
   "id": "0fbcedc7-d3ba-43f0-8f76-4bf6138dd058",
   "metadata": {},
   "source": [
    "# Download data"
   ]
  },
  {
   "cell_type": "code",
   "execution_count": 1,
   "id": "6fb79f86-e620-4368-89dd-6d343132db16",
   "metadata": {
    "scrolled": true
   },
   "outputs": [
    {
     "name": "stdout",
     "output_type": "stream",
     "text": [
      "Collecting datasets\n",
      "  Downloading datasets-4.0.0-py3-none-any.whl.metadata (19 kB)\n",
      "Requirement already satisfied: filelock in /opt/conda/lib/python3.11/site-packages (from datasets) (3.17.0)\n",
      "Requirement already satisfied: numpy>=1.17 in /opt/conda/lib/python3.11/site-packages (from datasets) (1.25.2)\n",
      "Requirement already satisfied: pyarrow>=15.0.0 in /opt/conda/lib/python3.11/site-packages (from datasets) (18.1.0)\n",
      "Collecting dill<0.3.9,>=0.3.0 (from datasets)\n",
      "  Downloading dill-0.3.8-py3-none-any.whl.metadata (10 kB)\n",
      "Requirement already satisfied: pandas in /opt/conda/lib/python3.11/site-packages (from datasets) (2.2.3)\n",
      "Requirement already satisfied: requests>=2.32.2 in /opt/conda/lib/python3.11/site-packages (from datasets) (2.32.3)\n",
      "es (from datasets) (4.66.5)ed: tqdm>=4.66.3 in /opt/conda/lib/python3.11/site-packag\n",
      "Collecting xxhash (from datasets)\n",
      "  Downloading xxhash-3.5.0-cp311-cp311-manylinux_2_17_x86_64.manylinux2014_x86_64.whl.metadata (12 kB)\n",
      "Collecting multiprocess<0.70.17 (from datasets)\n",
      "  Downloading multiprocess-0.70.16-py311-none-any.whl.metadata (7.2 kB)\n",
      "Requirement already satisfied: fsspec<=2025.3.0,>=2023.1.0 in /opt/conda/lib/python3.11/site-packages (from fsspec[http]<=2025.3.0,>=2023.1.0->datasets) (2025.2.0)\n",
      "Collecting huggingface-hub>=0.24.0 (from datasets)\n",
      "  Downloading huggingface_hub-0.34.4-py3-none-any.whl.metadata (14 kB)\n",
      "Requirement already satisfied: packaging in /opt/conda/lib/python3.11/site-packages (from datasets) (24.1)\n",
      "Requirement already satisfied: pyyaml>=5.1 in /opt/conda/lib/python3.11/site-packages (from datasets) (6.0.2)\n",
      "Collecting aiohttp!=4.0.0a0,!=4.0.0a1 (from fsspec[http]<=2025.3.0,>=2023.1.0->datasets)\n",
      "  Downloading aiohttp-3.12.15-cp311-cp311-manylinux_2_17_x86_64.manylinux2014_x86_64.whl.metadata (7.7 kB)\n",
      "Requirement already satisfied: typing-extensions>=3.7.4.3 in /opt/conda/lib/python3.11/site-packages (from huggingface-hub>=0.24.0->datasets) (4.12.2)\n",
      "Collecting hf-xet<2.0.0,>=1.1.3 (from huggingface-hub>=0.24.0->datasets)\n",
      "  Downloading hf_xet-1.1.7-cp37-abi3-manylinux_2_17_x86_64.manylinux2014_x86_64.whl.metadata (703 bytes)\n",
      "Requirement already satisfied: charset-normalizer<4,>=2 in /opt/conda/lib/python3.11/site-packages (from requests>=2.32.2->datasets) (3.3.2)\n",
      "Requirement already satisfied: idna<4,>=2.5 in /opt/conda/lib/python3.11/site-packages (from requests>=2.32.2->datasets) (3.7)\n",
      "n3.11/site-packages (from requests>=2.32.2->datasets) (2.2.2)da/lib/pytho\n",
      "Requirement already satisfied: certifi>=2017.4.17 in /opt/conda/lib/python3.11/site-packages (from requests>=2.32.2->datasets) (2025.1.31)\n",
      "Requirement already satisfied: python-dateutil>=2.8.2 in /opt/conda/lib/python3.11/site-packages (from pandas->datasets) (2.9.0.post0)\n",
      "Requirement already satisfied: pytz>=2020.1 in /opt/conda/lib/python3.11/site-packages (from pandas->datasets) (2024.1)\n",
      "packages (from pandas->datasets) (2025.1)22.7 in /opt/conda/lib/python3.11/site-\n",
      "Collecting aiohappyeyeballs>=2.5.0 (from aiohttp!=4.0.0a0,!=4.0.0a1->fsspec[http]<=2025.3.0,>=2023.1.0->datasets)\n",
      "  Downloading aiohappyeyeballs-2.6.1-py3-none-any.whl.metadata (5.9 kB)\n",
      "Collecting aiosignal>=1.4.0 (from aiohttp!=4.0.0a0,!=4.0.0a1->fsspec[http]<=2025.3.0,>=2023.1.0->datasets)\n",
      "  Downloading aiosignal-1.4.0-py3-none-any.whl.metadata (3.7 kB)\n",
      "Requirement already satisfied: attrs>=17.3.0 in /opt/conda/lib/python3.11/site-packages (from aiohttp!=4.0.0a0,!=4.0.0a1->fsspec[http]<=2025.3.0,>=2023.1.0->datasets) (25.1.0)\n",
      "Collecting frozenlist>=1.1.1 (from aiohttp!=4.0.0a0,!=4.0.0a1->fsspec[http]<=2025.3.0,>=2023.1.0->datasets)\n",
      "  Downloading frozenlist-1.7.0-cp311-cp311-manylinux_2_5_x86_64.manylinux1_x86_64.manylinux_2_17_x86_64.manylinux2014_x86_64.whl.metadata (18 kB)\n",
      "Collecting multidict<7.0,>=4.5 (from aiohttp!=4.0.0a0,!=4.0.0a1->fsspec[http]<=2025.3.0,>=2023.1.0->datasets)\n",
      "  Downloading multidict-6.6.3-cp311-cp311-manylinux2014_x86_64.manylinux_2_17_x86_64.manylinux_2_28_x86_64.whl.metadata (5.3 kB)\n",
      "Collecting propcache>=0.2.0 (from aiohttp!=4.0.0a0,!=4.0.0a1->fsspec[http]<=2025.3.0,>=2023.1.0->datasets)\n",
      "  Downloading propcache-0.3.2-cp311-cp311-manylinux_2_17_x86_64.manylinux2014_x86_64.whl.metadata (12 kB)\n",
      "Collecting yarl<2.0,>=1.17.0 (from aiohttp!=4.0.0a0,!=4.0.0a1->fsspec[http]<=2025.3.0,>=2023.1.0->datasets)\n",
      "  Downloading yarl-1.20.1-cp311-cp311-manylinux_2_17_x86_64.manylinux2014_x86_64.whl.metadata (73 kB)\n",
      "Requirement already satisfied: six>=1.5 in /opt/conda/lib/python3.11/site-packages (from python-dateutil>=2.8.2->pandas->datasets) (1.17.0)\n",
      "Downloading datasets-4.0.0-py3-none-any.whl (494 kB)\n",
      "Downloading dill-0.3.8-py3-none-any.whl (116 kB)\n",
      "Downloading huggingface_hub-0.34.4-py3-none-any.whl (561 kB)\n",
      "━━━━━━━━━━━\u001b[0m \u001b[32m561.5/561.5 kB\u001b[0m \u001b[31m19.1 MB/s\u001b[0m eta \u001b[36m0:00:00\u001b[0m0m \u001b[31m?\u001b[0m eta \u001b[36m-:--:--\u001b[0m\n",
      "Downloading multiprocess-0.70.16-py311-none-any.whl (143 kB)\n",
      "Downloading xxhash-3.5.0-cp311-cp311-manylinux_2_17_x86_64.manylinux2014_x86_64.whl (194 kB)\n",
      "Downloading aiohttp-3.12.15-cp311-cp311-manylinux_2_17_x86_64.manylinux2014_x86_64.whl (1.7 MB)\n",
      "━━━━━━━━━━━\u001b[0m \u001b[32m1.7/1.7 MB\u001b[0m \u001b[31m19.7 MB/s\u001b[0m eta \u001b[36m0:00:00\u001b[0m\u001b[0m \u001b[31m?\u001b[0m eta \u001b[36m-:--:--\u001b[0m\n",
      "?25hDownloading hf_xet-1.1.7-cp37-abi3-manylinux_2_17_x86_64.manylinux2014_x86_64.whl (3.2 MB)\n",
      "━━━━━━━━━━━\u001b[0m \u001b[32m3.2/3.2 MB\u001b[0m \u001b[31m9.3 MB/s\u001b[0m eta \u001b[36m0:00:00\u001b[0m0:01\u001b[0m31m?\u001b[0m eta \u001b[36m-:--:--\u001b[0m\n",
      "25hDownloading aiohappyeyeballs-2.6.1-py3-none-any.whl (15 kB)\n",
      "Downloading aiosignal-1.4.0-py3-none-any.whl (7.5 kB)\n",
      "Downloading frozenlist-1.7.0-cp311-cp311-manylinux_2_5_x86_64.manylinux1_x86_64.manylinux_2_17_x86_64.manylinux2014_x86_64.whl (235 kB)\n",
      "Downloading multidict-6.6.3-cp311-cp311-manylinux2014_x86_64.manylinux_2_17_x86_64.manylinux_2_28_x86_64.whl (246 kB)\n",
      "Downloading propcache-0.3.2-cp311-cp311-manylinux_2_17_x86_64.manylinux2014_x86_64.whl (213 kB)\n",
      "Downloading yarl-1.20.1-cp311-cp311-manylinux_2_17_x86_64.manylinux2014_x86_64.whl (348 kB)\n",
      "Installing collected packages: xxhash, propcache, multidict, hf-xet, frozenlist, dill, aiohappyeyeballs, yarl, multiprocess, huggingface-hub, aiosignal, aiohttp, datasets\n",
      "Successfully installed aiohappyeyeballs-2.6.1 aiohttp-3.12.15 aiosignal-1.4.0 datasets-4.0.0 dill-0.3.8 frozenlist-1.7.0 hf-xet-1.1.7 huggingface-hub-0.34.4 multidict-6.6.3 multiprocess-0.70.16 propcache-0.3.2 xxhash-3.5.0 yarl-1.20.1\n"
     ]
    },
    {
     "name": "stderr",
     "output_type": "stream",
     "text": [
      "\u001b[33mWARNING: Running pip as the 'root' user can result in broken permissions and conflicting behaviour with the system package manager, possibly rendering your system unusable.It is recommended to use a virtual environment instead: https://pip.pypa.io/warnings/venv. Use the --root-user-action option if you know what you are doing and want to suppress this warning.\u001b[0m\u001b[33m\n",
      "\u001b[0m"
     ]
    }
   ],
   "source": [
    "%%bash\n",
    "pip install datasets"
   ]
  },
  {
   "cell_type": "code",
   "execution_count": 12,
   "id": "b3378b5d-7787-4c93-9b83-a20fc9277494",
   "metadata": {
    "scrolled": true
   },
   "outputs": [
    {
     "name": "stdout",
     "output_type": "stream",
     "text": [
      "Requirement already satisfied: huggingface-hub in /opt/conda/lib/python3.11/site-packages (0.21.4)\n",
      "Requirement already satisfied: filelock in /opt/conda/lib/python3.11/site-packages (from huggingface-hub) (3.17.0)\n",
      "Requirement already satisfied: fsspec>=2023.5.0 in /opt/conda/lib/python3.11/site-packages (from huggingface-hub) (2023.10.0)\n",
      "Requirement already satisfied: requests in /opt/conda/lib/python3.11/site-packages (from huggingface-hub) (2.32.3)\n",
      "Requirement already satisfied: tqdm>=4.42.1 in /opt/conda/lib/python3.11/site-packages (from huggingface-hub) (4.66.5)\n",
      "Requirement already satisfied: pyyaml>=5.1 in /opt/conda/lib/python3.11/site-packages (from huggingface-hub) (6.0.2)\n",
      "Requirement already satisfied: typing-extensions>=3.7.4.3 in /opt/conda/lib/python3.11/site-packages (from huggingface-hub) (4.12.2)\n",
      "Requirement already satisfied: packaging>=20.9 in /opt/conda/lib/python3.11/site-packages (from huggingface-hub) (24.1)\n",
      "Requirement already satisfied: charset-normalizer<4,>=2 in /opt/conda/lib/python3.11/site-packages (from requests->huggingface-hub) (3.3.2)\n",
      "Requirement already satisfied: idna<4,>=2.5 in /opt/conda/lib/python3.11/site-packages (from requests->huggingface-hub) (3.7)\n",
      "Requirement already satisfied: urllib3<3,>=1.21.1 in /opt/conda/lib/python3.11/site-packages (from requests->huggingface-hub) (2.2.2)\n",
      "Requirement already satisfied: certifi>=2017.4.17 in /opt/conda/lib/python3.11/site-packages (from requests->huggingface-hub) (2025.1.31)\n",
      "\u001b[33mWARNING: Running pip as the 'root' user can result in broken permissions and conflicting behaviour with the system package manager, possibly rendering your system unusable.It is recommended to use a virtual environment instead: https://pip.pypa.io/warnings/venv. Use the --root-user-action option if you know what you are doing and want to suppress this warning.\u001b[0m\u001b[33m\n",
      "\u001b[0m"
     ]
    }
   ],
   "source": [
    "#!pip install datasets==2.16.0\n",
    "!pip install huggingface-hub"
   ]
  },
  {
   "cell_type": "code",
   "execution_count": 1,
   "id": "b2e20eb4-fcc1-4f2d-b62e-519ed4fa8e4a",
   "metadata": {},
   "outputs": [],
   "source": [
    "from huggingface_hub import login\n"
   ]
  },
  {
   "cell_type": "code",
   "execution_count": 14,
   "id": "e936d29e-fdc4-456b-a6f9-ee4e966b4059",
   "metadata": {},
   "outputs": [
    {
     "name": "stdout",
     "output_type": "stream",
     "text": [
      "Requirement already satisfied: huggingface_hub in /opt/conda/lib/python3.11/site-packages (0.21.4)\n",
      "Collecting huggingface_hub\n",
      "  Downloading huggingface_hub-0.34.4-py3-none-any.whl.metadata (14 kB)\n",
      "Requirement already satisfied: filelock in /opt/conda/lib/python3.11/site-packages (from huggingface_hub) (3.17.0)\n",
      "Requirement already satisfied: fsspec>=2023.5.0 in /opt/conda/lib/python3.11/site-packages (from huggingface_hub) (2023.10.0)\n",
      "Requirement already satisfied: packaging>=20.9 in /opt/conda/lib/python3.11/site-packages (from huggingface_hub) (24.1)\n",
      "Requirement already satisfied: pyyaml>=5.1 in /opt/conda/lib/python3.11/site-packages (from huggingface_hub) (6.0.2)\n",
      "Requirement already satisfied: requests in /opt/conda/lib/python3.11/site-packages (from huggingface_hub) (2.32.3)\n",
      "Requirement already satisfied: tqdm>=4.42.1 in /opt/conda/lib/python3.11/site-packages (from huggingface_hub) (4.66.5)\n",
      "Requirement already satisfied: typing-extensions>=3.7.4.3 in /opt/conda/lib/python3.11/site-packages (from huggingface_hub) (4.12.2)\n",
      "Requirement already satisfied: hf-xet<2.0.0,>=1.1.3 in /opt/conda/lib/python3.11/site-packages (from huggingface_hub) (1.1.7)\n",
      "Requirement already satisfied: charset-normalizer<4,>=2 in /opt/conda/lib/python3.11/site-packages (from requests->huggingface_hub) (3.3.2)\n",
      "Requirement already satisfied: idna<4,>=2.5 in /opt/conda/lib/python3.11/site-packages (from requests->huggingface_hub) (3.7)\n",
      "Requirement already satisfied: urllib3<3,>=1.21.1 in /opt/conda/lib/python3.11/site-packages (from requests->huggingface_hub) (2.2.2)\n",
      "Requirement already satisfied: certifi>=2017.4.17 in /opt/conda/lib/python3.11/site-packages (from requests->huggingface_hub) (2025.1.31)\n",
      "Downloading huggingface_hub-0.34.4-py3-none-any.whl (561 kB)\n",
      "\u001b[2K   \u001b[90m━━━━━━━━━━━━━━━━━━━━━━━━━━━━━━━━━━━━━━━━\u001b[0m \u001b[32m561.5/561.5 kB\u001b[0m \u001b[31m4.1 MB/s\u001b[0m eta \u001b[36m0:00:00\u001b[0m\n",
      "Installing collected packages: huggingface_hub\n",
      "  Attempting uninstall: huggingface_hub\n",
      "    Found existing installation: huggingface-hub 0.21.4\n",
      "    Uninstalling huggingface-hub-0.21.4:\n",
      "      Successfully uninstalled huggingface-hub-0.21.4\n",
      "Successfully installed huggingface_hub-0.34.4\n",
      "\u001b[33mWARNING: Running pip as the 'root' user can result in broken permissions and conflicting behaviour with the system package manager, possibly rendering your system unusable.It is recommended to use a virtual environment instead: https://pip.pypa.io/warnings/venv. Use the --root-user-action option if you know what you are doing and want to suppress this warning.\u001b[0m\u001b[33m\n",
      "\u001b[0m"
     ]
    }
   ],
   "source": [
    "!pip install --upgrade huggingface_hub"
   ]
  },
  {
   "cell_type": "code",
   "execution_count": 2,
   "id": "e0b1deea-2aec-48f4-9db8-8f42ebc5bd2e",
   "metadata": {},
   "outputs": [],
   "source": [
    "import datasets\n",
    "import pandas as pd\n",
    "\n",
    "local_dir='hest_data' # data will be downloaded to this folder\n",
    "\n",
    "meta_df = pd.read_csv(\"hf://datasets/MahmoodLab/hest/HEST_v1_1_0.csv\")"
   ]
  },
  {
   "cell_type": "code",
   "execution_count": 3,
   "id": "4f1be487-12df-4e38-a2de-aafcfd5d9d5b",
   "metadata": {
    "scrolled": true
   },
   "outputs": [
    {
     "data": {
      "text/html": [
       "<div>\n",
       "<style scoped>\n",
       "    .dataframe tbody tr th:only-of-type {\n",
       "        vertical-align: middle;\n",
       "    }\n",
       "\n",
       "    .dataframe tbody tr th {\n",
       "        vertical-align: top;\n",
       "    }\n",
       "\n",
       "    .dataframe thead th {\n",
       "        text-align: right;\n",
       "    }\n",
       "</style>\n",
       "<table border=\"1\" class=\"dataframe\">\n",
       "  <thead>\n",
       "    <tr style=\"text-align: right;\">\n",
       "      <th></th>\n",
       "      <th>dataset_title</th>\n",
       "      <th>id</th>\n",
       "      <th>image_filename</th>\n",
       "      <th>organ</th>\n",
       "      <th>disease_state</th>\n",
       "      <th>oncotree_code</th>\n",
       "      <th>species</th>\n",
       "      <th>patient</th>\n",
       "      <th>st_technology</th>\n",
       "      <th>data_publication_date</th>\n",
       "      <th>...</th>\n",
       "      <th>treatment_comment</th>\n",
       "      <th>pixel_size_um_embedded</th>\n",
       "      <th>pixel_size_um_estimated</th>\n",
       "      <th>magnification</th>\n",
       "      <th>fullres_px_width</th>\n",
       "      <th>fullres_px_height</th>\n",
       "      <th>tissue</th>\n",
       "      <th>disease_comment</th>\n",
       "      <th>subseries</th>\n",
       "      <th>hest_version_added</th>\n",
       "    </tr>\n",
       "  </thead>\n",
       "  <tbody>\n",
       "    <tr>\n",
       "      <th>0</th>\n",
       "      <td>Fresh Frozen Mouse Brain Hemisphere with 5K Mo...</td>\n",
       "      <td>TENX159</td>\n",
       "      <td>TENX159.tif</td>\n",
       "      <td>Brain</td>\n",
       "      <td>Healthy</td>\n",
       "      <td>NaN</td>\n",
       "      <td>Mus musculus</td>\n",
       "      <td>NaN</td>\n",
       "      <td>Xenium</td>\n",
       "      <td>7/31/24</td>\n",
       "      <td>...</td>\n",
       "      <td>NaN</td>\n",
       "      <td>0.273768</td>\n",
       "      <td>0.274027</td>\n",
       "      <td>40x</td>\n",
       "      <td>17051</td>\n",
       "      <td>24689</td>\n",
       "      <td>Brain</td>\n",
       "      <td>NaN</td>\n",
       "      <td>NaN</td>\n",
       "      <td>v1_1_0</td>\n",
       "    </tr>\n",
       "    <tr>\n",
       "      <th>1</th>\n",
       "      <td>FFPE Human Skin Primary Dermal Melanoma with 5...</td>\n",
       "      <td>TENX158</td>\n",
       "      <td>TENX158.tif</td>\n",
       "      <td>Skin</td>\n",
       "      <td>Cancer</td>\n",
       "      <td>SKCM</td>\n",
       "      <td>Homo sapiens</td>\n",
       "      <td>NaN</td>\n",
       "      <td>Xenium</td>\n",
       "      <td>7/31/24</td>\n",
       "      <td>...</td>\n",
       "      <td>NaN</td>\n",
       "      <td>0.273777</td>\n",
       "      <td>0.273754</td>\n",
       "      <td>40x</td>\n",
       "      <td>18669</td>\n",
       "      <td>35787</td>\n",
       "      <td>Skin</td>\n",
       "      <td>Primary Dermal Melanoma</td>\n",
       "      <td>NaN</td>\n",
       "      <td>v1_1_0</td>\n",
       "    </tr>\n",
       "    <tr>\n",
       "      <th>2</th>\n",
       "      <td>FFPE Human Prostate Adenocarcinoma with 5K Hum...</td>\n",
       "      <td>TENX157</td>\n",
       "      <td>TENX157.tif</td>\n",
       "      <td>Prostate</td>\n",
       "      <td>Cancer</td>\n",
       "      <td>PRAD</td>\n",
       "      <td>Homo sapiens</td>\n",
       "      <td>NaN</td>\n",
       "      <td>Xenium</td>\n",
       "      <td>7/31/24</td>\n",
       "      <td>...</td>\n",
       "      <td>NaN</td>\n",
       "      <td>0.273772</td>\n",
       "      <td>0.273741</td>\n",
       "      <td>40x</td>\n",
       "      <td>25002</td>\n",
       "      <td>49976</td>\n",
       "      <td>Prostate</td>\n",
       "      <td>NaN</td>\n",
       "      <td>NaN</td>\n",
       "      <td>v1_1_0</td>\n",
       "    </tr>\n",
       "    <tr>\n",
       "      <th>3</th>\n",
       "      <td>Characterization of immune cell populations in...</td>\n",
       "      <td>TENX156</td>\n",
       "      <td>TENX156.tif</td>\n",
       "      <td>Bowel</td>\n",
       "      <td>Cancer</td>\n",
       "      <td>COAD</td>\n",
       "      <td>Homo sapiens</td>\n",
       "      <td>Patient 1</td>\n",
       "      <td>Visium HD</td>\n",
       "      <td>7/11/24</td>\n",
       "      <td>...</td>\n",
       "      <td>NaN</td>\n",
       "      <td>0.264583</td>\n",
       "      <td>0.273802</td>\n",
       "      <td>40x</td>\n",
       "      <td>71106</td>\n",
       "      <td>58791</td>\n",
       "      <td>Colon</td>\n",
       "      <td>Stage II-A</td>\n",
       "      <td>Visium HD, Sample P1 CRC</td>\n",
       "      <td>v1_1_0</td>\n",
       "    </tr>\n",
       "    <tr>\n",
       "      <th>4</th>\n",
       "      <td>Characterization of immune cell populations in...</td>\n",
       "      <td>TENX155</td>\n",
       "      <td>TENX155.tif</td>\n",
       "      <td>Bowel</td>\n",
       "      <td>Cancer</td>\n",
       "      <td>COAD</td>\n",
       "      <td>Homo sapiens</td>\n",
       "      <td>Patient 1</td>\n",
       "      <td>Visium HD</td>\n",
       "      <td>7/11/24</td>\n",
       "      <td>...</td>\n",
       "      <td>NaN</td>\n",
       "      <td>0.264583</td>\n",
       "      <td>0.273874</td>\n",
       "      <td>40x</td>\n",
       "      <td>75250</td>\n",
       "      <td>48740</td>\n",
       "      <td>Colon</td>\n",
       "      <td>NaN</td>\n",
       "      <td>Visium HD, Sample P2 CRC</td>\n",
       "      <td>v1_1_0</td>\n",
       "    </tr>\n",
       "    <tr>\n",
       "      <th>...</th>\n",
       "      <td>...</td>\n",
       "      <td>...</td>\n",
       "      <td>...</td>\n",
       "      <td>...</td>\n",
       "      <td>...</td>\n",
       "      <td>...</td>\n",
       "      <td>...</td>\n",
       "      <td>...</td>\n",
       "      <td>...</td>\n",
       "      <td>...</td>\n",
       "      <td>...</td>\n",
       "      <td>...</td>\n",
       "      <td>...</td>\n",
       "      <td>...</td>\n",
       "      <td>...</td>\n",
       "      <td>...</td>\n",
       "      <td>...</td>\n",
       "      <td>...</td>\n",
       "      <td>...</td>\n",
       "      <td>...</td>\n",
       "      <td>...</td>\n",
       "    </tr>\n",
       "    <tr>\n",
       "      <th>1224</th>\n",
       "      <td>spatialLIBD</td>\n",
       "      <td>MISC5</td>\n",
       "      <td>MISC5.tif</td>\n",
       "      <td>Brain</td>\n",
       "      <td>Healthy</td>\n",
       "      <td>NaN</td>\n",
       "      <td>Homo sapiens</td>\n",
       "      <td></td>\n",
       "      <td>Visium</td>\n",
       "      <td>NaN</td>\n",
       "      <td>...</td>\n",
       "      <td>NaN</td>\n",
       "      <td>NaN</td>\n",
       "      <td>0.727113</td>\n",
       "      <td>20x</td>\n",
       "      <td>13332</td>\n",
       "      <td>13332</td>\n",
       "      <td>dorsolateral prefrontal cortex</td>\n",
       "      <td>NaN</td>\n",
       "      <td>151672</td>\n",
       "      <td>v1_0_0</td>\n",
       "    </tr>\n",
       "    <tr>\n",
       "      <th>1225</th>\n",
       "      <td>spatialLIBD</td>\n",
       "      <td>MISC4</td>\n",
       "      <td>MISC4.tif</td>\n",
       "      <td>Brain</td>\n",
       "      <td>Healthy</td>\n",
       "      <td>NaN</td>\n",
       "      <td>Homo sapiens</td>\n",
       "      <td></td>\n",
       "      <td>Visium</td>\n",
       "      <td>NaN</td>\n",
       "      <td>...</td>\n",
       "      <td>NaN</td>\n",
       "      <td>NaN</td>\n",
       "      <td>0.726109</td>\n",
       "      <td>20x</td>\n",
       "      <td>13332</td>\n",
       "      <td>13332</td>\n",
       "      <td>dorsolateral prefrontal cortex</td>\n",
       "      <td>NaN</td>\n",
       "      <td>151673</td>\n",
       "      <td>v1_0_0</td>\n",
       "    </tr>\n",
       "    <tr>\n",
       "      <th>1226</th>\n",
       "      <td>spatialLIBD</td>\n",
       "      <td>MISC3</td>\n",
       "      <td>MISC3.tif</td>\n",
       "      <td>Brain</td>\n",
       "      <td>Healthy</td>\n",
       "      <td>NaN</td>\n",
       "      <td>Homo sapiens</td>\n",
       "      <td></td>\n",
       "      <td>Visium</td>\n",
       "      <td>NaN</td>\n",
       "      <td>...</td>\n",
       "      <td>NaN</td>\n",
       "      <td>NaN</td>\n",
       "      <td>0.725124</td>\n",
       "      <td>20x</td>\n",
       "      <td>13332</td>\n",
       "      <td>13332</td>\n",
       "      <td>dorsolateral prefrontal cortex</td>\n",
       "      <td>NaN</td>\n",
       "      <td>151674</td>\n",
       "      <td>v1_0_0</td>\n",
       "    </tr>\n",
       "    <tr>\n",
       "      <th>1227</th>\n",
       "      <td>spatialLIBD</td>\n",
       "      <td>MISC2</td>\n",
       "      <td>MISC2.tif</td>\n",
       "      <td>Brain</td>\n",
       "      <td>Healthy</td>\n",
       "      <td>NaN</td>\n",
       "      <td>Homo sapiens</td>\n",
       "      <td></td>\n",
       "      <td>Visium</td>\n",
       "      <td>NaN</td>\n",
       "      <td>...</td>\n",
       "      <td>NaN</td>\n",
       "      <td>NaN</td>\n",
       "      <td>0.726109</td>\n",
       "      <td>20x</td>\n",
       "      <td>13332</td>\n",
       "      <td>13332</td>\n",
       "      <td>dorsolateral prefrontal cortex</td>\n",
       "      <td>NaN</td>\n",
       "      <td>151675</td>\n",
       "      <td>v1_0_0</td>\n",
       "    </tr>\n",
       "    <tr>\n",
       "      <th>1228</th>\n",
       "      <td>spatialLIBD</td>\n",
       "      <td>MISC1</td>\n",
       "      <td>MISC1.tif</td>\n",
       "      <td>Brain</td>\n",
       "      <td>Healthy</td>\n",
       "      <td>NaN</td>\n",
       "      <td>Homo sapiens</td>\n",
       "      <td></td>\n",
       "      <td>Visium</td>\n",
       "      <td>NaN</td>\n",
       "      <td>...</td>\n",
       "      <td>NaN</td>\n",
       "      <td>NaN</td>\n",
       "      <td>0.726109</td>\n",
       "      <td>20x</td>\n",
       "      <td>13332</td>\n",
       "      <td>13332</td>\n",
       "      <td>dorsolateral prefrontal cortex</td>\n",
       "      <td>NaN</td>\n",
       "      <td>151676</td>\n",
       "      <td>v1_0_0</td>\n",
       "    </tr>\n",
       "  </tbody>\n",
       "</table>\n",
       "<p>1229 rows × 28 columns</p>\n",
       "</div>"
      ],
      "text/plain": [
       "                                          dataset_title       id  \\\n",
       "0     Fresh Frozen Mouse Brain Hemisphere with 5K Mo...  TENX159   \n",
       "1     FFPE Human Skin Primary Dermal Melanoma with 5...  TENX158   \n",
       "2     FFPE Human Prostate Adenocarcinoma with 5K Hum...  TENX157   \n",
       "3     Characterization of immune cell populations in...  TENX156   \n",
       "4     Characterization of immune cell populations in...  TENX155   \n",
       "...                                                 ...      ...   \n",
       "1224                                        spatialLIBD    MISC5   \n",
       "1225                                        spatialLIBD    MISC4   \n",
       "1226                                        spatialLIBD    MISC3   \n",
       "1227                                        spatialLIBD    MISC2   \n",
       "1228                                        spatialLIBD    MISC1   \n",
       "\n",
       "     image_filename     organ disease_state oncotree_code       species  \\\n",
       "0       TENX159.tif     Brain       Healthy           NaN  Mus musculus   \n",
       "1       TENX158.tif      Skin        Cancer          SKCM  Homo sapiens   \n",
       "2       TENX157.tif  Prostate        Cancer          PRAD  Homo sapiens   \n",
       "3       TENX156.tif     Bowel        Cancer          COAD  Homo sapiens   \n",
       "4       TENX155.tif     Bowel        Cancer          COAD  Homo sapiens   \n",
       "...             ...       ...           ...           ...           ...   \n",
       "1224      MISC5.tif     Brain       Healthy           NaN  Homo sapiens   \n",
       "1225      MISC4.tif     Brain       Healthy           NaN  Homo sapiens   \n",
       "1226      MISC3.tif     Brain       Healthy           NaN  Homo sapiens   \n",
       "1227      MISC2.tif     Brain       Healthy           NaN  Homo sapiens   \n",
       "1228      MISC1.tif     Brain       Healthy           NaN  Homo sapiens   \n",
       "\n",
       "        patient st_technology data_publication_date  ... treatment_comment  \\\n",
       "0           NaN        Xenium               7/31/24  ...               NaN   \n",
       "1           NaN        Xenium               7/31/24  ...               NaN   \n",
       "2           NaN        Xenium               7/31/24  ...               NaN   \n",
       "3     Patient 1     Visium HD               7/11/24  ...               NaN   \n",
       "4     Patient 1     Visium HD               7/11/24  ...               NaN   \n",
       "...         ...           ...                   ...  ...               ...   \n",
       "1224                   Visium                   NaN  ...               NaN   \n",
       "1225                   Visium                   NaN  ...               NaN   \n",
       "1226                   Visium                   NaN  ...               NaN   \n",
       "1227                   Visium                   NaN  ...               NaN   \n",
       "1228                   Visium                   NaN  ...               NaN   \n",
       "\n",
       "     pixel_size_um_embedded pixel_size_um_estimated  magnification  \\\n",
       "0                  0.273768                0.274027            40x   \n",
       "1                  0.273777                0.273754            40x   \n",
       "2                  0.273772                0.273741            40x   \n",
       "3                  0.264583                0.273802            40x   \n",
       "4                  0.264583                0.273874            40x   \n",
       "...                     ...                     ...            ...   \n",
       "1224                    NaN                0.727113            20x   \n",
       "1225                    NaN                0.726109            20x   \n",
       "1226                    NaN                0.725124            20x   \n",
       "1227                    NaN                0.726109            20x   \n",
       "1228                    NaN                0.726109            20x   \n",
       "\n",
       "      fullres_px_width  fullres_px_height                          tissue  \\\n",
       "0                17051              24689                           Brain   \n",
       "1                18669              35787                            Skin   \n",
       "2                25002              49976                        Prostate   \n",
       "3                71106              58791                           Colon   \n",
       "4                75250              48740                           Colon   \n",
       "...                ...                ...                             ...   \n",
       "1224             13332              13332  dorsolateral prefrontal cortex   \n",
       "1225             13332              13332  dorsolateral prefrontal cortex   \n",
       "1226             13332              13332  dorsolateral prefrontal cortex   \n",
       "1227             13332              13332  dorsolateral prefrontal cortex   \n",
       "1228             13332              13332  dorsolateral prefrontal cortex   \n",
       "\n",
       "               disease_comment                 subseries  hest_version_added  \n",
       "0                          NaN                       NaN              v1_1_0  \n",
       "1     Primary Dermal Melanoma                        NaN              v1_1_0  \n",
       "2                          NaN                       NaN              v1_1_0  \n",
       "3                  Stage II-A   Visium HD, Sample P1 CRC              v1_1_0  \n",
       "4                          NaN  Visium HD, Sample P2 CRC              v1_1_0  \n",
       "...                        ...                       ...                 ...  \n",
       "1224                       NaN                    151672              v1_0_0  \n",
       "1225                       NaN                    151673              v1_0_0  \n",
       "1226                       NaN                    151674              v1_0_0  \n",
       "1227                       NaN                    151675              v1_0_0  \n",
       "1228                       NaN                    151676              v1_0_0  \n",
       "\n",
       "[1229 rows x 28 columns]"
      ]
     },
     "execution_count": 3,
     "metadata": {},
     "output_type": "execute_result"
    }
   ],
   "source": [
    "meta_df"
   ]
  },
  {
   "cell_type": "code",
   "execution_count": 4,
   "id": "273d5fb6-cfd0-4a06-b287-83748894bfff",
   "metadata": {},
   "outputs": [],
   "source": [
    "# Filter the dataframe by organ, oncotree code...\n",
    "meta_df = meta_df[meta_df['st_technology'] == 'Visium']\n",
    "meta_df = meta_df[meta_df['species'] == 'Homo sapiens']\n",
    "meta_df = meta_df[meta_df['disease_state'] == 'Cancer']"
   ]
  },
  {
   "cell_type": "code",
   "execution_count": 5,
   "id": "3da9ea4e-311b-4101-b68f-3b43b639f2a1",
   "metadata": {
    "scrolled": true
   },
   "outputs": [
    {
     "data": {
      "text/html": [
       "<div>\n",
       "<style scoped>\n",
       "    .dataframe tbody tr th:only-of-type {\n",
       "        vertical-align: middle;\n",
       "    }\n",
       "\n",
       "    .dataframe tbody tr th {\n",
       "        vertical-align: top;\n",
       "    }\n",
       "\n",
       "    .dataframe thead th {\n",
       "        text-align: right;\n",
       "    }\n",
       "</style>\n",
       "<table border=\"1\" class=\"dataframe\">\n",
       "  <thead>\n",
       "    <tr style=\"text-align: right;\">\n",
       "      <th></th>\n",
       "      <th>dataset_title</th>\n",
       "      <th>id</th>\n",
       "      <th>image_filename</th>\n",
       "      <th>organ</th>\n",
       "      <th>disease_state</th>\n",
       "      <th>oncotree_code</th>\n",
       "      <th>species</th>\n",
       "      <th>patient</th>\n",
       "      <th>st_technology</th>\n",
       "      <th>data_publication_date</th>\n",
       "      <th>...</th>\n",
       "      <th>treatment_comment</th>\n",
       "      <th>pixel_size_um_embedded</th>\n",
       "      <th>pixel_size_um_estimated</th>\n",
       "      <th>magnification</th>\n",
       "      <th>fullres_px_width</th>\n",
       "      <th>fullres_px_height</th>\n",
       "      <th>tissue</th>\n",
       "      <th>disease_comment</th>\n",
       "      <th>subseries</th>\n",
       "      <th>hest_version_added</th>\n",
       "    </tr>\n",
       "  </thead>\n",
       "  <tbody>\n",
       "    <tr>\n",
       "      <th>7</th>\n",
       "      <td>Characterization of immune cell populations in...</td>\n",
       "      <td>TENX152</td>\n",
       "      <td>TENX152.tif</td>\n",
       "      <td>Bowel</td>\n",
       "      <td>Cancer</td>\n",
       "      <td>COAD</td>\n",
       "      <td>Homo sapiens</td>\n",
       "      <td>Patient 1</td>\n",
       "      <td>Visium</td>\n",
       "      <td>7/11/24</td>\n",
       "      <td>...</td>\n",
       "      <td>NaN</td>\n",
       "      <td>0.264583</td>\n",
       "      <td>0.273724</td>\n",
       "      <td>40x</td>\n",
       "      <td>76190</td>\n",
       "      <td>49099</td>\n",
       "      <td>Colon</td>\n",
       "      <td>NaN</td>\n",
       "      <td>Visium CytAssist v2, Sample P2 CRC</td>\n",
       "      <td>v1_1_0</td>\n",
       "    </tr>\n",
       "    <tr>\n",
       "      <th>80</th>\n",
       "      <td>COLON MAP: Colon Molecular Atlas Project</td>\n",
       "      <td>MISC73</td>\n",
       "      <td>MISC73.tif</td>\n",
       "      <td>Bowel</td>\n",
       "      <td>Cancer</td>\n",
       "      <td>COAD</td>\n",
       "      <td>Homo sapiens</td>\n",
       "      <td></td>\n",
       "      <td>Visium</td>\n",
       "      <td>December 7 2023</td>\n",
       "      <td>...</td>\n",
       "      <td>NaN</td>\n",
       "      <td>1.000000</td>\n",
       "      <td>0.275683</td>\n",
       "      <td>40x</td>\n",
       "      <td>40647</td>\n",
       "      <td>37511</td>\n",
       "      <td>Colon</td>\n",
       "      <td>Not otherwise specified</td>\n",
       "      <td>6723_KL_1</td>\n",
       "      <td>v1_1_0</td>\n",
       "    </tr>\n",
       "    <tr>\n",
       "      <th>81</th>\n",
       "      <td>COLON MAP: Colon Molecular Atlas Project</td>\n",
       "      <td>MISC72</td>\n",
       "      <td>MISC72.tif</td>\n",
       "      <td>Bowel</td>\n",
       "      <td>Cancer</td>\n",
       "      <td>COAD</td>\n",
       "      <td>Homo sapiens</td>\n",
       "      <td></td>\n",
       "      <td>Visium</td>\n",
       "      <td>December 7 2023</td>\n",
       "      <td>...</td>\n",
       "      <td>NaN</td>\n",
       "      <td>1.000000</td>\n",
       "      <td>0.276277</td>\n",
       "      <td>40x</td>\n",
       "      <td>35672</td>\n",
       "      <td>31259</td>\n",
       "      <td>Colon</td>\n",
       "      <td>Not otherwise specified</td>\n",
       "      <td>6723_KL_2</td>\n",
       "      <td>v1_1_0</td>\n",
       "    </tr>\n",
       "    <tr>\n",
       "      <th>82</th>\n",
       "      <td>COLON MAP: Colon Molecular Atlas Project</td>\n",
       "      <td>MISC71</td>\n",
       "      <td>MISC71.tif</td>\n",
       "      <td>Bowel</td>\n",
       "      <td>Cancer</td>\n",
       "      <td>COAD</td>\n",
       "      <td>Homo sapiens</td>\n",
       "      <td></td>\n",
       "      <td>Visium</td>\n",
       "      <td>December 7 2023</td>\n",
       "      <td>...</td>\n",
       "      <td>NaN</td>\n",
       "      <td>1.000000</td>\n",
       "      <td>0.275651</td>\n",
       "      <td>40x</td>\n",
       "      <td>43347</td>\n",
       "      <td>34811</td>\n",
       "      <td>Colon</td>\n",
       "      <td>Not otherwise specified</td>\n",
       "      <td>6723_KL_3</td>\n",
       "      <td>v1_1_0</td>\n",
       "    </tr>\n",
       "    <tr>\n",
       "      <th>83</th>\n",
       "      <td>COLON MAP: Colon Molecular Atlas Project</td>\n",
       "      <td>MISC70</td>\n",
       "      <td>MISC70.tif</td>\n",
       "      <td>Bowel</td>\n",
       "      <td>Cancer</td>\n",
       "      <td>COAD</td>\n",
       "      <td>Homo sapiens</td>\n",
       "      <td></td>\n",
       "      <td>Visium</td>\n",
       "      <td>December 7 2023</td>\n",
       "      <td>...</td>\n",
       "      <td>NaN</td>\n",
       "      <td>1.000000</td>\n",
       "      <td>0.275953</td>\n",
       "      <td>40x</td>\n",
       "      <td>31693</td>\n",
       "      <td>32000</td>\n",
       "      <td>Colon</td>\n",
       "      <td>Not otherwise specified</td>\n",
       "      <td>6723_KL_4</td>\n",
       "      <td>v1_1_0</td>\n",
       "    </tr>\n",
       "    <tr>\n",
       "      <th>...</th>\n",
       "      <td>...</td>\n",
       "      <td>...</td>\n",
       "      <td>...</td>\n",
       "      <td>...</td>\n",
       "      <td>...</td>\n",
       "      <td>...</td>\n",
       "      <td>...</td>\n",
       "      <td>...</td>\n",
       "      <td>...</td>\n",
       "      <td>...</td>\n",
       "      <td>...</td>\n",
       "      <td>...</td>\n",
       "      <td>...</td>\n",
       "      <td>...</td>\n",
       "      <td>...</td>\n",
       "      <td>...</td>\n",
       "      <td>...</td>\n",
       "      <td>...</td>\n",
       "      <td>...</td>\n",
       "      <td>...</td>\n",
       "      <td>...</td>\n",
       "    </tr>\n",
       "    <tr>\n",
       "      <th>711</th>\n",
       "      <td>Schwann Cells Shape Tumor Cells and Cancer-Ass...</td>\n",
       "      <td>NCBI571</td>\n",
       "      <td>NCBI571.tif</td>\n",
       "      <td>Pancreas</td>\n",
       "      <td>Cancer</td>\n",
       "      <td>PAAD</td>\n",
       "      <td>Homo sapiens</td>\n",
       "      <td>NaN</td>\n",
       "      <td>Visium</td>\n",
       "      <td>30-May-23</td>\n",
       "      <td>...</td>\n",
       "      <td>NaN</td>\n",
       "      <td>0.000549</td>\n",
       "      <td>0.546779</td>\n",
       "      <td>20x</td>\n",
       "      <td>14592</td>\n",
       "      <td>14592</td>\n",
       "      <td>Pancreas</td>\n",
       "      <td>NaN</td>\n",
       "      <td>ST_PDAC-2</td>\n",
       "      <td>v1_0_0</td>\n",
       "    </tr>\n",
       "    <tr>\n",
       "      <th>712</th>\n",
       "      <td>Schwann Cells Shape Tumor Cells and Cancer-Ass...</td>\n",
       "      <td>NCBI570</td>\n",
       "      <td>NCBI570.tif</td>\n",
       "      <td>Pancreas</td>\n",
       "      <td>Cancer</td>\n",
       "      <td>PAAD</td>\n",
       "      <td>Homo sapiens</td>\n",
       "      <td>NaN</td>\n",
       "      <td>Visium</td>\n",
       "      <td>30-May-23</td>\n",
       "      <td>...</td>\n",
       "      <td>NaN</td>\n",
       "      <td>0.000549</td>\n",
       "      <td>0.546164</td>\n",
       "      <td>20x</td>\n",
       "      <td>14592</td>\n",
       "      <td>14336</td>\n",
       "      <td>Pancreas</td>\n",
       "      <td>NaN</td>\n",
       "      <td>ST_PDAC-3</td>\n",
       "      <td>v1_0_0</td>\n",
       "    </tr>\n",
       "    <tr>\n",
       "      <th>713</th>\n",
       "      <td>Schwann Cells Shape Tumor Cells and Cancer-Ass...</td>\n",
       "      <td>NCBI569</td>\n",
       "      <td>NCBI569.tif</td>\n",
       "      <td>Pancreas</td>\n",
       "      <td>Cancer</td>\n",
       "      <td>PAAD</td>\n",
       "      <td>Homo sapiens</td>\n",
       "      <td>NaN</td>\n",
       "      <td>Visium</td>\n",
       "      <td>30-May-23</td>\n",
       "      <td>...</td>\n",
       "      <td>NaN</td>\n",
       "      <td>0.000549</td>\n",
       "      <td>0.546779</td>\n",
       "      <td>20x</td>\n",
       "      <td>14336</td>\n",
       "      <td>14592</td>\n",
       "      <td>Pancreas</td>\n",
       "      <td>NaN</td>\n",
       "      <td>ST_PDAC-4</td>\n",
       "      <td>v1_0_0</td>\n",
       "    </tr>\n",
       "    <tr>\n",
       "      <th>1195</th>\n",
       "      <td>Spatiotemporally Deciphering the Unknown Role ...</td>\n",
       "      <td>NCBI2</td>\n",
       "      <td>NCBI2.tif</td>\n",
       "      <td>Cervix</td>\n",
       "      <td>Cancer</td>\n",
       "      <td>UNKNOWN</td>\n",
       "      <td>Homo sapiens</td>\n",
       "      <td>NaN</td>\n",
       "      <td>Visium</td>\n",
       "      <td>2-Apr-23</td>\n",
       "      <td>...</td>\n",
       "      <td>NaN</td>\n",
       "      <td>NaN</td>\n",
       "      <td>0.853226</td>\n",
       "      <td>20x</td>\n",
       "      <td>10322</td>\n",
       "      <td>9666</td>\n",
       "      <td>Cervical tissue</td>\n",
       "      <td>Cancer HPV positive</td>\n",
       "      <td>CA_HPV, replicate 1, Spatial Transcriptomics</td>\n",
       "      <td>v1_0_0</td>\n",
       "    </tr>\n",
       "    <tr>\n",
       "      <th>1196</th>\n",
       "      <td>Spatiotemporally Deciphering the Unknown Role ...</td>\n",
       "      <td>NCBI1</td>\n",
       "      <td>NCBI1.tif</td>\n",
       "      <td>Cervix</td>\n",
       "      <td>Cancer</td>\n",
       "      <td>UNKNOWN</td>\n",
       "      <td>Homo sapiens</td>\n",
       "      <td>NaN</td>\n",
       "      <td>Visium</td>\n",
       "      <td>2-Apr-23</td>\n",
       "      <td>...</td>\n",
       "      <td>NaN</td>\n",
       "      <td>NaN</td>\n",
       "      <td>0.882189</td>\n",
       "      <td>20x</td>\n",
       "      <td>10159</td>\n",
       "      <td>9762</td>\n",
       "      <td>Cervical tissue</td>\n",
       "      <td>Cancer HPV positive</td>\n",
       "      <td>CA_HPV, replicate 2, Spatial Transcriptomics</td>\n",
       "      <td>v1_0_0</td>\n",
       "    </tr>\n",
       "  </tbody>\n",
       "</table>\n",
       "<p>172 rows × 28 columns</p>\n",
       "</div>"
      ],
      "text/plain": [
       "                                          dataset_title       id  \\\n",
       "7     Characterization of immune cell populations in...  TENX152   \n",
       "80             COLON MAP: Colon Molecular Atlas Project   MISC73   \n",
       "81             COLON MAP: Colon Molecular Atlas Project   MISC72   \n",
       "82             COLON MAP: Colon Molecular Atlas Project   MISC71   \n",
       "83             COLON MAP: Colon Molecular Atlas Project   MISC70   \n",
       "...                                                 ...      ...   \n",
       "711   Schwann Cells Shape Tumor Cells and Cancer-Ass...  NCBI571   \n",
       "712   Schwann Cells Shape Tumor Cells and Cancer-Ass...  NCBI570   \n",
       "713   Schwann Cells Shape Tumor Cells and Cancer-Ass...  NCBI569   \n",
       "1195  Spatiotemporally Deciphering the Unknown Role ...    NCBI2   \n",
       "1196  Spatiotemporally Deciphering the Unknown Role ...    NCBI1   \n",
       "\n",
       "     image_filename     organ disease_state oncotree_code       species  \\\n",
       "7       TENX152.tif     Bowel        Cancer          COAD  Homo sapiens   \n",
       "80       MISC73.tif     Bowel        Cancer          COAD  Homo sapiens   \n",
       "81       MISC72.tif     Bowel        Cancer          COAD  Homo sapiens   \n",
       "82       MISC71.tif     Bowel        Cancer          COAD  Homo sapiens   \n",
       "83       MISC70.tif     Bowel        Cancer          COAD  Homo sapiens   \n",
       "...             ...       ...           ...           ...           ...   \n",
       "711     NCBI571.tif  Pancreas        Cancer          PAAD  Homo sapiens   \n",
       "712     NCBI570.tif  Pancreas        Cancer          PAAD  Homo sapiens   \n",
       "713     NCBI569.tif  Pancreas        Cancer          PAAD  Homo sapiens   \n",
       "1195      NCBI2.tif    Cervix        Cancer       UNKNOWN  Homo sapiens   \n",
       "1196      NCBI1.tif    Cervix        Cancer       UNKNOWN  Homo sapiens   \n",
       "\n",
       "        patient st_technology data_publication_date  ... treatment_comment  \\\n",
       "7     Patient 1        Visium               7/11/24  ...               NaN   \n",
       "80                     Visium       December 7 2023  ...               NaN   \n",
       "81                     Visium       December 7 2023  ...               NaN   \n",
       "82                     Visium       December 7 2023  ...               NaN   \n",
       "83                     Visium       December 7 2023  ...               NaN   \n",
       "...         ...           ...                   ...  ...               ...   \n",
       "711         NaN        Visium             30-May-23  ...               NaN   \n",
       "712         NaN        Visium             30-May-23  ...               NaN   \n",
       "713         NaN        Visium             30-May-23  ...               NaN   \n",
       "1195        NaN        Visium              2-Apr-23  ...               NaN   \n",
       "1196        NaN        Visium              2-Apr-23  ...               NaN   \n",
       "\n",
       "     pixel_size_um_embedded pixel_size_um_estimated  magnification  \\\n",
       "7                  0.264583                0.273724            40x   \n",
       "80                 1.000000                0.275683            40x   \n",
       "81                 1.000000                0.276277            40x   \n",
       "82                 1.000000                0.275651            40x   \n",
       "83                 1.000000                0.275953            40x   \n",
       "...                     ...                     ...            ...   \n",
       "711                0.000549                0.546779            20x   \n",
       "712                0.000549                0.546164            20x   \n",
       "713                0.000549                0.546779            20x   \n",
       "1195                    NaN                0.853226            20x   \n",
       "1196                    NaN                0.882189            20x   \n",
       "\n",
       "      fullres_px_width  fullres_px_height           tissue  \\\n",
       "7                76190              49099            Colon   \n",
       "80               40647              37511            Colon   \n",
       "81               35672              31259            Colon   \n",
       "82               43347              34811            Colon   \n",
       "83               31693              32000            Colon   \n",
       "...                ...                ...              ...   \n",
       "711              14592              14592         Pancreas   \n",
       "712              14592              14336         Pancreas   \n",
       "713              14336              14592         Pancreas   \n",
       "1195             10322               9666  Cervical tissue   \n",
       "1196             10159               9762  Cervical tissue   \n",
       "\n",
       "              disease_comment                                     subseries  \\\n",
       "7                         NaN            Visium CytAssist v2, Sample P2 CRC   \n",
       "80    Not otherwise specified                                     6723_KL_1   \n",
       "81    Not otherwise specified                                     6723_KL_2   \n",
       "82    Not otherwise specified                                     6723_KL_3   \n",
       "83    Not otherwise specified                                     6723_KL_4   \n",
       "...                       ...                                           ...   \n",
       "711                       NaN                                     ST_PDAC-2   \n",
       "712                       NaN                                     ST_PDAC-3   \n",
       "713                       NaN                                     ST_PDAC-4   \n",
       "1195      Cancer HPV positive  CA_HPV, replicate 1, Spatial Transcriptomics   \n",
       "1196      Cancer HPV positive  CA_HPV, replicate 2, Spatial Transcriptomics   \n",
       "\n",
       "      hest_version_added  \n",
       "7                 v1_1_0  \n",
       "80                v1_1_0  \n",
       "81                v1_1_0  \n",
       "82                v1_1_0  \n",
       "83                v1_1_0  \n",
       "...                  ...  \n",
       "711               v1_0_0  \n",
       "712               v1_0_0  \n",
       "713               v1_0_0  \n",
       "1195              v1_0_0  \n",
       "1196              v1_0_0  \n",
       "\n",
       "[172 rows x 28 columns]"
      ]
     },
     "execution_count": 5,
     "metadata": {},
     "output_type": "execute_result"
    }
   ],
   "source": [
    "meta_df"
   ]
  },
  {
   "cell_type": "code",
   "execution_count": 6,
   "id": "d3a2ed91-cb35-4d82-a136-954a626203f2",
   "metadata": {},
   "outputs": [
    {
     "name": "stderr",
     "output_type": "stream",
     "text": [
      "/opt/conda/lib/python3.11/site-packages/datasets/load.py:1429: FutureWarning: The repository for MahmoodLab/hest contains custom code which must be executed to correctly load the dataset. You can inspect the repository content at https://hf.co/datasets/MahmoodLab/hest\n",
      "You can avoid this message in future by passing the argument `trust_remote_code=True`.\n",
      "Passing `trust_remote_code=True` will be mandatory to load this dataset from the next major release of `datasets`.\n",
      "  warnings.warn(\n"
     ]
    },
    {
     "data": {
      "application/vnd.jupyter.widget-view+json": {
       "model_id": "f68b88255d984cc3ba2e624147b37fcc",
       "version_major": 2,
       "version_minor": 0
      },
      "text/plain": [
       "Downloading builder script:   0%|          | 0.00/2.17k [00:00<?, ?B/s]"
      ]
     },
     "metadata": {},
     "output_type": "display_data"
    },
    {
     "data": {
      "application/vnd.jupyter.widget-view+json": {
       "model_id": "bb7d40ff956c450cb2d82f8c4e3f6dcc",
       "version_major": 2,
       "version_minor": 0
      },
      "text/plain": [
       "Downloading readme:   0%|          | 0.00/6.62k [00:00<?, ?B/s]"
      ]
     },
     "metadata": {},
     "output_type": "display_data"
    },
    {
     "data": {
      "application/vnd.jupyter.widget-view+json": {
       "model_id": "344fdd14a0f847609a53dad5d3c0ad99",
       "version_major": 2,
       "version_minor": 0
      },
      "text/plain": [
       "Fetching 822 files:   0%|          | 0/822 [00:00<?, ?it/s]"
      ]
     },
     "metadata": {},
     "output_type": "display_data"
    },
    {
     "data": {
      "application/vnd.jupyter.widget-view+json": {
       "model_id": "9e6ff8e243f44fb4881957309749e5f0",
       "version_major": 2,
       "version_minor": 0
      },
      "text/plain": [
       "INT11.json:   0%|          | 0.00/1.00k [00:00<?, ?B/s]"
      ]
     },
     "metadata": {},
     "output_type": "display_data"
    },
    {
     "data": {
      "application/vnd.jupyter.widget-view+json": {
       "model_id": "ff2169c1fecd4470ad25df0de9491616",
       "version_major": 2,
       "version_minor": 0
      },
      "text/plain": [
       "INT14.json:   0%|          | 0.00/1.01k [00:00<?, ?B/s]"
      ]
     },
     "metadata": {},
     "output_type": "display_data"
    },
    {
     "data": {
      "application/vnd.jupyter.widget-view+json": {
       "model_id": "db600e843a3c4bcfb703e9c6d03f3abd",
       "version_major": 2,
       "version_minor": 0
      },
      "text/plain": [
       "INT10.json:   0%|          | 0.00/1.01k [00:00<?, ?B/s]"
      ]
     },
     "metadata": {},
     "output_type": "display_data"
    },
    {
     "data": {
      "application/vnd.jupyter.widget-view+json": {
       "model_id": "744a02dc75254ab18f64e1df0d55bbc2",
       "version_major": 2,
       "version_minor": 0
      },
      "text/plain": [
       "INT1.json:   0%|          | 0.00/1.01k [00:00<?, ?B/s]"
      ]
     },
     "metadata": {},
     "output_type": "display_data"
    },
    {
     "data": {
      "application/vnd.jupyter.widget-view+json": {
       "model_id": "acb418748560498fb5c817e43d0e17c9",
       "version_major": 2,
       "version_minor": 0
      },
      "text/plain": [
       "INT12.json:   0%|          | 0.00/1.01k [00:00<?, ?B/s]"
      ]
     },
     "metadata": {},
     "output_type": "display_data"
    },
    {
     "data": {
      "application/vnd.jupyter.widget-view+json": {
       "model_id": "8bcbd7d6fa2a4171a6aabcfd9d3441c1",
       "version_major": 2,
       "version_minor": 0
      },
      "text/plain": [
       "INT15.json:   0%|          | 0.00/1.01k [00:00<?, ?B/s]"
      ]
     },
     "metadata": {},
     "output_type": "display_data"
    },
    {
     "data": {
      "application/vnd.jupyter.widget-view+json": {
       "model_id": "9a0daf46c79b423788f3985f1608b630",
       "version_major": 2,
       "version_minor": 0
      },
      "text/plain": [
       "INT13.json:   0%|          | 0.00/1.01k [00:00<?, ?B/s]"
      ]
     },
     "metadata": {},
     "output_type": "display_data"
    },
    {
     "data": {
      "application/vnd.jupyter.widget-view+json": {
       "model_id": "2dc40e96df6e4985af12a91c46df0cf8",
       "version_major": 2,
       "version_minor": 0
      },
      "text/plain": [
       "INT16.json:   0%|          | 0.00/1.00k [00:00<?, ?B/s]"
      ]
     },
     "metadata": {},
     "output_type": "display_data"
    },
    {
     "data": {
      "application/vnd.jupyter.widget-view+json": {
       "model_id": "5403c277e6104732b9c3ce9d1fe5f003",
       "version_major": 2,
       "version_minor": 0
      },
      "text/plain": [
       "INT19.json:   0%|          | 0.00/1.01k [00:00<?, ?B/s]"
      ]
     },
     "metadata": {},
     "output_type": "display_data"
    },
    {
     "data": {
      "application/vnd.jupyter.widget-view+json": {
       "model_id": "ab9b5996ae9f4ad79c6645e3756d80a0",
       "version_major": 2,
       "version_minor": 0
      },
      "text/plain": [
       "INT2.json:   0%|          | 0.00/1.01k [00:00<?, ?B/s]"
      ]
     },
     "metadata": {},
     "output_type": "display_data"
    },
    {
     "data": {
      "application/vnd.jupyter.widget-view+json": {
       "model_id": "1243647396704337a0bace14b0326f92",
       "version_major": 2,
       "version_minor": 0
      },
      "text/plain": [
       "INT20.json:   0%|          | 0.00/1.01k [00:00<?, ?B/s]"
      ]
     },
     "metadata": {},
     "output_type": "display_data"
    },
    {
     "data": {
      "application/vnd.jupyter.widget-view+json": {
       "model_id": "1b829c18c55046d6973d29fc25517b97",
       "version_major": 2,
       "version_minor": 0
      },
      "text/plain": [
       "INT17.json:   0%|          | 0.00/1.01k [00:00<?, ?B/s]"
      ]
     },
     "metadata": {},
     "output_type": "display_data"
    },
    {
     "data": {
      "application/vnd.jupyter.widget-view+json": {
       "model_id": "83ac052b91aa40fb94be537c083e3e57",
       "version_major": 2,
       "version_minor": 0
      },
      "text/plain": [
       "INT22.json:   0%|          | 0.00/1.00k [00:00<?, ?B/s]"
      ]
     },
     "metadata": {},
     "output_type": "display_data"
    },
    {
     "data": {
      "application/vnd.jupyter.widget-view+json": {
       "model_id": "dbae9d4328db48519bb3cb8f72299d9c",
       "version_major": 2,
       "version_minor": 0
      },
      "text/plain": [
       "INT18.json:   0%|          | 0.00/1.01k [00:00<?, ?B/s]"
      ]
     },
     "metadata": {},
     "output_type": "display_data"
    },
    {
     "data": {
      "application/vnd.jupyter.widget-view+json": {
       "model_id": "2b8a2c66c55c43d893d0517b45d71efc",
       "version_major": 2,
       "version_minor": 0
      },
      "text/plain": [
       "INT23.json:   0%|          | 0.00/1.00k [00:00<?, ?B/s]"
      ]
     },
     "metadata": {},
     "output_type": "display_data"
    },
    {
     "data": {
      "application/vnd.jupyter.widget-view+json": {
       "model_id": "27cac65c752e470182d37e7416538690",
       "version_major": 2,
       "version_minor": 0
      },
      "text/plain": [
       "INT21.json:   0%|          | 0.00/1.00k [00:00<?, ?B/s]"
      ]
     },
     "metadata": {},
     "output_type": "display_data"
    },
    {
     "data": {
      "application/vnd.jupyter.widget-view+json": {
       "model_id": "e2c8a249c7bd4a50ae41a5310550e720",
       "version_major": 2,
       "version_minor": 0
      },
      "text/plain": [
       "INT24.json:   0%|          | 0.00/1.00k [00:00<?, ?B/s]"
      ]
     },
     "metadata": {},
     "output_type": "display_data"
    },
    {
     "data": {
      "application/vnd.jupyter.widget-view+json": {
       "model_id": "82f563c4f20345868fde5944590113c2",
       "version_major": 2,
       "version_minor": 0
      },
      "text/plain": [
       "INT25.json:   0%|          | 0.00/1.80k [00:00<?, ?B/s]"
      ]
     },
     "metadata": {},
     "output_type": "display_data"
    },
    {
     "data": {
      "application/vnd.jupyter.widget-view+json": {
       "model_id": "5d05a87cae8a4335b2c73731cc02aa62",
       "version_major": 2,
       "version_minor": 0
      },
      "text/plain": [
       "INT26.json:   0%|          | 0.00/1.80k [00:00<?, ?B/s]"
      ]
     },
     "metadata": {},
     "output_type": "display_data"
    },
    {
     "data": {
      "application/vnd.jupyter.widget-view+json": {
       "model_id": "e193250f5114429185501a7805adfd95",
       "version_major": 2,
       "version_minor": 0
      },
      "text/plain": [
       "INT3.json:   0%|          | 0.00/1.00k [00:00<?, ?B/s]"
      ]
     },
     "metadata": {},
     "output_type": "display_data"
    },
    {
     "data": {
      "application/vnd.jupyter.widget-view+json": {
       "model_id": "7beeaa9d56a14883b1478419fe64e0ca",
       "version_major": 2,
       "version_minor": 0
      },
      "text/plain": [
       "INT27.json:   0%|          | 0.00/1.80k [00:00<?, ?B/s]"
      ]
     },
     "metadata": {},
     "output_type": "display_data"
    },
    {
     "data": {
      "application/vnd.jupyter.widget-view+json": {
       "model_id": "f60b4b7262df40d68c225e68fcaf0fff",
       "version_major": 2,
       "version_minor": 0
      },
      "text/plain": [
       "INT35.json:   0%|          | 0.00/1.80k [00:00<?, ?B/s]"
      ]
     },
     "metadata": {},
     "output_type": "display_data"
    },
    {
     "data": {
      "application/vnd.jupyter.widget-view+json": {
       "model_id": "31d9e6a7de4f4604bebda0ef6c4235cc",
       "version_major": 2,
       "version_minor": 0
      },
      "text/plain": [
       "INT4.json:   0%|          | 0.00/1.00k [00:00<?, ?B/s]"
      ]
     },
     "metadata": {},
     "output_type": "display_data"
    },
    {
     "data": {
      "application/vnd.jupyter.widget-view+json": {
       "model_id": "37184e1ca8a545eeb32108b4ad337742",
       "version_major": 2,
       "version_minor": 0
      },
      "text/plain": [
       "INT28.json:   0%|          | 0.00/1.80k [00:00<?, ?B/s]"
      ]
     },
     "metadata": {},
     "output_type": "display_data"
    },
    {
     "data": {
      "application/vnd.jupyter.widget-view+json": {
       "model_id": "09abfc512ef34c4294ea167ffa4b7c00",
       "version_major": 2,
       "version_minor": 0
      },
      "text/plain": [
       "INT5.json:   0%|          | 0.00/1.01k [00:00<?, ?B/s]"
      ]
     },
     "metadata": {},
     "output_type": "display_data"
    },
    {
     "data": {
      "application/vnd.jupyter.widget-view+json": {
       "model_id": "cbc6f7636b444107bb71eb91e343158e",
       "version_major": 2,
       "version_minor": 0
      },
      "text/plain": [
       "MEND141.json:   0%|          | 0.00/1.07k [00:00<?, ?B/s]"
      ]
     },
     "metadata": {},
     "output_type": "display_data"
    },
    {
     "data": {
      "application/vnd.jupyter.widget-view+json": {
       "model_id": "6015920d6b0d4e4ca511d6b67b287ca2",
       "version_major": 2,
       "version_minor": 0
      },
      "text/plain": [
       "INT9.json:   0%|          | 0.00/1.00k [00:00<?, ?B/s]"
      ]
     },
     "metadata": {},
     "output_type": "display_data"
    },
    {
     "data": {
      "application/vnd.jupyter.widget-view+json": {
       "model_id": "93f34e129dad4135a8cf51ab0cbe4b0d",
       "version_major": 2,
       "version_minor": 0
      },
      "text/plain": [
       "INT7.json:   0%|          | 0.00/1.00k [00:00<?, ?B/s]"
      ]
     },
     "metadata": {},
     "output_type": "display_data"
    },
    {
     "data": {
      "application/vnd.jupyter.widget-view+json": {
       "model_id": "f38ae112754a4d668c4ab74df4aed3bc",
       "version_major": 2,
       "version_minor": 0
      },
      "text/plain": [
       "INT6.json:   0%|          | 0.00/1.01k [00:00<?, ?B/s]"
      ]
     },
     "metadata": {},
     "output_type": "display_data"
    },
    {
     "data": {
      "application/vnd.jupyter.widget-view+json": {
       "model_id": "cb9be5a8e6334451b78929c05eb76428",
       "version_major": 2,
       "version_minor": 0
      },
      "text/plain": [
       "MEND139.json:   0%|          | 0.00/1.07k [00:00<?, ?B/s]"
      ]
     },
     "metadata": {},
     "output_type": "display_data"
    },
    {
     "data": {
      "application/vnd.jupyter.widget-view+json": {
       "model_id": "918aa714891f4ddeac41c41983f1e6d6",
       "version_major": 2,
       "version_minor": 0
      },
      "text/plain": [
       "INT8.json:   0%|          | 0.00/1.00k [00:00<?, ?B/s]"
      ]
     },
     "metadata": {},
     "output_type": "display_data"
    },
    {
     "data": {
      "application/vnd.jupyter.widget-view+json": {
       "model_id": "7bab42ab629e4336a675c79f5fcb6332",
       "version_major": 2,
       "version_minor": 0
      },
      "text/plain": [
       "MEND140.json:   0%|          | 0.00/1.07k [00:00<?, ?B/s]"
      ]
     },
     "metadata": {},
     "output_type": "display_data"
    },
    {
     "data": {
      "application/vnd.jupyter.widget-view+json": {
       "model_id": "e6ca2875d16448ae95266a487533a462",
       "version_major": 2,
       "version_minor": 0
      },
      "text/plain": [
       "MEND142.json:   0%|          | 0.00/1.07k [00:00<?, ?B/s]"
      ]
     },
     "metadata": {},
     "output_type": "display_data"
    },
    {
     "data": {
      "application/vnd.jupyter.widget-view+json": {
       "model_id": "6be437e39ddc409b8f3f8d3092f32555",
       "version_major": 2,
       "version_minor": 0
      },
      "text/plain": [
       "MEND144.json:   0%|          | 0.00/1.07k [00:00<?, ?B/s]"
      ]
     },
     "metadata": {},
     "output_type": "display_data"
    },
    {
     "data": {
      "application/vnd.jupyter.widget-view+json": {
       "model_id": "34d8a270504b4fe781a8f7e9b7f08533",
       "version_major": 2,
       "version_minor": 0
      },
      "text/plain": [
       "MEND145.json:   0%|          | 0.00/1.07k [00:00<?, ?B/s]"
      ]
     },
     "metadata": {},
     "output_type": "display_data"
    },
    {
     "data": {
      "application/vnd.jupyter.widget-view+json": {
       "model_id": "7efa65bee5244f3a92f4612224c0be4e",
       "version_major": 2,
       "version_minor": 0
      },
      "text/plain": [
       "MEND146.json:   0%|          | 0.00/1.07k [00:00<?, ?B/s]"
      ]
     },
     "metadata": {},
     "output_type": "display_data"
    },
    {
     "data": {
      "application/vnd.jupyter.widget-view+json": {
       "model_id": "293d1161cafb4f058039068f052ec8d7",
       "version_major": 2,
       "version_minor": 0
      },
      "text/plain": [
       "MEND149.json:   0%|          | 0.00/1.07k [00:00<?, ?B/s]"
      ]
     },
     "metadata": {},
     "output_type": "display_data"
    },
    {
     "data": {
      "application/vnd.jupyter.widget-view+json": {
       "model_id": "322fb1a5cad14b9a9d07538c9d32c062",
       "version_major": 2,
       "version_minor": 0
      },
      "text/plain": [
       "MEND148.json:   0%|          | 0.00/1.07k [00:00<?, ?B/s]"
      ]
     },
     "metadata": {},
     "output_type": "display_data"
    },
    {
     "data": {
      "application/vnd.jupyter.widget-view+json": {
       "model_id": "ef923122fabf4ecdb9c1458676afc04c",
       "version_major": 2,
       "version_minor": 0
      },
      "text/plain": [
       "MEND147.json:   0%|          | 0.00/1.07k [00:00<?, ?B/s]"
      ]
     },
     "metadata": {},
     "output_type": "display_data"
    },
    {
     "data": {
      "application/vnd.jupyter.widget-view+json": {
       "model_id": "456769dd9a794bf5942cbf1bb12e16f9",
       "version_major": 2,
       "version_minor": 0
      },
      "text/plain": [
       "MEND143.json:   0%|          | 0.00/1.06k [00:00<?, ?B/s]"
      ]
     },
     "metadata": {},
     "output_type": "display_data"
    },
    {
     "data": {
      "application/vnd.jupyter.widget-view+json": {
       "model_id": "f64a8063b55544569093a3b70b01042f",
       "version_major": 2,
       "version_minor": 0
      },
      "text/plain": [
       "MEND150.json:   0%|          | 0.00/1.07k [00:00<?, ?B/s]"
      ]
     },
     "metadata": {},
     "output_type": "display_data"
    },
    {
     "data": {
      "application/vnd.jupyter.widget-view+json": {
       "model_id": "61224a854f4c429e946c4cea59b977c5",
       "version_major": 2,
       "version_minor": 0
      },
      "text/plain": [
       "MEND153.json:   0%|          | 0.00/1.07k [00:00<?, ?B/s]"
      ]
     },
     "metadata": {},
     "output_type": "display_data"
    },
    {
     "data": {
      "application/vnd.jupyter.widget-view+json": {
       "model_id": "b9578e91bd264a9fab028bd5c0503f8d",
       "version_major": 2,
       "version_minor": 0
      },
      "text/plain": [
       "MEND152.json:   0%|          | 0.00/1.07k [00:00<?, ?B/s]"
      ]
     },
     "metadata": {},
     "output_type": "display_data"
    },
    {
     "data": {
      "application/vnd.jupyter.widget-view+json": {
       "model_id": "1b38a047a5384e839ab8b80fd0543ef6",
       "version_major": 2,
       "version_minor": 0
      },
      "text/plain": [
       "MEND154.json:   0%|          | 0.00/1.07k [00:00<?, ?B/s]"
      ]
     },
     "metadata": {},
     "output_type": "display_data"
    },
    {
     "data": {
      "application/vnd.jupyter.widget-view+json": {
       "model_id": "d09949996e51429eb8478c3ab17189e5",
       "version_major": 2,
       "version_minor": 0
      },
      "text/plain": [
       "MEND151.json:   0%|          | 0.00/1.07k [00:00<?, ?B/s]"
      ]
     },
     "metadata": {},
     "output_type": "display_data"
    },
    {
     "data": {
      "application/vnd.jupyter.widget-view+json": {
       "model_id": "e4b3e882e76f4e72be2c18396b2a1a4f",
       "version_major": 2,
       "version_minor": 0
      },
      "text/plain": [
       "MEND158.json:   0%|          | 0.00/1.07k [00:00<?, ?B/s]"
      ]
     },
     "metadata": {},
     "output_type": "display_data"
    },
    {
     "data": {
      "application/vnd.jupyter.widget-view+json": {
       "model_id": "9a519f76194a462aad70f9a6003f728f",
       "version_major": 2,
       "version_minor": 0
      },
      "text/plain": [
       "MEND156.json:   0%|          | 0.00/1.07k [00:00<?, ?B/s]"
      ]
     },
     "metadata": {},
     "output_type": "display_data"
    },
    {
     "data": {
      "application/vnd.jupyter.widget-view+json": {
       "model_id": "0dd76e6d80d248a6b94aa959a710a7ef",
       "version_major": 2,
       "version_minor": 0
      },
      "text/plain": [
       "MEND157.json:   0%|          | 0.00/1.07k [00:00<?, ?B/s]"
      ]
     },
     "metadata": {},
     "output_type": "display_data"
    },
    {
     "data": {
      "application/vnd.jupyter.widget-view+json": {
       "model_id": "a5692ecf614946d883648f7eea728580",
       "version_major": 2,
       "version_minor": 0
      },
      "text/plain": [
       "MEND161.json:   0%|          | 0.00/1.07k [00:00<?, ?B/s]"
      ]
     },
     "metadata": {},
     "output_type": "display_data"
    },
    {
     "data": {
      "application/vnd.jupyter.widget-view+json": {
       "model_id": "9400cd0f076f46d1ac978aadd92eff61",
       "version_major": 2,
       "version_minor": 0
      },
      "text/plain": [
       "MEND159.json:   0%|          | 0.00/1.07k [00:00<?, ?B/s]"
      ]
     },
     "metadata": {},
     "output_type": "display_data"
    },
    {
     "data": {
      "application/vnd.jupyter.widget-view+json": {
       "model_id": "e16e543583864bfabf70e03be454fa9b",
       "version_major": 2,
       "version_minor": 0
      },
      "text/plain": [
       "MEND160.json:   0%|          | 0.00/1.07k [00:00<?, ?B/s]"
      ]
     },
     "metadata": {},
     "output_type": "display_data"
    },
    {
     "data": {
      "application/vnd.jupyter.widget-view+json": {
       "model_id": "4144339ae4fe44c9ab9372f3ab473ae6",
       "version_major": 2,
       "version_minor": 0
      },
      "text/plain": [
       "MEND162.json:   0%|          | 0.00/1.06k [00:00<?, ?B/s]"
      ]
     },
     "metadata": {},
     "output_type": "display_data"
    },
    {
     "data": {
      "application/vnd.jupyter.widget-view+json": {
       "model_id": "4c591dd66efc4c22be0272b9b9eaa209",
       "version_major": 2,
       "version_minor": 0
      },
      "text/plain": [
       "MEND40.json:   0%|          | 0.00/931 [00:00<?, ?B/s]"
      ]
     },
     "metadata": {},
     "output_type": "display_data"
    },
    {
     "data": {
      "application/vnd.jupyter.widget-view+json": {
       "model_id": "15650b837c014f0c81fce77eb240220b",
       "version_major": 2,
       "version_minor": 0
      },
      "text/plain": [
       "MEND37.json:   0%|          | 0.00/931 [00:00<?, ?B/s]"
      ]
     },
     "metadata": {},
     "output_type": "display_data"
    },
    {
     "data": {
      "application/vnd.jupyter.widget-view+json": {
       "model_id": "d0e1bc23746e4f60b32f1828f61e9cd3",
       "version_major": 2,
       "version_minor": 0
      },
      "text/plain": [
       "MEND59.json:   0%|          | 0.00/1.98k [00:00<?, ?B/s]"
      ]
     },
     "metadata": {},
     "output_type": "display_data"
    },
    {
     "data": {
      "application/vnd.jupyter.widget-view+json": {
       "model_id": "5886ae626d9148888e09d6a1ef978a71",
       "version_major": 2,
       "version_minor": 0
      },
      "text/plain": [
       "MEND38.json:   0%|          | 0.00/929 [00:00<?, ?B/s]"
      ]
     },
     "metadata": {},
     "output_type": "display_data"
    },
    {
     "data": {
      "application/vnd.jupyter.widget-view+json": {
       "model_id": "f1835c7a81284921bf62539fd849223f",
       "version_major": 2,
       "version_minor": 0
      },
      "text/plain": [
       "MEND39.json:   0%|          | 0.00/930 [00:00<?, ?B/s]"
      ]
     },
     "metadata": {},
     "output_type": "display_data"
    },
    {
     "data": {
      "application/vnd.jupyter.widget-view+json": {
       "model_id": "eed306069d974b50b0cf827985c6614f",
       "version_major": 2,
       "version_minor": 0
      },
      "text/plain": [
       "MEND61.json:   0%|          | 0.00/2.07k [00:00<?, ?B/s]"
      ]
     },
     "metadata": {},
     "output_type": "display_data"
    },
    {
     "data": {
      "application/vnd.jupyter.widget-view+json": {
       "model_id": "76634d116c5c4a78867c2dcb79779d01",
       "version_major": 2,
       "version_minor": 0
      },
      "text/plain": [
       "MEND60.json:   0%|          | 0.00/1.99k [00:00<?, ?B/s]"
      ]
     },
     "metadata": {},
     "output_type": "display_data"
    },
    {
     "data": {
      "application/vnd.jupyter.widget-view+json": {
       "model_id": "134339f2055040b4b8e74d944009abd6",
       "version_major": 2,
       "version_minor": 0
      },
      "text/plain": [
       "MEND63.json:   0%|          | 0.00/1.97k [00:00<?, ?B/s]"
      ]
     },
     "metadata": {},
     "output_type": "display_data"
    },
    {
     "data": {
      "application/vnd.jupyter.widget-view+json": {
       "model_id": "a1023285f6ee4c6ebe14bc6659af6850",
       "version_major": 2,
       "version_minor": 0
      },
      "text/plain": [
       "MEND65.json:   0%|          | 0.00/1.97k [00:00<?, ?B/s]"
      ]
     },
     "metadata": {},
     "output_type": "display_data"
    },
    {
     "data": {
      "application/vnd.jupyter.widget-view+json": {
       "model_id": "79ecee585e4e404fb09f65727219fcc0",
       "version_major": 2,
       "version_minor": 0
      },
      "text/plain": [
       "MEND66.json:   0%|          | 0.00/1.97k [00:00<?, ?B/s]"
      ]
     },
     "metadata": {},
     "output_type": "display_data"
    },
    {
     "data": {
      "application/vnd.jupyter.widget-view+json": {
       "model_id": "33e2945a54f04048a63bf2296731352b",
       "version_major": 2,
       "version_minor": 0
      },
      "text/plain": [
       "MEND62.json:   0%|          | 0.00/2.08k [00:00<?, ?B/s]"
      ]
     },
     "metadata": {},
     "output_type": "display_data"
    },
    {
     "data": {
      "application/vnd.jupyter.widget-view+json": {
       "model_id": "5f4a59d2bc204d0786c9556450fe8a0a",
       "version_major": 2,
       "version_minor": 0
      },
      "text/plain": [
       "MEND64.json:   0%|          | 0.00/1.97k [00:00<?, ?B/s]"
      ]
     },
     "metadata": {},
     "output_type": "display_data"
    },
    {
     "data": {
      "application/vnd.jupyter.widget-view+json": {
       "model_id": "736b061a3d5a4529b3a881b2574740de",
       "version_major": 2,
       "version_minor": 0
      },
      "text/plain": [
       "MEND67.json:   0%|          | 0.00/2.06k [00:00<?, ?B/s]"
      ]
     },
     "metadata": {},
     "output_type": "display_data"
    },
    {
     "data": {
      "application/vnd.jupyter.widget-view+json": {
       "model_id": "247c2f3a55b14b2098278b88d3ec8723",
       "version_major": 2,
       "version_minor": 0
      },
      "text/plain": [
       "MEND68.json:   0%|          | 0.00/2.05k [00:00<?, ?B/s]"
      ]
     },
     "metadata": {},
     "output_type": "display_data"
    },
    {
     "data": {
      "application/vnd.jupyter.widget-view+json": {
       "model_id": "ae48c0eb137d410ba0d6a2f0b4d7b1f3",
       "version_major": 2,
       "version_minor": 0
      },
      "text/plain": [
       "MISC37.json:   0%|          | 0.00/1.47k [00:00<?, ?B/s]"
      ]
     },
     "metadata": {},
     "output_type": "display_data"
    },
    {
     "data": {
      "application/vnd.jupyter.widget-view+json": {
       "model_id": "02f92aeabed24f968e2804323c3e7490",
       "version_major": 2,
       "version_minor": 0
      },
      "text/plain": [
       "MISC38.json:   0%|          | 0.00/1.47k [00:00<?, ?B/s]"
      ]
     },
     "metadata": {},
     "output_type": "display_data"
    },
    {
     "data": {
      "application/vnd.jupyter.widget-view+json": {
       "model_id": "4a154650d5ff4f998668de74bf065fb1",
       "version_major": 2,
       "version_minor": 0
      },
      "text/plain": [
       "MISC33.json:   0%|          | 0.00/1.47k [00:00<?, ?B/s]"
      ]
     },
     "metadata": {},
     "output_type": "display_data"
    },
    {
     "data": {
      "application/vnd.jupyter.widget-view+json": {
       "model_id": "4a483a5d9a66499283f10d3189b067ec",
       "version_major": 2,
       "version_minor": 0
      },
      "text/plain": [
       "MISC34.json:   0%|          | 0.00/1.47k [00:00<?, ?B/s]"
      ]
     },
     "metadata": {},
     "output_type": "display_data"
    },
    {
     "data": {
      "application/vnd.jupyter.widget-view+json": {
       "model_id": "d397550bb35244a3a9c6bb07306a9d42",
       "version_major": 2,
       "version_minor": 0
      },
      "text/plain": [
       "MISC40.json:   0%|          | 0.00/1.46k [00:00<?, ?B/s]"
      ]
     },
     "metadata": {},
     "output_type": "display_data"
    },
    {
     "data": {
      "application/vnd.jupyter.widget-view+json": {
       "model_id": "390555e8157b47deb733c13b85da23ce",
       "version_major": 2,
       "version_minor": 0
      },
      "text/plain": [
       "MISC35.json:   0%|          | 0.00/1.47k [00:00<?, ?B/s]"
      ]
     },
     "metadata": {},
     "output_type": "display_data"
    },
    {
     "data": {
      "application/vnd.jupyter.widget-view+json": {
       "model_id": "e1b679719ae747c394c2b927f4c7b5e4",
       "version_major": 2,
       "version_minor": 0
      },
      "text/plain": [
       "MISC36.json:   0%|          | 0.00/1.47k [00:00<?, ?B/s]"
      ]
     },
     "metadata": {},
     "output_type": "display_data"
    },
    {
     "data": {
      "application/vnd.jupyter.widget-view+json": {
       "model_id": "5ab2e6f24ac842dd948566ac5d34a157",
       "version_major": 2,
       "version_minor": 0
      },
      "text/plain": [
       "MISC43.json:   0%|          | 0.00/1.47k [00:00<?, ?B/s]"
      ]
     },
     "metadata": {},
     "output_type": "display_data"
    },
    {
     "data": {
      "application/vnd.jupyter.widget-view+json": {
       "model_id": "232bb9bdf02048099e81572fa1b1f9ed",
       "version_major": 2,
       "version_minor": 0
      },
      "text/plain": [
       "MISC39.json:   0%|          | 0.00/1.47k [00:00<?, ?B/s]"
      ]
     },
     "metadata": {},
     "output_type": "display_data"
    },
    {
     "data": {
      "application/vnd.jupyter.widget-view+json": {
       "model_id": "773f58b4207e4bc7a639e8a9b359b8de",
       "version_major": 2,
       "version_minor": 0
      },
      "text/plain": [
       "MISC48.json:   0%|          | 0.00/1.46k [00:00<?, ?B/s]"
      ]
     },
     "metadata": {},
     "output_type": "display_data"
    },
    {
     "data": {
      "application/vnd.jupyter.widget-view+json": {
       "model_id": "0ddf21b9badd4613b4c4cba400be9895",
       "version_major": 2,
       "version_minor": 0
      },
      "text/plain": [
       "MISC44.json:   0%|          | 0.00/1.47k [00:00<?, ?B/s]"
      ]
     },
     "metadata": {},
     "output_type": "display_data"
    },
    {
     "data": {
      "application/vnd.jupyter.widget-view+json": {
       "model_id": "19f71744d56041b79e691eefebf9c149",
       "version_major": 2,
       "version_minor": 0
      },
      "text/plain": [
       "MISC41.json:   0%|          | 0.00/1.47k [00:00<?, ?B/s]"
      ]
     },
     "metadata": {},
     "output_type": "display_data"
    },
    {
     "data": {
      "application/vnd.jupyter.widget-view+json": {
       "model_id": "09ebc3149b8b4dbe87e3c1861bb41523",
       "version_major": 2,
       "version_minor": 0
      },
      "text/plain": [
       "MISC49.json:   0%|          | 0.00/1.46k [00:00<?, ?B/s]"
      ]
     },
     "metadata": {},
     "output_type": "display_data"
    },
    {
     "data": {
      "application/vnd.jupyter.widget-view+json": {
       "model_id": "61892a02b1e34e5ab1880dad90a2d677",
       "version_major": 2,
       "version_minor": 0
      },
      "text/plain": [
       "MISC47.json:   0%|          | 0.00/1.46k [00:00<?, ?B/s]"
      ]
     },
     "metadata": {},
     "output_type": "display_data"
    },
    {
     "data": {
      "application/vnd.jupyter.widget-view+json": {
       "model_id": "1ab014a5f0684b9fa7f6838b5a416212",
       "version_major": 2,
       "version_minor": 0
      },
      "text/plain": [
       "MISC45.json:   0%|          | 0.00/1.47k [00:00<?, ?B/s]"
      ]
     },
     "metadata": {},
     "output_type": "display_data"
    },
    {
     "data": {
      "application/vnd.jupyter.widget-view+json": {
       "model_id": "19490d4aedc840c68b2f022eac178728",
       "version_major": 2,
       "version_minor": 0
      },
      "text/plain": [
       "MISC46.json:   0%|          | 0.00/1.46k [00:00<?, ?B/s]"
      ]
     },
     "metadata": {},
     "output_type": "display_data"
    },
    {
     "data": {
      "application/vnd.jupyter.widget-view+json": {
       "model_id": "5ae6b9e6f688447c938dd2a2e8349d63",
       "version_major": 2,
       "version_minor": 0
      },
      "text/plain": [
       "MISC42.json:   0%|          | 0.00/1.46k [00:00<?, ?B/s]"
      ]
     },
     "metadata": {},
     "output_type": "display_data"
    },
    {
     "data": {
      "application/vnd.jupyter.widget-view+json": {
       "model_id": "eb45069f226a4276b860fa1fe9e31c18",
       "version_major": 2,
       "version_minor": 0
      },
      "text/plain": [
       "MISC56.json:   0%|          | 0.00/1.47k [00:00<?, ?B/s]"
      ]
     },
     "metadata": {},
     "output_type": "display_data"
    },
    {
     "data": {
      "application/vnd.jupyter.widget-view+json": {
       "model_id": "c8616df5f8774e499654a754cd82f0fb",
       "version_major": 2,
       "version_minor": 0
      },
      "text/plain": [
       "MISC57.json:   0%|          | 0.00/1.47k [00:00<?, ?B/s]"
      ]
     },
     "metadata": {},
     "output_type": "display_data"
    },
    {
     "data": {
      "application/vnd.jupyter.widget-view+json": {
       "model_id": "749dfe5682e24db680b255e1f65c5219",
       "version_major": 2,
       "version_minor": 0
      },
      "text/plain": [
       "MISC62.json:   0%|          | 0.00/1.47k [00:00<?, ?B/s]"
      ]
     },
     "metadata": {},
     "output_type": "display_data"
    },
    {
     "data": {
      "application/vnd.jupyter.widget-view+json": {
       "model_id": "04b2bdd2ab914bc19b9410665fa231ba",
       "version_major": 2,
       "version_minor": 0
      },
      "text/plain": [
       "MISC50.json:   0%|          | 0.00/1.47k [00:00<?, ?B/s]"
      ]
     },
     "metadata": {},
     "output_type": "display_data"
    },
    {
     "data": {
      "application/vnd.jupyter.widget-view+json": {
       "model_id": "20f390f508bb44d2a093464dddd68d9b",
       "version_major": 2,
       "version_minor": 0
      },
      "text/plain": [
       "MISC66.json:   0%|          | 0.00/1.47k [00:00<?, ?B/s]"
      ]
     },
     "metadata": {},
     "output_type": "display_data"
    },
    {
     "data": {
      "application/vnd.jupyter.widget-view+json": {
       "model_id": "02b4b6ff15fe474d8359ffdedd5dcb4a",
       "version_major": 2,
       "version_minor": 0
      },
      "text/plain": [
       "MISC58.json:   0%|          | 0.00/1.47k [00:00<?, ?B/s]"
      ]
     },
     "metadata": {},
     "output_type": "display_data"
    },
    {
     "data": {
      "application/vnd.jupyter.widget-view+json": {
       "model_id": "cf6fbbe7a07f4fa28ee975bbf3d9cdbd",
       "version_major": 2,
       "version_minor": 0
      },
      "text/plain": [
       "MISC51.json:   0%|          | 0.00/1.46k [00:00<?, ?B/s]"
      ]
     },
     "metadata": {},
     "output_type": "display_data"
    },
    {
     "data": {
      "application/vnd.jupyter.widget-view+json": {
       "model_id": "912b81799bbc44209df3af774f36caa4",
       "version_major": 2,
       "version_minor": 0
      },
      "text/plain": [
       "MISC68.json:   0%|          | 0.00/1.47k [00:00<?, ?B/s]"
      ]
     },
     "metadata": {},
     "output_type": "display_data"
    },
    {
     "data": {
      "application/vnd.jupyter.widget-view+json": {
       "model_id": "ae560fb4d2144b46b4553294b116158c",
       "version_major": 2,
       "version_minor": 0
      },
      "text/plain": [
       "MISC64.json:   0%|          | 0.00/1.47k [00:00<?, ?B/s]"
      ]
     },
     "metadata": {},
     "output_type": "display_data"
    },
    {
     "data": {
      "application/vnd.jupyter.widget-view+json": {
       "model_id": "dc07b9a6a15f42a6b727a3a6dd2a7ef2",
       "version_major": 2,
       "version_minor": 0
      },
      "text/plain": [
       "MISC67.json:   0%|          | 0.00/1.44k [00:00<?, ?B/s]"
      ]
     },
     "metadata": {},
     "output_type": "display_data"
    },
    {
     "data": {
      "application/vnd.jupyter.widget-view+json": {
       "model_id": "21cb3d1a539246598bd01521018dcbc9",
       "version_major": 2,
       "version_minor": 0
      },
      "text/plain": [
       "MISC63.json:   0%|          | 0.00/1.46k [00:00<?, ?B/s]"
      ]
     },
     "metadata": {},
     "output_type": "display_data"
    },
    {
     "data": {
      "application/vnd.jupyter.widget-view+json": {
       "model_id": "db63df9fb2fb4122ac976259e7c08b70",
       "version_major": 2,
       "version_minor": 0
      },
      "text/plain": [
       "MISC65.json:   0%|          | 0.00/1.46k [00:00<?, ?B/s]"
      ]
     },
     "metadata": {},
     "output_type": "display_data"
    },
    {
     "data": {
      "application/vnd.jupyter.widget-view+json": {
       "model_id": "122e9dd8d5b943fe8c945c6671dd9cc7",
       "version_major": 2,
       "version_minor": 0
      },
      "text/plain": [
       "MISC69.json:   0%|          | 0.00/1.46k [00:00<?, ?B/s]"
      ]
     },
     "metadata": {},
     "output_type": "display_data"
    },
    {
     "data": {
      "application/vnd.jupyter.widget-view+json": {
       "model_id": "34161812023a467db6d728abf780e8f2",
       "version_major": 2,
       "version_minor": 0
      },
      "text/plain": [
       "MISC70.json:   0%|          | 0.00/1.47k [00:00<?, ?B/s]"
      ]
     },
     "metadata": {},
     "output_type": "display_data"
    },
    {
     "data": {
      "application/vnd.jupyter.widget-view+json": {
       "model_id": "72fb5211413744b9848dd6c26935d8a1",
       "version_major": 2,
       "version_minor": 0
      },
      "text/plain": [
       "NCBI1.json:   0%|          | 0.00/1.18k [00:00<?, ?B/s]"
      ]
     },
     "metadata": {},
     "output_type": "display_data"
    },
    {
     "data": {
      "application/vnd.jupyter.widget-view+json": {
       "model_id": "543d97c8e69e4a979564786d78f2b6d9",
       "version_major": 2,
       "version_minor": 0
      },
      "text/plain": [
       "MISC72.json:   0%|          | 0.00/1.47k [00:00<?, ?B/s]"
      ]
     },
     "metadata": {},
     "output_type": "display_data"
    },
    {
     "data": {
      "application/vnd.jupyter.widget-view+json": {
       "model_id": "0e625f6c75b943da9b9f29d911434515",
       "version_major": 2,
       "version_minor": 0
      },
      "text/plain": [
       "MISC73.json:   0%|          | 0.00/1.47k [00:00<?, ?B/s]"
      ]
     },
     "metadata": {},
     "output_type": "display_data"
    },
    {
     "data": {
      "application/vnd.jupyter.widget-view+json": {
       "model_id": "d4c8a810ab3747489560bd5bd86873f4",
       "version_major": 2,
       "version_minor": 0
      },
      "text/plain": [
       "NCBI10.json:   0%|          | 0.00/1.09k [00:00<?, ?B/s]"
      ]
     },
     "metadata": {},
     "output_type": "display_data"
    },
    {
     "data": {
      "application/vnd.jupyter.widget-view+json": {
       "model_id": "b410585f4cc343189fcdc42a1b18b008",
       "version_major": 2,
       "version_minor": 0
      },
      "text/plain": [
       "NCBI100.json:   0%|          | 0.00/1.09k [00:00<?, ?B/s]"
      ]
     },
     "metadata": {},
     "output_type": "display_data"
    },
    {
     "data": {
      "application/vnd.jupyter.widget-view+json": {
       "model_id": "8b443fbabdf64d2ca17816c44859b692",
       "version_major": 2,
       "version_minor": 0
      },
      "text/plain": [
       "NCBI101.json:   0%|          | 0.00/1.09k [00:00<?, ?B/s]"
      ]
     },
     "metadata": {},
     "output_type": "display_data"
    },
    {
     "data": {
      "application/vnd.jupyter.widget-view+json": {
       "model_id": "c3991f208bb84da4a69e6de096084bf3",
       "version_major": 2,
       "version_minor": 0
      },
      "text/plain": [
       "NCBI103.json:   0%|          | 0.00/1.09k [00:00<?, ?B/s]"
      ]
     },
     "metadata": {},
     "output_type": "display_data"
    },
    {
     "data": {
      "application/vnd.jupyter.widget-view+json": {
       "model_id": "96fcd889ae5b472691d7e39184b3a388",
       "version_major": 2,
       "version_minor": 0
      },
      "text/plain": [
       "MISC71.json:   0%|          | 0.00/1.47k [00:00<?, ?B/s]"
      ]
     },
     "metadata": {},
     "output_type": "display_data"
    },
    {
     "data": {
      "application/vnd.jupyter.widget-view+json": {
       "model_id": "2995a083bb034afd9abc77065068fcac",
       "version_major": 2,
       "version_minor": 0
      },
      "text/plain": [
       "NCBI104.json:   0%|          | 0.00/1.09k [00:00<?, ?B/s]"
      ]
     },
     "metadata": {},
     "output_type": "display_data"
    },
    {
     "data": {
      "application/vnd.jupyter.widget-view+json": {
       "model_id": "60f57fbc8cda4456978825199aedd718",
       "version_major": 2,
       "version_minor": 0
      },
      "text/plain": [
       "NCBI105.json:   0%|          | 0.00/1.09k [00:00<?, ?B/s]"
      ]
     },
     "metadata": {},
     "output_type": "display_data"
    },
    {
     "data": {
      "application/vnd.jupyter.widget-view+json": {
       "model_id": "d922b013a3ba41cdb5105d118c98d973",
       "version_major": 2,
       "version_minor": 0
      },
      "text/plain": [
       "NCBI106.json:   0%|          | 0.00/1.09k [00:00<?, ?B/s]"
      ]
     },
     "metadata": {},
     "output_type": "display_data"
    },
    {
     "data": {
      "application/vnd.jupyter.widget-view+json": {
       "model_id": "0df7fcfb74614ee5adf9c61fb28efd27",
       "version_major": 2,
       "version_minor": 0
      },
      "text/plain": [
       "NCBI107.json:   0%|          | 0.00/1.09k [00:00<?, ?B/s]"
      ]
     },
     "metadata": {},
     "output_type": "display_data"
    },
    {
     "data": {
      "application/vnd.jupyter.widget-view+json": {
       "model_id": "255fd5972677409b80d1f81e64bb22b1",
       "version_major": 2,
       "version_minor": 0
      },
      "text/plain": [
       "NCBI102.json:   0%|          | 0.00/1.09k [00:00<?, ?B/s]"
      ]
     },
     "metadata": {},
     "output_type": "display_data"
    },
    {
     "data": {
      "application/vnd.jupyter.widget-view+json": {
       "model_id": "fb4e3611e67a45b6b5d68b09f16a1297",
       "version_major": 2,
       "version_minor": 0
      },
      "text/plain": [
       "NCBI113.json:   0%|          | 0.00/1.09k [00:00<?, ?B/s]"
      ]
     },
     "metadata": {},
     "output_type": "display_data"
    },
    {
     "data": {
      "application/vnd.jupyter.widget-view+json": {
       "model_id": "7308f549488644c9ac897637cfd1c2c4",
       "version_major": 2,
       "version_minor": 0
      },
      "text/plain": [
       "NCBI110.json:   0%|          | 0.00/1.09k [00:00<?, ?B/s]"
      ]
     },
     "metadata": {},
     "output_type": "display_data"
    },
    {
     "data": {
      "application/vnd.jupyter.widget-view+json": {
       "model_id": "a6f12392375646c7a15d3c02ef4ed432",
       "version_major": 2,
       "version_minor": 0
      },
      "text/plain": [
       "NCBI111.json:   0%|          | 0.00/1.09k [00:00<?, ?B/s]"
      ]
     },
     "metadata": {},
     "output_type": "display_data"
    },
    {
     "data": {
      "application/vnd.jupyter.widget-view+json": {
       "model_id": "a0a8203c869248318987ee4f8ed56c7c",
       "version_major": 2,
       "version_minor": 0
      },
      "text/plain": [
       "NCBI108.json:   0%|          | 0.00/1.09k [00:00<?, ?B/s]"
      ]
     },
     "metadata": {},
     "output_type": "display_data"
    },
    {
     "data": {
      "application/vnd.jupyter.widget-view+json": {
       "model_id": "e4f3562eee3d49acbe3093f6b3c288cf",
       "version_major": 2,
       "version_minor": 0
      },
      "text/plain": [
       "NCBI112.json:   0%|          | 0.00/1.09k [00:00<?, ?B/s]"
      ]
     },
     "metadata": {},
     "output_type": "display_data"
    },
    {
     "data": {
      "application/vnd.jupyter.widget-view+json": {
       "model_id": "47b99d66879248b2a1695fa0126de3bd",
       "version_major": 2,
       "version_minor": 0
      },
      "text/plain": [
       "NCBI114.json:   0%|          | 0.00/1.09k [00:00<?, ?B/s]"
      ]
     },
     "metadata": {},
     "output_type": "display_data"
    },
    {
     "data": {
      "application/vnd.jupyter.widget-view+json": {
       "model_id": "ba609ee3330f4f5a8cfc53f188371c15",
       "version_major": 2,
       "version_minor": 0
      },
      "text/plain": [
       "NCBI117.json:   0%|          | 0.00/1.09k [00:00<?, ?B/s]"
      ]
     },
     "metadata": {},
     "output_type": "display_data"
    },
    {
     "data": {
      "application/vnd.jupyter.widget-view+json": {
       "model_id": "e22babfc3d564ffd91495463e7d70f09",
       "version_major": 2,
       "version_minor": 0
      },
      "text/plain": [
       "NCBI11.json:   0%|          | 0.00/1.09k [00:00<?, ?B/s]"
      ]
     },
     "metadata": {},
     "output_type": "display_data"
    },
    {
     "data": {
      "application/vnd.jupyter.widget-view+json": {
       "model_id": "090f41d5d39a4e14b83dbac5051d57b4",
       "version_major": 2,
       "version_minor": 0
      },
      "text/plain": [
       "NCBI109.json:   0%|          | 0.00/1.09k [00:00<?, ?B/s]"
      ]
     },
     "metadata": {},
     "output_type": "display_data"
    },
    {
     "data": {
      "application/vnd.jupyter.widget-view+json": {
       "model_id": "c7ff167fdd08479a80ca5d0e3636d6e0",
       "version_major": 2,
       "version_minor": 0
      },
      "text/plain": [
       "NCBI120.json:   0%|          | 0.00/1.09k [00:00<?, ?B/s]"
      ]
     },
     "metadata": {},
     "output_type": "display_data"
    },
    {
     "data": {
      "application/vnd.jupyter.widget-view+json": {
       "model_id": "97d248fcb6214b8e8926a15c2634200d",
       "version_major": 2,
       "version_minor": 0
      },
      "text/plain": [
       "NCBI116.json:   0%|          | 0.00/1.09k [00:00<?, ?B/s]"
      ]
     },
     "metadata": {},
     "output_type": "display_data"
    },
    {
     "data": {
      "application/vnd.jupyter.widget-view+json": {
       "model_id": "c6c5d8f954994fa89530fbc4e52a3907",
       "version_major": 2,
       "version_minor": 0
      },
      "text/plain": [
       "NCBI115.json:   0%|          | 0.00/1.09k [00:00<?, ?B/s]"
      ]
     },
     "metadata": {},
     "output_type": "display_data"
    },
    {
     "data": {
      "application/vnd.jupyter.widget-view+json": {
       "model_id": "e25ca3c1c73d4e79915533b3b58beae1",
       "version_major": 2,
       "version_minor": 0
      },
      "text/plain": [
       "NCBI12.json:   0%|          | 0.00/1.09k [00:00<?, ?B/s]"
      ]
     },
     "metadata": {},
     "output_type": "display_data"
    },
    {
     "data": {
      "application/vnd.jupyter.widget-view+json": {
       "model_id": "5816372e9d5a40408b25f3261b31460d",
       "version_major": 2,
       "version_minor": 0
      },
      "text/plain": [
       "NCBI119.json:   0%|          | 0.00/1.09k [00:00<?, ?B/s]"
      ]
     },
     "metadata": {},
     "output_type": "display_data"
    },
    {
     "data": {
      "application/vnd.jupyter.widget-view+json": {
       "model_id": "25ae85f14d0b4b57834654f123cc7498",
       "version_major": 2,
       "version_minor": 0
      },
      "text/plain": [
       "NCBI118.json:   0%|          | 0.00/1.09k [00:00<?, ?B/s]"
      ]
     },
     "metadata": {},
     "output_type": "display_data"
    },
    {
     "data": {
      "application/vnd.jupyter.widget-view+json": {
       "model_id": "4d9f42da6d7f46e685f92fe5e47ee964",
       "version_major": 2,
       "version_minor": 0
      },
      "text/plain": [
       "NCBI121.json:   0%|          | 0.00/1.09k [00:00<?, ?B/s]"
      ]
     },
     "metadata": {},
     "output_type": "display_data"
    },
    {
     "data": {
      "application/vnd.jupyter.widget-view+json": {
       "model_id": "7c4f3aa8cd4046e88f5f5dc0ce837331",
       "version_major": 2,
       "version_minor": 0
      },
      "text/plain": [
       "NCBI122.json:   0%|          | 0.00/1.09k [00:00<?, ?B/s]"
      ]
     },
     "metadata": {},
     "output_type": "display_data"
    },
    {
     "data": {
      "application/vnd.jupyter.widget-view+json": {
       "model_id": "d6562a42116246db8433d5be29008227",
       "version_major": 2,
       "version_minor": 0
      },
      "text/plain": [
       "NCBI127.json:   0%|          | 0.00/1.09k [00:00<?, ?B/s]"
      ]
     },
     "metadata": {},
     "output_type": "display_data"
    },
    {
     "data": {
      "application/vnd.jupyter.widget-view+json": {
       "model_id": "8d26fc8216054d24b99d9e2404b4afb8",
       "version_major": 2,
       "version_minor": 0
      },
      "text/plain": [
       "NCBI128.json:   0%|          | 0.00/1.09k [00:00<?, ?B/s]"
      ]
     },
     "metadata": {},
     "output_type": "display_data"
    },
    {
     "data": {
      "application/vnd.jupyter.widget-view+json": {
       "model_id": "0af99b00746f4c5abc03a85289ef7f1a",
       "version_major": 2,
       "version_minor": 0
      },
      "text/plain": [
       "NCBI123.json:   0%|          | 0.00/1.09k [00:00<?, ?B/s]"
      ]
     },
     "metadata": {},
     "output_type": "display_data"
    },
    {
     "data": {
      "application/vnd.jupyter.widget-view+json": {
       "model_id": "7e9265bf01264c23bdc2aa0c78b673ca",
       "version_major": 2,
       "version_minor": 0
      },
      "text/plain": [
       "NCBI126.json:   0%|          | 0.00/1.09k [00:00<?, ?B/s]"
      ]
     },
     "metadata": {},
     "output_type": "display_data"
    },
    {
     "data": {
      "application/vnd.jupyter.widget-view+json": {
       "model_id": "ef91e7f4d8a4452b9b4298ce5755acc7",
       "version_major": 2,
       "version_minor": 0
      },
      "text/plain": [
       "NCBI130.json:   0%|          | 0.00/1.09k [00:00<?, ?B/s]"
      ]
     },
     "metadata": {},
     "output_type": "display_data"
    },
    {
     "data": {
      "application/vnd.jupyter.widget-view+json": {
       "model_id": "b889c2b184064824bd97b02547f044b1",
       "version_major": 2,
       "version_minor": 0
      },
      "text/plain": [
       "NCBI129.json:   0%|          | 0.00/1.09k [00:00<?, ?B/s]"
      ]
     },
     "metadata": {},
     "output_type": "display_data"
    },
    {
     "data": {
      "application/vnd.jupyter.widget-view+json": {
       "model_id": "cd84345155d9446c97c7188f931cc8e1",
       "version_major": 2,
       "version_minor": 0
      },
      "text/plain": [
       "NCBI125.json:   0%|          | 0.00/1.09k [00:00<?, ?B/s]"
      ]
     },
     "metadata": {},
     "output_type": "display_data"
    },
    {
     "data": {
      "application/vnd.jupyter.widget-view+json": {
       "model_id": "2b37283036fe485b9e1e8aa243f8d595",
       "version_major": 2,
       "version_minor": 0
      },
      "text/plain": [
       "NCBI124.json:   0%|          | 0.00/1.09k [00:00<?, ?B/s]"
      ]
     },
     "metadata": {},
     "output_type": "display_data"
    },
    {
     "data": {
      "application/vnd.jupyter.widget-view+json": {
       "model_id": "5d6333640ba9443f87eb558cf1d7b0c1",
       "version_major": 2,
       "version_minor": 0
      },
      "text/plain": [
       "NCBI13.json:   0%|          | 0.00/1.09k [00:00<?, ?B/s]"
      ]
     },
     "metadata": {},
     "output_type": "display_data"
    },
    {
     "data": {
      "application/vnd.jupyter.widget-view+json": {
       "model_id": "0fdeb82c4931459882d5124d43deb7a9",
       "version_major": 2,
       "version_minor": 0
      },
      "text/plain": [
       "NCBI135.json:   0%|          | 0.00/1.09k [00:00<?, ?B/s]"
      ]
     },
     "metadata": {},
     "output_type": "display_data"
    },
    {
     "data": {
      "application/vnd.jupyter.widget-view+json": {
       "model_id": "27a3dbd7073b49efac164ba62c5c29b3",
       "version_major": 2,
       "version_minor": 0
      },
      "text/plain": [
       "NCBI134.json:   0%|          | 0.00/1.09k [00:00<?, ?B/s]"
      ]
     },
     "metadata": {},
     "output_type": "display_data"
    },
    {
     "data": {
      "application/vnd.jupyter.widget-view+json": {
       "model_id": "30c8af34447a497ea082a977557c1a9f",
       "version_major": 2,
       "version_minor": 0
      },
      "text/plain": [
       "NCBI132.json:   0%|          | 0.00/1.09k [00:00<?, ?B/s]"
      ]
     },
     "metadata": {},
     "output_type": "display_data"
    },
    {
     "data": {
      "application/vnd.jupyter.widget-view+json": {
       "model_id": "df6c3198beeb4279be6aaf7a96f64d76",
       "version_major": 2,
       "version_minor": 0
      },
      "text/plain": [
       "NCBI131.json:   0%|          | 0.00/1.09k [00:00<?, ?B/s]"
      ]
     },
     "metadata": {},
     "output_type": "display_data"
    },
    {
     "data": {
      "application/vnd.jupyter.widget-view+json": {
       "model_id": "551884b179ec48a583a958bff86d64a4",
       "version_major": 2,
       "version_minor": 0
      },
      "text/plain": [
       "NCBI137.json:   0%|          | 0.00/1.09k [00:00<?, ?B/s]"
      ]
     },
     "metadata": {},
     "output_type": "display_data"
    },
    {
     "data": {
      "application/vnd.jupyter.widget-view+json": {
       "model_id": "302cd8c5e1f34ba28aaea7b6df255f35",
       "version_major": 2,
       "version_minor": 0
      },
      "text/plain": [
       "NCBI133.json:   0%|          | 0.00/1.09k [00:00<?, ?B/s]"
      ]
     },
     "metadata": {},
     "output_type": "display_data"
    },
    {
     "data": {
      "application/vnd.jupyter.widget-view+json": {
       "model_id": "48396f6d41e54dbda33e798c0c5ca16d",
       "version_major": 2,
       "version_minor": 0
      },
      "text/plain": [
       "NCBI136.json:   0%|          | 0.00/1.09k [00:00<?, ?B/s]"
      ]
     },
     "metadata": {},
     "output_type": "display_data"
    },
    {
     "data": {
      "application/vnd.jupyter.widget-view+json": {
       "model_id": "9c8800a6927443d1a9bb9013d553015b",
       "version_major": 2,
       "version_minor": 0
      },
      "text/plain": [
       "NCBI14.json:   0%|          | 0.00/1.09k [00:00<?, ?B/s]"
      ]
     },
     "metadata": {},
     "output_type": "display_data"
    },
    {
     "data": {
      "application/vnd.jupyter.widget-view+json": {
       "model_id": "4db7a1b0d9974db0b34f34516a8a6d1d",
       "version_major": 2,
       "version_minor": 0
      },
      "text/plain": [
       "NCBI138.json:   0%|          | 0.00/1.09k [00:00<?, ?B/s]"
      ]
     },
     "metadata": {},
     "output_type": "display_data"
    },
    {
     "data": {
      "application/vnd.jupyter.widget-view+json": {
       "model_id": "8792dfd9d3ab403cba43c9c24652f4f1",
       "version_major": 2,
       "version_minor": 0
      },
      "text/plain": [
       "NCBI140.json:   0%|          | 0.00/1.09k [00:00<?, ?B/s]"
      ]
     },
     "metadata": {},
     "output_type": "display_data"
    },
    {
     "data": {
      "application/vnd.jupyter.widget-view+json": {
       "model_id": "eb3d032338234846859e71b681126543",
       "version_major": 2,
       "version_minor": 0
      },
      "text/plain": [
       "NCBI139.json:   0%|          | 0.00/1.09k [00:00<?, ?B/s]"
      ]
     },
     "metadata": {},
     "output_type": "display_data"
    },
    {
     "data": {
      "application/vnd.jupyter.widget-view+json": {
       "model_id": "1f535b389fe84e2998b445d601c1b1da",
       "version_major": 2,
       "version_minor": 0
      },
      "text/plain": [
       "NCBI144.json:   0%|          | 0.00/1.09k [00:00<?, ?B/s]"
      ]
     },
     "metadata": {},
     "output_type": "display_data"
    },
    {
     "data": {
      "application/vnd.jupyter.widget-view+json": {
       "model_id": "fcbcd5a1c0c04a5c8404c8229bf81bc4",
       "version_major": 2,
       "version_minor": 0
      },
      "text/plain": [
       "NCBI141.json:   0%|          | 0.00/1.09k [00:00<?, ?B/s]"
      ]
     },
     "metadata": {},
     "output_type": "display_data"
    },
    {
     "data": {
      "application/vnd.jupyter.widget-view+json": {
       "model_id": "0c691a391c084596aad90ff4190f3268",
       "version_major": 2,
       "version_minor": 0
      },
      "text/plain": [
       "NCBI142.json:   0%|          | 0.00/1.09k [00:00<?, ?B/s]"
      ]
     },
     "metadata": {},
     "output_type": "display_data"
    },
    {
     "data": {
      "application/vnd.jupyter.widget-view+json": {
       "model_id": "490da42d0a8f4c3688f98c42bad7655b",
       "version_major": 2,
       "version_minor": 0
      },
      "text/plain": [
       "NCBI143.json:   0%|          | 0.00/1.09k [00:00<?, ?B/s]"
      ]
     },
     "metadata": {},
     "output_type": "display_data"
    },
    {
     "data": {
      "application/vnd.jupyter.widget-view+json": {
       "model_id": "91ceae20507a413cb37124b2c68b29dd",
       "version_major": 2,
       "version_minor": 0
      },
      "text/plain": [
       "NCBI148.json:   0%|          | 0.00/1.09k [00:00<?, ?B/s]"
      ]
     },
     "metadata": {},
     "output_type": "display_data"
    },
    {
     "data": {
      "application/vnd.jupyter.widget-view+json": {
       "model_id": "d29f13ce85d245709f5f154f68785370",
       "version_major": 2,
       "version_minor": 0
      },
      "text/plain": [
       "NCBI146.json:   0%|          | 0.00/1.09k [00:00<?, ?B/s]"
      ]
     },
     "metadata": {},
     "output_type": "display_data"
    },
    {
     "data": {
      "application/vnd.jupyter.widget-view+json": {
       "model_id": "d96c57f722ec481090876d665721045c",
       "version_major": 2,
       "version_minor": 0
      },
      "text/plain": [
       "NCBI145.json:   0%|          | 0.00/1.09k [00:00<?, ?B/s]"
      ]
     },
     "metadata": {},
     "output_type": "display_data"
    },
    {
     "data": {
      "application/vnd.jupyter.widget-view+json": {
       "model_id": "c9f5a87c047f44b094772e1e9ac9a878",
       "version_major": 2,
       "version_minor": 0
      },
      "text/plain": [
       "NCBI147.json:   0%|          | 0.00/1.09k [00:00<?, ?B/s]"
      ]
     },
     "metadata": {},
     "output_type": "display_data"
    },
    {
     "data": {
      "application/vnd.jupyter.widget-view+json": {
       "model_id": "3d2f58aa02a2443d80f40dbcf9867105",
       "version_major": 2,
       "version_minor": 0
      },
      "text/plain": [
       "NCBI15.json:   0%|          | 0.00/1.09k [00:00<?, ?B/s]"
      ]
     },
     "metadata": {},
     "output_type": "display_data"
    },
    {
     "data": {
      "application/vnd.jupyter.widget-view+json": {
       "model_id": "8be4b91d8558487fa6624d63b5f4acca",
       "version_major": 2,
       "version_minor": 0
      },
      "text/plain": [
       "NCBI149.json:   0%|          | 0.00/1.09k [00:00<?, ?B/s]"
      ]
     },
     "metadata": {},
     "output_type": "display_data"
    },
    {
     "data": {
      "application/vnd.jupyter.widget-view+json": {
       "model_id": "c2f1335309074fcfb7681ae76c9b198f",
       "version_major": 2,
       "version_minor": 0
      },
      "text/plain": [
       "NCBI150.json:   0%|          | 0.00/1.09k [00:00<?, ?B/s]"
      ]
     },
     "metadata": {},
     "output_type": "display_data"
    },
    {
     "data": {
      "application/vnd.jupyter.widget-view+json": {
       "model_id": "55ee8085717d471ca136e8aa970a2745",
       "version_major": 2,
       "version_minor": 0
      },
      "text/plain": [
       "NCBI154.json:   0%|          | 0.00/1.09k [00:00<?, ?B/s]"
      ]
     },
     "metadata": {},
     "output_type": "display_data"
    },
    {
     "data": {
      "application/vnd.jupyter.widget-view+json": {
       "model_id": "e8eadbd203b84db0a4fc7ad88ae63a63",
       "version_major": 2,
       "version_minor": 0
      },
      "text/plain": [
       "NCBI152.json:   0%|          | 0.00/1.09k [00:00<?, ?B/s]"
      ]
     },
     "metadata": {},
     "output_type": "display_data"
    },
    {
     "data": {
      "application/vnd.jupyter.widget-view+json": {
       "model_id": "35e4713868504092925fc5442b8c46ef",
       "version_major": 2,
       "version_minor": 0
      },
      "text/plain": [
       "NCBI151.json:   0%|          | 0.00/1.09k [00:00<?, ?B/s]"
      ]
     },
     "metadata": {},
     "output_type": "display_data"
    },
    {
     "data": {
      "application/vnd.jupyter.widget-view+json": {
       "model_id": "05180a8906724e75ab501cac419d9301",
       "version_major": 2,
       "version_minor": 0
      },
      "text/plain": [
       "NCBI155.json:   0%|          | 0.00/1.09k [00:00<?, ?B/s]"
      ]
     },
     "metadata": {},
     "output_type": "display_data"
    },
    {
     "data": {
      "application/vnd.jupyter.widget-view+json": {
       "model_id": "e15eda82c06f40f1bde177b8ca9bb3b2",
       "version_major": 2,
       "version_minor": 0
      },
      "text/plain": [
       "NCBI156.json:   0%|          | 0.00/1.09k [00:00<?, ?B/s]"
      ]
     },
     "metadata": {},
     "output_type": "display_data"
    },
    {
     "data": {
      "application/vnd.jupyter.widget-view+json": {
       "model_id": "5c81ad82172247fb8e514d5f4137066a",
       "version_major": 2,
       "version_minor": 0
      },
      "text/plain": [
       "NCBI153.json:   0%|          | 0.00/1.09k [00:00<?, ?B/s]"
      ]
     },
     "metadata": {},
     "output_type": "display_data"
    },
    {
     "data": {
      "application/vnd.jupyter.widget-view+json": {
       "model_id": "2917b82809444c158b406ad73abd00f3",
       "version_major": 2,
       "version_minor": 0
      },
      "text/plain": [
       "NCBI157.json:   0%|          | 0.00/1.09k [00:00<?, ?B/s]"
      ]
     },
     "metadata": {},
     "output_type": "display_data"
    },
    {
     "data": {
      "application/vnd.jupyter.widget-view+json": {
       "model_id": "4ee9d2e9dd3746d3b191d05b51892946",
       "version_major": 2,
       "version_minor": 0
      },
      "text/plain": [
       "NCBI158.json:   0%|          | 0.00/1.09k [00:00<?, ?B/s]"
      ]
     },
     "metadata": {},
     "output_type": "display_data"
    },
    {
     "data": {
      "application/vnd.jupyter.widget-view+json": {
       "model_id": "6f50a37f3368439d90f0d3337d1715dc",
       "version_major": 2,
       "version_minor": 0
      },
      "text/plain": [
       "NCBI162.json:   0%|          | 0.00/1.09k [00:00<?, ?B/s]"
      ]
     },
     "metadata": {},
     "output_type": "display_data"
    },
    {
     "data": {
      "application/vnd.jupyter.widget-view+json": {
       "model_id": "305e169d782f46b4926b6a064ce004e3",
       "version_major": 2,
       "version_minor": 0
      },
      "text/plain": [
       "NCBI16.json:   0%|          | 0.00/1.09k [00:00<?, ?B/s]"
      ]
     },
     "metadata": {},
     "output_type": "display_data"
    },
    {
     "data": {
      "application/vnd.jupyter.widget-view+json": {
       "model_id": "a32c2da6a0284f37aa0e1f7b7b73c8fb",
       "version_major": 2,
       "version_minor": 0
      },
      "text/plain": [
       "NCBI161.json:   0%|          | 0.00/1.09k [00:00<?, ?B/s]"
      ]
     },
     "metadata": {},
     "output_type": "display_data"
    },
    {
     "data": {
      "application/vnd.jupyter.widget-view+json": {
       "model_id": "2a40b14f10794f0aaf1e16473825d5d7",
       "version_major": 2,
       "version_minor": 0
      },
      "text/plain": [
       "NCBI163.json:   0%|          | 0.00/1.09k [00:00<?, ?B/s]"
      ]
     },
     "metadata": {},
     "output_type": "display_data"
    },
    {
     "data": {
      "application/vnd.jupyter.widget-view+json": {
       "model_id": "34f58cbd2ef7463d9ada65169abffd19",
       "version_major": 2,
       "version_minor": 0
      },
      "text/plain": [
       "NCBI164.json:   0%|          | 0.00/1.09k [00:00<?, ?B/s]"
      ]
     },
     "metadata": {},
     "output_type": "display_data"
    },
    {
     "data": {
      "application/vnd.jupyter.widget-view+json": {
       "model_id": "d12f112f4e5e4681b6b35a0efc13fe33",
       "version_major": 2,
       "version_minor": 0
      },
      "text/plain": [
       "NCBI159.json:   0%|          | 0.00/1.09k [00:00<?, ?B/s]"
      ]
     },
     "metadata": {},
     "output_type": "display_data"
    },
    {
     "data": {
      "application/vnd.jupyter.widget-view+json": {
       "model_id": "28b3c90e88af4a748a04934e5af08d26",
       "version_major": 2,
       "version_minor": 0
      },
      "text/plain": [
       "NCBI160.json:   0%|          | 0.00/1.09k [00:00<?, ?B/s]"
      ]
     },
     "metadata": {},
     "output_type": "display_data"
    },
    {
     "data": {
      "application/vnd.jupyter.widget-view+json": {
       "model_id": "98a429a6ee4d47c8ac9b304c20dd3f6b",
       "version_major": 2,
       "version_minor": 0
      },
      "text/plain": [
       "NCBI165.json:   0%|          | 0.00/1.09k [00:00<?, ?B/s]"
      ]
     },
     "metadata": {},
     "output_type": "display_data"
    },
    {
     "data": {
      "application/vnd.jupyter.widget-view+json": {
       "model_id": "721327499af442a29cb81899803210c0",
       "version_major": 2,
       "version_minor": 0
      },
      "text/plain": [
       "NCBI167.json:   0%|          | 0.00/1.09k [00:00<?, ?B/s]"
      ]
     },
     "metadata": {},
     "output_type": "display_data"
    },
    {
     "data": {
      "application/vnd.jupyter.widget-view+json": {
       "model_id": "6ed68eaed2e145f68c9c082926fcf033",
       "version_major": 2,
       "version_minor": 0
      },
      "text/plain": [
       "NCBI166.json:   0%|          | 0.00/1.09k [00:00<?, ?B/s]"
      ]
     },
     "metadata": {},
     "output_type": "display_data"
    },
    {
     "data": {
      "application/vnd.jupyter.widget-view+json": {
       "model_id": "4f37c64b39804caaa5d6fb42ad4c1d7e",
       "version_major": 2,
       "version_minor": 0
      },
      "text/plain": [
       "NCBI168.json:   0%|          | 0.00/1.09k [00:00<?, ?B/s]"
      ]
     },
     "metadata": {},
     "output_type": "display_data"
    },
    {
     "data": {
      "application/vnd.jupyter.widget-view+json": {
       "model_id": "eaab3448fc554b57bbf763dc7fefee8b",
       "version_major": 2,
       "version_minor": 0
      },
      "text/plain": [
       "NCBI169.json:   0%|          | 0.00/1.09k [00:00<?, ?B/s]"
      ]
     },
     "metadata": {},
     "output_type": "display_data"
    },
    {
     "data": {
      "application/vnd.jupyter.widget-view+json": {
       "model_id": "e01a6cb1f7714fbda56f4236015da53d",
       "version_major": 2,
       "version_minor": 0
      },
      "text/plain": [
       "NCBI170.json:   0%|          | 0.00/1.09k [00:00<?, ?B/s]"
      ]
     },
     "metadata": {},
     "output_type": "display_data"
    },
    {
     "data": {
      "application/vnd.jupyter.widget-view+json": {
       "model_id": "29849038467e46f88bff9c1cb40599c1",
       "version_major": 2,
       "version_minor": 0
      },
      "text/plain": [
       "NCBI17.json:   0%|          | 0.00/1.09k [00:00<?, ?B/s]"
      ]
     },
     "metadata": {},
     "output_type": "display_data"
    },
    {
     "data": {
      "application/vnd.jupyter.widget-view+json": {
       "model_id": "17833761322245b69f141279707142d5",
       "version_major": 2,
       "version_minor": 0
      },
      "text/plain": [
       "NCBI171.json:   0%|          | 0.00/1.09k [00:00<?, ?B/s]"
      ]
     },
     "metadata": {},
     "output_type": "display_data"
    },
    {
     "data": {
      "application/vnd.jupyter.widget-view+json": {
       "model_id": "8ea513193e9742fe9a9db92902179b41",
       "version_major": 2,
       "version_minor": 0
      },
      "text/plain": [
       "NCBI172.json:   0%|          | 0.00/1.09k [00:00<?, ?B/s]"
      ]
     },
     "metadata": {},
     "output_type": "display_data"
    },
    {
     "data": {
      "application/vnd.jupyter.widget-view+json": {
       "model_id": "effcb4f40a534ab0a373dbc1b2d62571",
       "version_major": 2,
       "version_minor": 0
      },
      "text/plain": [
       "NCBI173.json:   0%|          | 0.00/1.09k [00:00<?, ?B/s]"
      ]
     },
     "metadata": {},
     "output_type": "display_data"
    },
    {
     "data": {
      "application/vnd.jupyter.widget-view+json": {
       "model_id": "613a8752f2df4c1bb2c5fb58ba6b4829",
       "version_major": 2,
       "version_minor": 0
      },
      "text/plain": [
       "NCBI176.json:   0%|          | 0.00/1.09k [00:00<?, ?B/s]"
      ]
     },
     "metadata": {},
     "output_type": "display_data"
    },
    {
     "data": {
      "application/vnd.jupyter.widget-view+json": {
       "model_id": "a566732ae5c1431a83c7a295ac9806c9",
       "version_major": 2,
       "version_minor": 0
      },
      "text/plain": [
       "NCBI174.json:   0%|          | 0.00/1.09k [00:00<?, ?B/s]"
      ]
     },
     "metadata": {},
     "output_type": "display_data"
    },
    {
     "data": {
      "application/vnd.jupyter.widget-view+json": {
       "model_id": "89c0d761efba4d0b810063c5f618cf94",
       "version_major": 2,
       "version_minor": 0
      },
      "text/plain": [
       "NCBI175.json:   0%|          | 0.00/1.09k [00:00<?, ?B/s]"
      ]
     },
     "metadata": {},
     "output_type": "display_data"
    },
    {
     "data": {
      "application/vnd.jupyter.widget-view+json": {
       "model_id": "afd82d9548394acba18e7160fcec7c68",
       "version_major": 2,
       "version_minor": 0
      },
      "text/plain": [
       "NCBI177.json:   0%|          | 0.00/1.09k [00:00<?, ?B/s]"
      ]
     },
     "metadata": {},
     "output_type": "display_data"
    },
    {
     "data": {
      "application/vnd.jupyter.widget-view+json": {
       "model_id": "5d13c767bb3c44a0a01ed06e03e88722",
       "version_major": 2,
       "version_minor": 0
      },
      "text/plain": [
       "NCBI18.json:   0%|          | 0.00/1.09k [00:00<?, ?B/s]"
      ]
     },
     "metadata": {},
     "output_type": "display_data"
    },
    {
     "data": {
      "application/vnd.jupyter.widget-view+json": {
       "model_id": "74266f75924646a89f9d18bb3dc0f8a7",
       "version_major": 2,
       "version_minor": 0
      },
      "text/plain": [
       "NCBI179.json:   0%|          | 0.00/1.09k [00:00<?, ?B/s]"
      ]
     },
     "metadata": {},
     "output_type": "display_data"
    },
    {
     "data": {
      "application/vnd.jupyter.widget-view+json": {
       "model_id": "42f734b4726849409e105e75ce99ebb5",
       "version_major": 2,
       "version_minor": 0
      },
      "text/plain": [
       "NCBI178.json:   0%|          | 0.00/1.09k [00:00<?, ?B/s]"
      ]
     },
     "metadata": {},
     "output_type": "display_data"
    },
    {
     "data": {
      "application/vnd.jupyter.widget-view+json": {
       "model_id": "0104e360a160453fb48565a66c487aa9",
       "version_major": 2,
       "version_minor": 0
      },
      "text/plain": [
       "NCBI180.json:   0%|          | 0.00/1.09k [00:00<?, ?B/s]"
      ]
     },
     "metadata": {},
     "output_type": "display_data"
    },
    {
     "data": {
      "application/vnd.jupyter.widget-view+json": {
       "model_id": "f8bee108b0cb4a74a94d4d77226a7f1a",
       "version_major": 2,
       "version_minor": 0
      },
      "text/plain": [
       "NCBI182.json:   0%|          | 0.00/1.09k [00:00<?, ?B/s]"
      ]
     },
     "metadata": {},
     "output_type": "display_data"
    },
    {
     "data": {
      "application/vnd.jupyter.widget-view+json": {
       "model_id": "b3cc096344c6440db6c9b3cd634aa76d",
       "version_major": 2,
       "version_minor": 0
      },
      "text/plain": [
       "NCBI184.json:   0%|          | 0.00/1.09k [00:00<?, ?B/s]"
      ]
     },
     "metadata": {},
     "output_type": "display_data"
    },
    {
     "data": {
      "application/vnd.jupyter.widget-view+json": {
       "model_id": "7b6068ec70554bd59e1f554895ae176f",
       "version_major": 2,
       "version_minor": 0
      },
      "text/plain": [
       "NCBI183.json:   0%|          | 0.00/1.09k [00:00<?, ?B/s]"
      ]
     },
     "metadata": {},
     "output_type": "display_data"
    },
    {
     "data": {
      "application/vnd.jupyter.widget-view+json": {
       "model_id": "acd3b3a9eb01480493ac4301e9a770bf",
       "version_major": 2,
       "version_minor": 0
      },
      "text/plain": [
       "NCBI185.json:   0%|          | 0.00/1.09k [00:00<?, ?B/s]"
      ]
     },
     "metadata": {},
     "output_type": "display_data"
    },
    {
     "data": {
      "application/vnd.jupyter.widget-view+json": {
       "model_id": "f20b5962abc046528e7503661c53702d",
       "version_major": 2,
       "version_minor": 0
      },
      "text/plain": [
       "NCBI181.json:   0%|          | 0.00/1.09k [00:00<?, ?B/s]"
      ]
     },
     "metadata": {},
     "output_type": "display_data"
    },
    {
     "data": {
      "application/vnd.jupyter.widget-view+json": {
       "model_id": "8a06b1cfb324459a911970a3122465d2",
       "version_major": 2,
       "version_minor": 0
      },
      "text/plain": [
       "NCBI187.json:   0%|          | 0.00/1.09k [00:00<?, ?B/s]"
      ]
     },
     "metadata": {},
     "output_type": "display_data"
    },
    {
     "data": {
      "application/vnd.jupyter.widget-view+json": {
       "model_id": "6fced7f278ea4c539f3f4fa9bf4a7c6a",
       "version_major": 2,
       "version_minor": 0
      },
      "text/plain": [
       "NCBI186.json:   0%|          | 0.00/1.09k [00:00<?, ?B/s]"
      ]
     },
     "metadata": {},
     "output_type": "display_data"
    },
    {
     "data": {
      "application/vnd.jupyter.widget-view+json": {
       "model_id": "38d69ff58bd1429c909fbc7da2bf61bf",
       "version_major": 2,
       "version_minor": 0
      },
      "text/plain": [
       "NCBI19.json:   0%|          | 0.00/1.09k [00:00<?, ?B/s]"
      ]
     },
     "metadata": {},
     "output_type": "display_data"
    },
    {
     "data": {
      "application/vnd.jupyter.widget-view+json": {
       "model_id": "abbd0279c9f64206a8c4c9944f67dadf",
       "version_major": 2,
       "version_minor": 0
      },
      "text/plain": [
       "NCBI189.json:   0%|          | 0.00/1.09k [00:00<?, ?B/s]"
      ]
     },
     "metadata": {},
     "output_type": "display_data"
    },
    {
     "data": {
      "application/vnd.jupyter.widget-view+json": {
       "model_id": "d6e7ee642cee4f338e3abdd80f870156",
       "version_major": 2,
       "version_minor": 0
      },
      "text/plain": [
       "NCBI191.json:   0%|          | 0.00/1.09k [00:00<?, ?B/s]"
      ]
     },
     "metadata": {},
     "output_type": "display_data"
    },
    {
     "data": {
      "application/vnd.jupyter.widget-view+json": {
       "model_id": "382c6d001a4146e7bbe36f7442f34dfa",
       "version_major": 2,
       "version_minor": 0
      },
      "text/plain": [
       "NCBI188.json:   0%|          | 0.00/1.09k [00:00<?, ?B/s]"
      ]
     },
     "metadata": {},
     "output_type": "display_data"
    },
    {
     "data": {
      "application/vnd.jupyter.widget-view+json": {
       "model_id": "d6bd1db6f3e7490a8faae27ea2f47013",
       "version_major": 2,
       "version_minor": 0
      },
      "text/plain": [
       "NCBI192.json:   0%|          | 0.00/1.09k [00:00<?, ?B/s]"
      ]
     },
     "metadata": {},
     "output_type": "display_data"
    },
    {
     "data": {
      "application/vnd.jupyter.widget-view+json": {
       "model_id": "f86049a5b2024b46a042acf8997d8818",
       "version_major": 2,
       "version_minor": 0
      },
      "text/plain": [
       "NCBI193.json:   0%|          | 0.00/1.09k [00:00<?, ?B/s]"
      ]
     },
     "metadata": {},
     "output_type": "display_data"
    },
    {
     "data": {
      "application/vnd.jupyter.widget-view+json": {
       "model_id": "051873d551e44a17b950b979b5bd4734",
       "version_major": 2,
       "version_minor": 0
      },
      "text/plain": [
       "NCBI195.json:   0%|          | 0.00/1.09k [00:00<?, ?B/s]"
      ]
     },
     "metadata": {},
     "output_type": "display_data"
    },
    {
     "data": {
      "application/vnd.jupyter.widget-view+json": {
       "model_id": "aa3bb41e56e14c899707f674882f0153",
       "version_major": 2,
       "version_minor": 0
      },
      "text/plain": [
       "NCBI190.json:   0%|          | 0.00/1.09k [00:00<?, ?B/s]"
      ]
     },
     "metadata": {},
     "output_type": "display_data"
    },
    {
     "data": {
      "application/vnd.jupyter.widget-view+json": {
       "model_id": "0061d861e6e34d8986002cffdafe8cd2",
       "version_major": 2,
       "version_minor": 0
      },
      "text/plain": [
       "NCBI196.json:   0%|          | 0.00/1.09k [00:00<?, ?B/s]"
      ]
     },
     "metadata": {},
     "output_type": "display_data"
    },
    {
     "data": {
      "application/vnd.jupyter.widget-view+json": {
       "model_id": "6bf742d7a5074527ab79098f1dcd328a",
       "version_major": 2,
       "version_minor": 0
      },
      "text/plain": [
       "NCBI194.json:   0%|          | 0.00/1.09k [00:00<?, ?B/s]"
      ]
     },
     "metadata": {},
     "output_type": "display_data"
    },
    {
     "data": {
      "application/vnd.jupyter.widget-view+json": {
       "model_id": "0adef2acfa5d4a2e965f71c80e65af87",
       "version_major": 2,
       "version_minor": 0
      },
      "text/plain": [
       "NCBI198.json:   0%|          | 0.00/1.09k [00:00<?, ?B/s]"
      ]
     },
     "metadata": {},
     "output_type": "display_data"
    },
    {
     "data": {
      "application/vnd.jupyter.widget-view+json": {
       "model_id": "ddc92ac8c9e346d39ebe6c6eb3b25b20",
       "version_major": 2,
       "version_minor": 0
      },
      "text/plain": [
       "NCBI199.json:   0%|          | 0.00/1.09k [00:00<?, ?B/s]"
      ]
     },
     "metadata": {},
     "output_type": "display_data"
    },
    {
     "data": {
      "application/vnd.jupyter.widget-view+json": {
       "model_id": "84e86e6edf63424a9fdcc665ea96bc81",
       "version_major": 2,
       "version_minor": 0
      },
      "text/plain": [
       "NCBI2.json:   0%|          | 0.00/1.18k [00:00<?, ?B/s]"
      ]
     },
     "metadata": {},
     "output_type": "display_data"
    },
    {
     "data": {
      "application/vnd.jupyter.widget-view+json": {
       "model_id": "e8c463e53b224f648f16242819ed8c04",
       "version_major": 2,
       "version_minor": 0
      },
      "text/plain": [
       "NCBI20.json:   0%|          | 0.00/1.09k [00:00<?, ?B/s]"
      ]
     },
     "metadata": {},
     "output_type": "display_data"
    },
    {
     "data": {
      "application/vnd.jupyter.widget-view+json": {
       "model_id": "df036b2c1d6e4bd4b7895f9a9d7a0556",
       "version_major": 2,
       "version_minor": 0
      },
      "text/plain": [
       "NCBI197.json:   0%|          | 0.00/1.09k [00:00<?, ?B/s]"
      ]
     },
     "metadata": {},
     "output_type": "display_data"
    },
    {
     "data": {
      "application/vnd.jupyter.widget-view+json": {
       "model_id": "ea566d04f50b4449b0cae55956d49b0a",
       "version_major": 2,
       "version_minor": 0
      },
      "text/plain": [
       "NCBI200.json:   0%|          | 0.00/1.09k [00:00<?, ?B/s]"
      ]
     },
     "metadata": {},
     "output_type": "display_data"
    },
    {
     "data": {
      "application/vnd.jupyter.widget-view+json": {
       "model_id": "3a11a5bae1fa403aabe8ed70d1a9a522",
       "version_major": 2,
       "version_minor": 0
      },
      "text/plain": [
       "NCBI202.json:   0%|          | 0.00/1.09k [00:00<?, ?B/s]"
      ]
     },
     "metadata": {},
     "output_type": "display_data"
    },
    {
     "data": {
      "application/vnd.jupyter.widget-view+json": {
       "model_id": "debbedee7e6446ebb95fd91dfdf0d6e9",
       "version_major": 2,
       "version_minor": 0
      },
      "text/plain": [
       "NCBI203.json:   0%|          | 0.00/1.09k [00:00<?, ?B/s]"
      ]
     },
     "metadata": {},
     "output_type": "display_data"
    },
    {
     "data": {
      "application/vnd.jupyter.widget-view+json": {
       "model_id": "d6e7ed34025f4afdabb68a1a8ae8265e",
       "version_major": 2,
       "version_minor": 0
      },
      "text/plain": [
       "NCBI201.json:   0%|          | 0.00/1.09k [00:00<?, ?B/s]"
      ]
     },
     "metadata": {},
     "output_type": "display_data"
    },
    {
     "data": {
      "application/vnd.jupyter.widget-view+json": {
       "model_id": "d1812ae9f680463b95c7b8d2ea686489",
       "version_major": 2,
       "version_minor": 0
      },
      "text/plain": [
       "NCBI205.json:   0%|          | 0.00/1.09k [00:00<?, ?B/s]"
      ]
     },
     "metadata": {},
     "output_type": "display_data"
    },
    {
     "data": {
      "application/vnd.jupyter.widget-view+json": {
       "model_id": "94dea2f7e10e4b8ca5caa6c93b61681f",
       "version_major": 2,
       "version_minor": 0
      },
      "text/plain": [
       "NCBI208.json:   0%|          | 0.00/1.09k [00:00<?, ?B/s]"
      ]
     },
     "metadata": {},
     "output_type": "display_data"
    },
    {
     "data": {
      "application/vnd.jupyter.widget-view+json": {
       "model_id": "73e3477e5b014932a5de0249b047361a",
       "version_major": 2,
       "version_minor": 0
      },
      "text/plain": [
       "NCBI209.json:   0%|          | 0.00/1.09k [00:00<?, ?B/s]"
      ]
     },
     "metadata": {},
     "output_type": "display_data"
    },
    {
     "data": {
      "application/vnd.jupyter.widget-view+json": {
       "model_id": "e1ba8abcd8284027a2d31f222a3d2300",
       "version_major": 2,
       "version_minor": 0
      },
      "text/plain": [
       "NCBI207.json:   0%|          | 0.00/1.09k [00:00<?, ?B/s]"
      ]
     },
     "metadata": {},
     "output_type": "display_data"
    },
    {
     "data": {
      "application/vnd.jupyter.widget-view+json": {
       "model_id": "9c528489cc014775ac6bd20cc396b94f",
       "version_major": 2,
       "version_minor": 0
      },
      "text/plain": [
       "NCBI204.json:   0%|          | 0.00/1.09k [00:00<?, ?B/s]"
      ]
     },
     "metadata": {},
     "output_type": "display_data"
    },
    {
     "data": {
      "application/vnd.jupyter.widget-view+json": {
       "model_id": "b552155e53fe47a09bee48339719096d",
       "version_major": 2,
       "version_minor": 0
      },
      "text/plain": [
       "NCBI206.json:   0%|          | 0.00/1.09k [00:00<?, ?B/s]"
      ]
     },
     "metadata": {},
     "output_type": "display_data"
    },
    {
     "data": {
      "application/vnd.jupyter.widget-view+json": {
       "model_id": "d3c1582a019741368798d73ca3518858",
       "version_major": 2,
       "version_minor": 0
      },
      "text/plain": [
       "NCBI21.json:   0%|          | 0.00/1.09k [00:00<?, ?B/s]"
      ]
     },
     "metadata": {},
     "output_type": "display_data"
    },
    {
     "data": {
      "application/vnd.jupyter.widget-view+json": {
       "model_id": "cf1e5c724eb44612a963886e4881756b",
       "version_major": 2,
       "version_minor": 0
      },
      "text/plain": [
       "NCBI212.json:   0%|          | 0.00/1.09k [00:00<?, ?B/s]"
      ]
     },
     "metadata": {},
     "output_type": "display_data"
    },
    {
     "data": {
      "application/vnd.jupyter.widget-view+json": {
       "model_id": "949c8fb4285f472cbb56cff5ed940ea4",
       "version_major": 2,
       "version_minor": 0
      },
      "text/plain": [
       "NCBI213.json:   0%|          | 0.00/1.09k [00:00<?, ?B/s]"
      ]
     },
     "metadata": {},
     "output_type": "display_data"
    },
    {
     "data": {
      "application/vnd.jupyter.widget-view+json": {
       "model_id": "94cc066370594eb5a0e45695fbd4bd1e",
       "version_major": 2,
       "version_minor": 0
      },
      "text/plain": [
       "NCBI214.json:   0%|          | 0.00/1.09k [00:00<?, ?B/s]"
      ]
     },
     "metadata": {},
     "output_type": "display_data"
    },
    {
     "data": {
      "application/vnd.jupyter.widget-view+json": {
       "model_id": "8a825d25070c49c6a3c11310e01df49a",
       "version_major": 2,
       "version_minor": 0
      },
      "text/plain": [
       "NCBI210.json:   0%|          | 0.00/1.09k [00:00<?, ?B/s]"
      ]
     },
     "metadata": {},
     "output_type": "display_data"
    },
    {
     "data": {
      "application/vnd.jupyter.widget-view+json": {
       "model_id": "edff6a9061844d2aa61e201766c41e28",
       "version_major": 2,
       "version_minor": 0
      },
      "text/plain": [
       "NCBI211.json:   0%|          | 0.00/1.09k [00:00<?, ?B/s]"
      ]
     },
     "metadata": {},
     "output_type": "display_data"
    },
    {
     "data": {
      "application/vnd.jupyter.widget-view+json": {
       "model_id": "4f19e11224d940998b8936d5dcad748b",
       "version_major": 2,
       "version_minor": 0
      },
      "text/plain": [
       "NCBI216.json:   0%|          | 0.00/1.09k [00:00<?, ?B/s]"
      ]
     },
     "metadata": {},
     "output_type": "display_data"
    },
    {
     "data": {
      "application/vnd.jupyter.widget-view+json": {
       "model_id": "0228235403194d519533e19c93cf4089",
       "version_major": 2,
       "version_minor": 0
      },
      "text/plain": [
       "NCBI215.json:   0%|          | 0.00/1.09k [00:00<?, ?B/s]"
      ]
     },
     "metadata": {},
     "output_type": "display_data"
    },
    {
     "data": {
      "application/vnd.jupyter.widget-view+json": {
       "model_id": "6d5101aeaf2b489dbdc6979d36f956ae",
       "version_major": 2,
       "version_minor": 0
      },
      "text/plain": [
       "NCBI217.json:   0%|          | 0.00/1.09k [00:00<?, ?B/s]"
      ]
     },
     "metadata": {},
     "output_type": "display_data"
    },
    {
     "data": {
      "application/vnd.jupyter.widget-view+json": {
       "model_id": "c3accbffddea42ef97a8fdc2c7f1ef55",
       "version_major": 2,
       "version_minor": 0
      },
      "text/plain": [
       "NCBI218.json:   0%|          | 0.00/1.09k [00:00<?, ?B/s]"
      ]
     },
     "metadata": {},
     "output_type": "display_data"
    },
    {
     "data": {
      "application/vnd.jupyter.widget-view+json": {
       "model_id": "bae6034c6cad4e4b84c109cf0eb0f703",
       "version_major": 2,
       "version_minor": 0
      },
      "text/plain": [
       "NCBI22.json:   0%|          | 0.00/1.09k [00:00<?, ?B/s]"
      ]
     },
     "metadata": {},
     "output_type": "display_data"
    },
    {
     "data": {
      "application/vnd.jupyter.widget-view+json": {
       "model_id": "3b7ea9f4b3a5430e939bb3f58f877fec",
       "version_major": 2,
       "version_minor": 0
      },
      "text/plain": [
       "NCBI226.json:   0%|          | 0.00/1.09k [00:00<?, ?B/s]"
      ]
     },
     "metadata": {},
     "output_type": "display_data"
    },
    {
     "data": {
      "application/vnd.jupyter.widget-view+json": {
       "model_id": "5a3b7429eae3485ca68704e540949f93",
       "version_major": 2,
       "version_minor": 0
      },
      "text/plain": [
       "NCBI221.json:   0%|          | 0.00/1.09k [00:00<?, ?B/s]"
      ]
     },
     "metadata": {},
     "output_type": "display_data"
    },
    {
     "data": {
      "application/vnd.jupyter.widget-view+json": {
       "model_id": "9485c0e2bbe641438a418011b1071b54",
       "version_major": 2,
       "version_minor": 0
      },
      "text/plain": [
       "NCBI223.json:   0%|          | 0.00/1.09k [00:00<?, ?B/s]"
      ]
     },
     "metadata": {},
     "output_type": "display_data"
    },
    {
     "data": {
      "application/vnd.jupyter.widget-view+json": {
       "model_id": "276502b0bb6446e6b5b9021725421273",
       "version_major": 2,
       "version_minor": 0
      },
      "text/plain": [
       "NCBI220.json:   0%|          | 0.00/1.09k [00:00<?, ?B/s]"
      ]
     },
     "metadata": {},
     "output_type": "display_data"
    },
    {
     "data": {
      "application/vnd.jupyter.widget-view+json": {
       "model_id": "25c0fae481904276bc1b21c2337605e9",
       "version_major": 2,
       "version_minor": 0
      },
      "text/plain": [
       "NCBI219.json:   0%|          | 0.00/1.09k [00:00<?, ?B/s]"
      ]
     },
     "metadata": {},
     "output_type": "display_data"
    },
    {
     "data": {
      "application/vnd.jupyter.widget-view+json": {
       "model_id": "fb65094451f94026ae7ba33ecdeaf782",
       "version_major": 2,
       "version_minor": 0
      },
      "text/plain": [
       "NCBI222.json:   0%|          | 0.00/1.09k [00:00<?, ?B/s]"
      ]
     },
     "metadata": {},
     "output_type": "display_data"
    },
    {
     "data": {
      "application/vnd.jupyter.widget-view+json": {
       "model_id": "de6997c832144074a2bacb6a63d224b8",
       "version_major": 2,
       "version_minor": 0
      },
      "text/plain": [
       "NCBI224.json:   0%|          | 0.00/1.09k [00:00<?, ?B/s]"
      ]
     },
     "metadata": {},
     "output_type": "display_data"
    },
    {
     "data": {
      "application/vnd.jupyter.widget-view+json": {
       "model_id": "31bb9ab7a2214db9950943dc9f98b7ca",
       "version_major": 2,
       "version_minor": 0
      },
      "text/plain": [
       "NCBI227.json:   0%|          | 0.00/1.09k [00:00<?, ?B/s]"
      ]
     },
     "metadata": {},
     "output_type": "display_data"
    },
    {
     "data": {
      "application/vnd.jupyter.widget-view+json": {
       "model_id": "250fc552dcea494e9691fc805916b359",
       "version_major": 2,
       "version_minor": 0
      },
      "text/plain": [
       "NCBI225.json:   0%|          | 0.00/1.09k [00:00<?, ?B/s]"
      ]
     },
     "metadata": {},
     "output_type": "display_data"
    },
    {
     "data": {
      "application/vnd.jupyter.widget-view+json": {
       "model_id": "54d8a6b85f1f43d3b0a5f59765a4ce3a",
       "version_major": 2,
       "version_minor": 0
      },
      "text/plain": [
       "NCBI230.json:   0%|          | 0.00/1.09k [00:00<?, ?B/s]"
      ]
     },
     "metadata": {},
     "output_type": "display_data"
    },
    {
     "data": {
      "application/vnd.jupyter.widget-view+json": {
       "model_id": "2e764be1aba14bbba89dab2824e1a767",
       "version_major": 2,
       "version_minor": 0
      },
      "text/plain": [
       "NCBI232.json:   0%|          | 0.00/1.09k [00:00<?, ?B/s]"
      ]
     },
     "metadata": {},
     "output_type": "display_data"
    },
    {
     "data": {
      "application/vnd.jupyter.widget-view+json": {
       "model_id": "73da5c29b947426c93c518790275c190",
       "version_major": 2,
       "version_minor": 0
      },
      "text/plain": [
       "NCBI228.json:   0%|          | 0.00/1.09k [00:00<?, ?B/s]"
      ]
     },
     "metadata": {},
     "output_type": "display_data"
    },
    {
     "data": {
      "application/vnd.jupyter.widget-view+json": {
       "model_id": "9310bd7f1169437d978577eceb3ee37b",
       "version_major": 2,
       "version_minor": 0
      },
      "text/plain": [
       "NCBI229.json:   0%|          | 0.00/1.09k [00:00<?, ?B/s]"
      ]
     },
     "metadata": {},
     "output_type": "display_data"
    },
    {
     "data": {
      "application/vnd.jupyter.widget-view+json": {
       "model_id": "e6355a487e5e47d6b6c110c2a4816164",
       "version_major": 2,
       "version_minor": 0
      },
      "text/plain": [
       "NCBI231.json:   0%|          | 0.00/1.09k [00:00<?, ?B/s]"
      ]
     },
     "metadata": {},
     "output_type": "display_data"
    },
    {
     "data": {
      "application/vnd.jupyter.widget-view+json": {
       "model_id": "995ea462ba5e43d88f067f057c386d09",
       "version_major": 2,
       "version_minor": 0
      },
      "text/plain": [
       "NCBI23.json:   0%|          | 0.00/1.09k [00:00<?, ?B/s]"
      ]
     },
     "metadata": {},
     "output_type": "display_data"
    },
    {
     "data": {
      "application/vnd.jupyter.widget-view+json": {
       "model_id": "bfb3d00ea80a45a9bf293f7f7a84f97d",
       "version_major": 2,
       "version_minor": 0
      },
      "text/plain": [
       "NCBI233.json:   0%|          | 0.00/1.09k [00:00<?, ?B/s]"
      ]
     },
     "metadata": {},
     "output_type": "display_data"
    },
    {
     "data": {
      "application/vnd.jupyter.widget-view+json": {
       "model_id": "29cd13ffa4d94199a1cb222cacb8c4b0",
       "version_major": 2,
       "version_minor": 0
      },
      "text/plain": [
       "NCBI235.json:   0%|          | 0.00/1.09k [00:00<?, ?B/s]"
      ]
     },
     "metadata": {},
     "output_type": "display_data"
    },
    {
     "data": {
      "application/vnd.jupyter.widget-view+json": {
       "model_id": "ee8b8b107e644ba0ac498b3ac452793a",
       "version_major": 2,
       "version_minor": 0
      },
      "text/plain": [
       "NCBI238.json:   0%|          | 0.00/1.09k [00:00<?, ?B/s]"
      ]
     },
     "metadata": {},
     "output_type": "display_data"
    },
    {
     "data": {
      "application/vnd.jupyter.widget-view+json": {
       "model_id": "79040384c5994682a0072cb04916b2f4",
       "version_major": 2,
       "version_minor": 0
      },
      "text/plain": [
       "NCBI236.json:   0%|          | 0.00/1.09k [00:00<?, ?B/s]"
      ]
     },
     "metadata": {},
     "output_type": "display_data"
    },
    {
     "data": {
      "application/vnd.jupyter.widget-view+json": {
       "model_id": "33a82bea2bbc49cfac024bc9e6e7ca4c",
       "version_major": 2,
       "version_minor": 0
      },
      "text/plain": [
       "NCBI24.json:   0%|          | 0.00/1.09k [00:00<?, ?B/s]"
      ]
     },
     "metadata": {},
     "output_type": "display_data"
    },
    {
     "data": {
      "application/vnd.jupyter.widget-view+json": {
       "model_id": "dc2cf716d403433dac2c4c5e5af74c4e",
       "version_major": 2,
       "version_minor": 0
      },
      "text/plain": [
       "NCBI237.json:   0%|          | 0.00/1.09k [00:00<?, ?B/s]"
      ]
     },
     "metadata": {},
     "output_type": "display_data"
    },
    {
     "data": {
      "application/vnd.jupyter.widget-view+json": {
       "model_id": "2a32e568025f473a814102a3fb2c14ea",
       "version_major": 2,
       "version_minor": 0
      },
      "text/plain": [
       "NCBI240.json:   0%|          | 0.00/1.09k [00:00<?, ?B/s]"
      ]
     },
     "metadata": {},
     "output_type": "display_data"
    },
    {
     "data": {
      "application/vnd.jupyter.widget-view+json": {
       "model_id": "bb10384c19e04a20a5cb1d6974402f0f",
       "version_major": 2,
       "version_minor": 0
      },
      "text/plain": [
       "NCBI241.json:   0%|          | 0.00/1.09k [00:00<?, ?B/s]"
      ]
     },
     "metadata": {},
     "output_type": "display_data"
    },
    {
     "data": {
      "application/vnd.jupyter.widget-view+json": {
       "model_id": "e4845b3dd4ba4f2992662fca9960b2b3",
       "version_major": 2,
       "version_minor": 0
      },
      "text/plain": [
       "NCBI234.json:   0%|          | 0.00/1.09k [00:00<?, ?B/s]"
      ]
     },
     "metadata": {},
     "output_type": "display_data"
    },
    {
     "data": {
      "application/vnd.jupyter.widget-view+json": {
       "model_id": "f53965a2e2ba453fa171c58cc54e6db6",
       "version_major": 2,
       "version_minor": 0
      },
      "text/plain": [
       "NCBI239.json:   0%|          | 0.00/1.09k [00:00<?, ?B/s]"
      ]
     },
     "metadata": {},
     "output_type": "display_data"
    },
    {
     "data": {
      "application/vnd.jupyter.widget-view+json": {
       "model_id": "2abf1b7cdd8c46cab53540d5c4e307bd",
       "version_major": 2,
       "version_minor": 0
      },
      "text/plain": [
       "NCBI243.json:   0%|          | 0.00/1.09k [00:00<?, ?B/s]"
      ]
     },
     "metadata": {},
     "output_type": "display_data"
    },
    {
     "data": {
      "application/vnd.jupyter.widget-view+json": {
       "model_id": "9ce235eed8cf4373ba5a665f783e07cf",
       "version_major": 2,
       "version_minor": 0
      },
      "text/plain": [
       "NCBI246.json:   0%|          | 0.00/1.09k [00:00<?, ?B/s]"
      ]
     },
     "metadata": {},
     "output_type": "display_data"
    },
    {
     "data": {
      "application/vnd.jupyter.widget-view+json": {
       "model_id": "17663d3d5b44472da20b674f9691a66a",
       "version_major": 2,
       "version_minor": 0
      },
      "text/plain": [
       "NCBI244.json:   0%|          | 0.00/1.09k [00:00<?, ?B/s]"
      ]
     },
     "metadata": {},
     "output_type": "display_data"
    },
    {
     "data": {
      "application/vnd.jupyter.widget-view+json": {
       "model_id": "1180d291f8b64fe590fa9264e1fb4d04",
       "version_major": 2,
       "version_minor": 0
      },
      "text/plain": [
       "NCBI245.json:   0%|          | 0.00/1.09k [00:00<?, ?B/s]"
      ]
     },
     "metadata": {},
     "output_type": "display_data"
    },
    {
     "data": {
      "application/vnd.jupyter.widget-view+json": {
       "model_id": "c8331c13b480448aa6ac616fe37b85be",
       "version_major": 2,
       "version_minor": 0
      },
      "text/plain": [
       "NCBI247.json:   0%|          | 0.00/1.09k [00:00<?, ?B/s]"
      ]
     },
     "metadata": {},
     "output_type": "display_data"
    },
    {
     "data": {
      "application/vnd.jupyter.widget-view+json": {
       "model_id": "ec240b496f654b4383bd71fac1cac24d",
       "version_major": 2,
       "version_minor": 0
      },
      "text/plain": [
       "NCBI242.json:   0%|          | 0.00/1.09k [00:00<?, ?B/s]"
      ]
     },
     "metadata": {},
     "output_type": "display_data"
    },
    {
     "data": {
      "application/vnd.jupyter.widget-view+json": {
       "model_id": "97fdf4366ab44d55875e67012afb4136",
       "version_major": 2,
       "version_minor": 0
      },
      "text/plain": [
       "NCBI249.json:   0%|          | 0.00/1.09k [00:00<?, ?B/s]"
      ]
     },
     "metadata": {},
     "output_type": "display_data"
    },
    {
     "data": {
      "application/vnd.jupyter.widget-view+json": {
       "model_id": "a0b97effdcdd47e4b3df7bc136887523",
       "version_major": 2,
       "version_minor": 0
      },
      "text/plain": [
       "NCBI251.json:   0%|          | 0.00/1.09k [00:00<?, ?B/s]"
      ]
     },
     "metadata": {},
     "output_type": "display_data"
    },
    {
     "data": {
      "application/vnd.jupyter.widget-view+json": {
       "model_id": "f7277a61124f4929867c4ec4de24d2f2",
       "version_major": 2,
       "version_minor": 0
      },
      "text/plain": [
       "NCBI250.json:   0%|          | 0.00/1.09k [00:00<?, ?B/s]"
      ]
     },
     "metadata": {},
     "output_type": "display_data"
    },
    {
     "data": {
      "application/vnd.jupyter.widget-view+json": {
       "model_id": "4e77433c807d46748f45d1d7840a22c6",
       "version_major": 2,
       "version_minor": 0
      },
      "text/plain": [
       "NCBI25.json:   0%|          | 0.00/1.09k [00:00<?, ?B/s]"
      ]
     },
     "metadata": {},
     "output_type": "display_data"
    },
    {
     "data": {
      "application/vnd.jupyter.widget-view+json": {
       "model_id": "c7852e2954814122b50efd0c76d642ec",
       "version_major": 2,
       "version_minor": 0
      },
      "text/plain": [
       "NCBI253.json:   0%|          | 0.00/1.09k [00:00<?, ?B/s]"
      ]
     },
     "metadata": {},
     "output_type": "display_data"
    },
    {
     "data": {
      "application/vnd.jupyter.widget-view+json": {
       "model_id": "073738dfd6f54022b52108fba76f9d42",
       "version_major": 2,
       "version_minor": 0
      },
      "text/plain": [
       "NCBI248.json:   0%|          | 0.00/1.09k [00:00<?, ?B/s]"
      ]
     },
     "metadata": {},
     "output_type": "display_data"
    },
    {
     "data": {
      "application/vnd.jupyter.widget-view+json": {
       "model_id": "f1240c3a51e54fa2ae8ab613d66df46a",
       "version_major": 2,
       "version_minor": 0
      },
      "text/plain": [
       "NCBI252.json:   0%|          | 0.00/1.09k [00:00<?, ?B/s]"
      ]
     },
     "metadata": {},
     "output_type": "display_data"
    },
    {
     "data": {
      "application/vnd.jupyter.widget-view+json": {
       "model_id": "b09933ed62dc4937995316008f3e8342",
       "version_major": 2,
       "version_minor": 0
      },
      "text/plain": [
       "NCBI257.json:   0%|          | 0.00/1.09k [00:00<?, ?B/s]"
      ]
     },
     "metadata": {},
     "output_type": "display_data"
    },
    {
     "data": {
      "application/vnd.jupyter.widget-view+json": {
       "model_id": "e46c98406c5a4f7fb774f3d61f9e0191",
       "version_major": 2,
       "version_minor": 0
      },
      "text/plain": [
       "NCBI258.json:   0%|          | 0.00/1.09k [00:00<?, ?B/s]"
      ]
     },
     "metadata": {},
     "output_type": "display_data"
    },
    {
     "data": {
      "application/vnd.jupyter.widget-view+json": {
       "model_id": "e356d5bcfb4c49f98545bfbf9334b600",
       "version_major": 2,
       "version_minor": 0
      },
      "text/plain": [
       "NCBI254.json:   0%|          | 0.00/1.09k [00:00<?, ?B/s]"
      ]
     },
     "metadata": {},
     "output_type": "display_data"
    },
    {
     "data": {
      "application/vnd.jupyter.widget-view+json": {
       "model_id": "0f8b3ebde9df4280a88f86b2b63210f0",
       "version_major": 2,
       "version_minor": 0
      },
      "text/plain": [
       "NCBI255.json:   0%|          | 0.00/1.09k [00:00<?, ?B/s]"
      ]
     },
     "metadata": {},
     "output_type": "display_data"
    },
    {
     "data": {
      "application/vnd.jupyter.widget-view+json": {
       "model_id": "d700a7b97ff5425bb50aa51d363d6427",
       "version_major": 2,
       "version_minor": 0
      },
      "text/plain": [
       "NCBI259.json:   0%|          | 0.00/1.09k [00:00<?, ?B/s]"
      ]
     },
     "metadata": {},
     "output_type": "display_data"
    },
    {
     "data": {
      "application/vnd.jupyter.widget-view+json": {
       "model_id": "1076026db0b74214bd316352fb723d03",
       "version_major": 2,
       "version_minor": 0
      },
      "text/plain": [
       "NCBI256.json:   0%|          | 0.00/1.09k [00:00<?, ?B/s]"
      ]
     },
     "metadata": {},
     "output_type": "display_data"
    },
    {
     "data": {
      "application/vnd.jupyter.widget-view+json": {
       "model_id": "e1c236f7f3d64fbdb4f935313165a848",
       "version_major": 2,
       "version_minor": 0
      },
      "text/plain": [
       "NCBI262.json:   0%|          | 0.00/1.09k [00:00<?, ?B/s]"
      ]
     },
     "metadata": {},
     "output_type": "display_data"
    },
    {
     "data": {
      "application/vnd.jupyter.widget-view+json": {
       "model_id": "82b449a4d4b440969d01e620bf4e4257",
       "version_major": 2,
       "version_minor": 0
      },
      "text/plain": [
       "NCBI260.json:   0%|          | 0.00/1.09k [00:00<?, ?B/s]"
      ]
     },
     "metadata": {},
     "output_type": "display_data"
    },
    {
     "data": {
      "application/vnd.jupyter.widget-view+json": {
       "model_id": "7ad0b86950674ae0ab70ed3bac7dcd4d",
       "version_major": 2,
       "version_minor": 0
      },
      "text/plain": [
       "NCBI263.json:   0%|          | 0.00/1.09k [00:00<?, ?B/s]"
      ]
     },
     "metadata": {},
     "output_type": "display_data"
    },
    {
     "data": {
      "application/vnd.jupyter.widget-view+json": {
       "model_id": "7feae0f213694547ae77c7934d21f3cd",
       "version_major": 2,
       "version_minor": 0
      },
      "text/plain": [
       "NCBI26.json:   0%|          | 0.00/1.09k [00:00<?, ?B/s]"
      ]
     },
     "metadata": {},
     "output_type": "display_data"
    },
    {
     "data": {
      "application/vnd.jupyter.widget-view+json": {
       "model_id": "348b250f831841718513f0af9a23cd5e",
       "version_major": 2,
       "version_minor": 0
      },
      "text/plain": [
       "NCBI268.json:   0%|          | 0.00/1.09k [00:00<?, ?B/s]"
      ]
     },
     "metadata": {},
     "output_type": "display_data"
    },
    {
     "data": {
      "application/vnd.jupyter.widget-view+json": {
       "model_id": "261ad38a771e4355ab52e444d610b213",
       "version_major": 2,
       "version_minor": 0
      },
      "text/plain": [
       "NCBI264.json:   0%|          | 0.00/1.09k [00:00<?, ?B/s]"
      ]
     },
     "metadata": {},
     "output_type": "display_data"
    },
    {
     "data": {
      "application/vnd.jupyter.widget-view+json": {
       "model_id": "c316f4b456c94157bf9658bdff26ffd0",
       "version_major": 2,
       "version_minor": 0
      },
      "text/plain": [
       "NCBI261.json:   0%|          | 0.00/1.09k [00:00<?, ?B/s]"
      ]
     },
     "metadata": {},
     "output_type": "display_data"
    },
    {
     "data": {
      "application/vnd.jupyter.widget-view+json": {
       "model_id": "5e7db2d0f57e4e80b702a691009cffb7",
       "version_major": 2,
       "version_minor": 0
      },
      "text/plain": [
       "NCBI265.json:   0%|          | 0.00/1.09k [00:00<?, ?B/s]"
      ]
     },
     "metadata": {},
     "output_type": "display_data"
    },
    {
     "data": {
      "application/vnd.jupyter.widget-view+json": {
       "model_id": "4b538910eec5480781c5a10e32cb0830",
       "version_major": 2,
       "version_minor": 0
      },
      "text/plain": [
       "NCBI267.json:   0%|          | 0.00/1.09k [00:00<?, ?B/s]"
      ]
     },
     "metadata": {},
     "output_type": "display_data"
    },
    {
     "data": {
      "application/vnd.jupyter.widget-view+json": {
       "model_id": "e1da68af8dd34f0fa95afa6905c24ffd",
       "version_major": 2,
       "version_minor": 0
      },
      "text/plain": [
       "NCBI270.json:   0%|          | 0.00/1.09k [00:00<?, ?B/s]"
      ]
     },
     "metadata": {},
     "output_type": "display_data"
    },
    {
     "data": {
      "application/vnd.jupyter.widget-view+json": {
       "model_id": "10210fbca6334f9283af196fea6b7b7d",
       "version_major": 2,
       "version_minor": 0
      },
      "text/plain": [
       "NCBI266.json:   0%|          | 0.00/1.09k [00:00<?, ?B/s]"
      ]
     },
     "metadata": {},
     "output_type": "display_data"
    },
    {
     "data": {
      "application/vnd.jupyter.widget-view+json": {
       "model_id": "dc1fcda133ae4ac0b8254d73e3f170ea",
       "version_major": 2,
       "version_minor": 0
      },
      "text/plain": [
       "NCBI269.json:   0%|          | 0.00/1.09k [00:00<?, ?B/s]"
      ]
     },
     "metadata": {},
     "output_type": "display_data"
    },
    {
     "data": {
      "application/vnd.jupyter.widget-view+json": {
       "model_id": "3a58056f04604fd1b1481d254749a3d6",
       "version_major": 2,
       "version_minor": 0
      },
      "text/plain": [
       "NCBI272.json:   0%|          | 0.00/1.09k [00:00<?, ?B/s]"
      ]
     },
     "metadata": {},
     "output_type": "display_data"
    },
    {
     "data": {
      "application/vnd.jupyter.widget-view+json": {
       "model_id": "9843c54ca74842d2a292310b81e78ccc",
       "version_major": 2,
       "version_minor": 0
      },
      "text/plain": [
       "NCBI273.json:   0%|          | 0.00/1.09k [00:00<?, ?B/s]"
      ]
     },
     "metadata": {},
     "output_type": "display_data"
    },
    {
     "data": {
      "application/vnd.jupyter.widget-view+json": {
       "model_id": "56c81cb09aec456fa92b96146f4f058b",
       "version_major": 2,
       "version_minor": 0
      },
      "text/plain": [
       "NCBI276.json:   0%|          | 0.00/1.09k [00:00<?, ?B/s]"
      ]
     },
     "metadata": {},
     "output_type": "display_data"
    },
    {
     "data": {
      "application/vnd.jupyter.widget-view+json": {
       "model_id": "999d6e9021b84b768471b2e677fdc0ca",
       "version_major": 2,
       "version_minor": 0
      },
      "text/plain": [
       "NCBI277.json:   0%|          | 0.00/1.09k [00:00<?, ?B/s]"
      ]
     },
     "metadata": {},
     "output_type": "display_data"
    },
    {
     "data": {
      "application/vnd.jupyter.widget-view+json": {
       "model_id": "bd4acba1b9ff4e00843bfd88a7142f1e",
       "version_major": 2,
       "version_minor": 0
      },
      "text/plain": [
       "NCBI27.json:   0%|          | 0.00/1.09k [00:00<?, ?B/s]"
      ]
     },
     "metadata": {},
     "output_type": "display_data"
    },
    {
     "data": {
      "application/vnd.jupyter.widget-view+json": {
       "model_id": "d70d3f02ffac483c898f9f1afcb3d3d2",
       "version_major": 2,
       "version_minor": 0
      },
      "text/plain": [
       "NCBI278.json:   0%|          | 0.00/1.09k [00:00<?, ?B/s]"
      ]
     },
     "metadata": {},
     "output_type": "display_data"
    },
    {
     "data": {
      "application/vnd.jupyter.widget-view+json": {
       "model_id": "d84644aa3df14cbfb80234c2742636e9",
       "version_major": 2,
       "version_minor": 0
      },
      "text/plain": [
       "NCBI279.json:   0%|          | 0.00/1.09k [00:00<?, ?B/s]"
      ]
     },
     "metadata": {},
     "output_type": "display_data"
    },
    {
     "data": {
      "application/vnd.jupyter.widget-view+json": {
       "model_id": "b00d9b0492d5435b9a698ee9a57f3ced",
       "version_major": 2,
       "version_minor": 0
      },
      "text/plain": [
       "NCBI274.json:   0%|          | 0.00/1.09k [00:00<?, ?B/s]"
      ]
     },
     "metadata": {},
     "output_type": "display_data"
    },
    {
     "data": {
      "application/vnd.jupyter.widget-view+json": {
       "model_id": "3e11acd426ea4d78b0773356c8c57e5b",
       "version_major": 2,
       "version_minor": 0
      },
      "text/plain": [
       "NCBI275.json:   0%|          | 0.00/1.09k [00:00<?, ?B/s]"
      ]
     },
     "metadata": {},
     "output_type": "display_data"
    },
    {
     "data": {
      "application/vnd.jupyter.widget-view+json": {
       "model_id": "c7ccfc4791d84e03bd196d7081a41b0b",
       "version_major": 2,
       "version_minor": 0
      },
      "text/plain": [
       "NCBI280.json:   0%|          | 0.00/1.09k [00:00<?, ?B/s]"
      ]
     },
     "metadata": {},
     "output_type": "display_data"
    },
    {
     "data": {
      "application/vnd.jupyter.widget-view+json": {
       "model_id": "2665a6af6b0a4b568b8b54bab517fc81",
       "version_major": 2,
       "version_minor": 0
      },
      "text/plain": [
       "NCBI271.json:   0%|          | 0.00/1.09k [00:00<?, ?B/s]"
      ]
     },
     "metadata": {},
     "output_type": "display_data"
    },
    {
     "data": {
      "application/vnd.jupyter.widget-view+json": {
       "model_id": "bb18638f079c4b02a17541e68ba5f64f",
       "version_major": 2,
       "version_minor": 0
      },
      "text/plain": [
       "NCBI283.json:   0%|          | 0.00/1.09k [00:00<?, ?B/s]"
      ]
     },
     "metadata": {},
     "output_type": "display_data"
    },
    {
     "data": {
      "application/vnd.jupyter.widget-view+json": {
       "model_id": "06212bca4f1c4fcfb300fa23916a4e63",
       "version_major": 2,
       "version_minor": 0
      },
      "text/plain": [
       "NCBI282.json:   0%|          | 0.00/1.09k [00:00<?, ?B/s]"
      ]
     },
     "metadata": {},
     "output_type": "display_data"
    },
    {
     "data": {
      "application/vnd.jupyter.widget-view+json": {
       "model_id": "25daaaa0e42b4cd8a679b5028eec97c0",
       "version_major": 2,
       "version_minor": 0
      },
      "text/plain": [
       "NCBI285.json:   0%|          | 0.00/1.09k [00:00<?, ?B/s]"
      ]
     },
     "metadata": {},
     "output_type": "display_data"
    },
    {
     "data": {
      "application/vnd.jupyter.widget-view+json": {
       "model_id": "5b51bbec027e4d549e9d40dca0d9a7c7",
       "version_major": 2,
       "version_minor": 0
      },
      "text/plain": [
       "NCBI284.json:   0%|          | 0.00/1.09k [00:00<?, ?B/s]"
      ]
     },
     "metadata": {},
     "output_type": "display_data"
    },
    {
     "data": {
      "application/vnd.jupyter.widget-view+json": {
       "model_id": "57c28dcdb09d4017b28627168559cd7b",
       "version_major": 2,
       "version_minor": 0
      },
      "text/plain": [
       "NCBI286.json:   0%|          | 0.00/1.09k [00:00<?, ?B/s]"
      ]
     },
     "metadata": {},
     "output_type": "display_data"
    },
    {
     "data": {
      "application/vnd.jupyter.widget-view+json": {
       "model_id": "0b1d15ee379040cba6f31fc4a9cbead8",
       "version_major": 2,
       "version_minor": 0
      },
      "text/plain": [
       "NCBI28.json:   0%|          | 0.00/1.09k [00:00<?, ?B/s]"
      ]
     },
     "metadata": {},
     "output_type": "display_data"
    },
    {
     "data": {
      "application/vnd.jupyter.widget-view+json": {
       "model_id": "af6b08c64d6444eb82e5f7b4ccbf50db",
       "version_major": 2,
       "version_minor": 0
      },
      "text/plain": [
       "NCBI281.json:   0%|          | 0.00/1.09k [00:00<?, ?B/s]"
      ]
     },
     "metadata": {},
     "output_type": "display_data"
    },
    {
     "data": {
      "application/vnd.jupyter.widget-view+json": {
       "model_id": "e5033018b0e945b29105322f302ca09a",
       "version_major": 2,
       "version_minor": 0
      },
      "text/plain": [
       "NCBI288.json:   0%|          | 0.00/1.09k [00:00<?, ?B/s]"
      ]
     },
     "metadata": {},
     "output_type": "display_data"
    },
    {
     "data": {
      "application/vnd.jupyter.widget-view+json": {
       "model_id": "7264300bf77a4307aa8156251a0d673b",
       "version_major": 2,
       "version_minor": 0
      },
      "text/plain": [
       "NCBI287.json:   0%|          | 0.00/1.09k [00:00<?, ?B/s]"
      ]
     },
     "metadata": {},
     "output_type": "display_data"
    },
    {
     "data": {
      "application/vnd.jupyter.widget-view+json": {
       "model_id": "b8fc3ca513e648eda5ae3635badfbf83",
       "version_major": 2,
       "version_minor": 0
      },
      "text/plain": [
       "NCBI290.json:   0%|          | 0.00/1.09k [00:00<?, ?B/s]"
      ]
     },
     "metadata": {},
     "output_type": "display_data"
    },
    {
     "data": {
      "application/vnd.jupyter.widget-view+json": {
       "model_id": "36af3209711b4630ae593e974ee32575",
       "version_major": 2,
       "version_minor": 0
      },
      "text/plain": [
       "NCBI29.json:   0%|          | 0.00/1.09k [00:00<?, ?B/s]"
      ]
     },
     "metadata": {},
     "output_type": "display_data"
    },
    {
     "data": {
      "application/vnd.jupyter.widget-view+json": {
       "model_id": "c6eca0df452e429f92762be79acb1370",
       "version_major": 2,
       "version_minor": 0
      },
      "text/plain": [
       "NCBI289.json:   0%|          | 0.00/1.09k [00:00<?, ?B/s]"
      ]
     },
     "metadata": {},
     "output_type": "display_data"
    },
    {
     "data": {
      "application/vnd.jupyter.widget-view+json": {
       "model_id": "6af866f66ec94357b03bc8f24a438213",
       "version_major": 2,
       "version_minor": 0
      },
      "text/plain": [
       "NCBI293.json:   0%|          | 0.00/1.09k [00:00<?, ?B/s]"
      ]
     },
     "metadata": {},
     "output_type": "display_data"
    },
    {
     "data": {
      "application/vnd.jupyter.widget-view+json": {
       "model_id": "a5a35e3b9953417cbdac0f3b50d23093",
       "version_major": 2,
       "version_minor": 0
      },
      "text/plain": [
       "NCBI292.json:   0%|          | 0.00/1.09k [00:00<?, ?B/s]"
      ]
     },
     "metadata": {},
     "output_type": "display_data"
    },
    {
     "data": {
      "application/vnd.jupyter.widget-view+json": {
       "model_id": "b98f802c6d2f4e4f985451327192a9f9",
       "version_major": 2,
       "version_minor": 0
      },
      "text/plain": [
       "NCBI294.json:   0%|          | 0.00/1.09k [00:00<?, ?B/s]"
      ]
     },
     "metadata": {},
     "output_type": "display_data"
    },
    {
     "data": {
      "application/vnd.jupyter.widget-view+json": {
       "model_id": "e0e70e968e3a4d6c83c62e1798731d56",
       "version_major": 2,
       "version_minor": 0
      },
      "text/plain": [
       "NCBI291.json:   0%|          | 0.00/1.09k [00:00<?, ?B/s]"
      ]
     },
     "metadata": {},
     "output_type": "display_data"
    },
    {
     "data": {
      "application/vnd.jupyter.widget-view+json": {
       "model_id": "675943f066574d4bac2f89564b685bc9",
       "version_major": 2,
       "version_minor": 0
      },
      "text/plain": [
       "NCBI295.json:   0%|          | 0.00/1.09k [00:00<?, ?B/s]"
      ]
     },
     "metadata": {},
     "output_type": "display_data"
    },
    {
     "data": {
      "application/vnd.jupyter.widget-view+json": {
       "model_id": "b2bdc20d1bc546cfadc5d295807373ee",
       "version_major": 2,
       "version_minor": 0
      },
      "text/plain": [
       "NCBI298.json:   0%|          | 0.00/1.09k [00:00<?, ?B/s]"
      ]
     },
     "metadata": {},
     "output_type": "display_data"
    },
    {
     "data": {
      "application/vnd.jupyter.widget-view+json": {
       "model_id": "8488fdc530644cfa8da40fdeccd7c33d",
       "version_major": 2,
       "version_minor": 0
      },
      "text/plain": [
       "NCBI569.json:   0%|          | 0.00/1.04k [00:00<?, ?B/s]"
      ]
     },
     "metadata": {},
     "output_type": "display_data"
    },
    {
     "data": {
      "application/vnd.jupyter.widget-view+json": {
       "model_id": "17ffe184e79541fdadef4201ccb7525b",
       "version_major": 2,
       "version_minor": 0
      },
      "text/plain": [
       "NCBI572.json:   0%|          | 0.00/1.04k [00:00<?, ?B/s]"
      ]
     },
     "metadata": {},
     "output_type": "display_data"
    },
    {
     "data": {
      "application/vnd.jupyter.widget-view+json": {
       "model_id": "a827a491c4f249648174f5ff3cc2a3ea",
       "version_major": 2,
       "version_minor": 0
      },
      "text/plain": [
       "NCBI571.json:   0%|          | 0.00/1.04k [00:00<?, ?B/s]"
      ]
     },
     "metadata": {},
     "output_type": "display_data"
    },
    {
     "data": {
      "application/vnd.jupyter.widget-view+json": {
       "model_id": "53746cc3c5db460dabd1ced03eb1db07",
       "version_major": 2,
       "version_minor": 0
      },
      "text/plain": [
       "NCBI299.json:   0%|          | 0.00/1.09k [00:00<?, ?B/s]"
      ]
     },
     "metadata": {},
     "output_type": "display_data"
    },
    {
     "data": {
      "application/vnd.jupyter.widget-view+json": {
       "model_id": "f442a2996b954f1ba587f5e8c2ce6418",
       "version_major": 2,
       "version_minor": 0
      },
      "text/plain": [
       "NCBI570.json:   0%|          | 0.00/1.04k [00:00<?, ?B/s]"
      ]
     },
     "metadata": {},
     "output_type": "display_data"
    },
    {
     "data": {
      "application/vnd.jupyter.widget-view+json": {
       "model_id": "cde357e84c4b4476b3a9c9d2a390a26a",
       "version_major": 2,
       "version_minor": 0
      },
      "text/plain": [
       "NCBI296.json:   0%|          | 0.00/1.09k [00:00<?, ?B/s]"
      ]
     },
     "metadata": {},
     "output_type": "display_data"
    },
    {
     "data": {
      "application/vnd.jupyter.widget-view+json": {
       "model_id": "d14ac7f92f694ae08363f4b169b583cb",
       "version_major": 2,
       "version_minor": 0
      },
      "text/plain": [
       "NCBI297.json:   0%|          | 0.00/1.09k [00:00<?, ?B/s]"
      ]
     },
     "metadata": {},
     "output_type": "display_data"
    },
    {
     "data": {
      "application/vnd.jupyter.widget-view+json": {
       "model_id": "1a40e89ebe144bce9fc19a1a1a611b83",
       "version_major": 2,
       "version_minor": 0
      },
      "text/plain": [
       "NCBI600.json:   0%|          | 0.00/957 [00:00<?, ?B/s]"
      ]
     },
     "metadata": {},
     "output_type": "display_data"
    },
    {
     "data": {
      "application/vnd.jupyter.widget-view+json": {
       "model_id": "cfaf381761bd4e71af557a6a2dee7b10",
       "version_major": 2,
       "version_minor": 0
      },
      "text/plain": [
       "NCBI601.json:   0%|          | 0.00/957 [00:00<?, ?B/s]"
      ]
     },
     "metadata": {},
     "output_type": "display_data"
    },
    {
     "data": {
      "application/vnd.jupyter.widget-view+json": {
       "model_id": "8e7931ca8cdf45ecb7878a26e1513ab3",
       "version_major": 2,
       "version_minor": 0
      },
      "text/plain": [
       "NCBI603.json:   0%|          | 0.00/958 [00:00<?, ?B/s]"
      ]
     },
     "metadata": {},
     "output_type": "display_data"
    },
    {
     "data": {
      "application/vnd.jupyter.widget-view+json": {
       "model_id": "c616b1b065254df299bcacc17dd15ced",
       "version_major": 2,
       "version_minor": 0
      },
      "text/plain": [
       "NCBI628.json:   0%|          | 0.00/1.06k [00:00<?, ?B/s]"
      ]
     },
     "metadata": {},
     "output_type": "display_data"
    },
    {
     "data": {
      "application/vnd.jupyter.widget-view+json": {
       "model_id": "3eea9b21692b4f2a8a03c5d40dc536de",
       "version_major": 2,
       "version_minor": 0
      },
      "text/plain": [
       "NCBI629.json:   0%|          | 0.00/1.06k [00:00<?, ?B/s]"
      ]
     },
     "metadata": {},
     "output_type": "display_data"
    },
    {
     "data": {
      "application/vnd.jupyter.widget-view+json": {
       "model_id": "e22c6c2a669b4aa29d508fd093ba9c50",
       "version_major": 2,
       "version_minor": 0
      },
      "text/plain": [
       "NCBI630.json:   0%|          | 0.00/1.06k [00:00<?, ?B/s]"
      ]
     },
     "metadata": {},
     "output_type": "display_data"
    },
    {
     "data": {
      "application/vnd.jupyter.widget-view+json": {
       "model_id": "40fe6a59edf54eaeb0beeb6df59fb033",
       "version_major": 2,
       "version_minor": 0
      },
      "text/plain": [
       "NCBI602.json:   0%|          | 0.00/956 [00:00<?, ?B/s]"
      ]
     },
     "metadata": {},
     "output_type": "display_data"
    },
    {
     "data": {
      "application/vnd.jupyter.widget-view+json": {
       "model_id": "926f4fcc57624c21b027c685a39d91db",
       "version_major": 2,
       "version_minor": 0
      },
      "text/plain": [
       "NCBI633.json:   0%|          | 0.00/1.06k [00:00<?, ?B/s]"
      ]
     },
     "metadata": {},
     "output_type": "display_data"
    },
    {
     "data": {
      "application/vnd.jupyter.widget-view+json": {
       "model_id": "e90b1e0d30c54c05846ebc0f15134309",
       "version_major": 2,
       "version_minor": 0
      },
      "text/plain": [
       "NCBI632.json:   0%|          | 0.00/1.06k [00:00<?, ?B/s]"
      ]
     },
     "metadata": {},
     "output_type": "display_data"
    },
    {
     "data": {
      "application/vnd.jupyter.widget-view+json": {
       "model_id": "a760eccaee5343cea3c06a6a5fd9e691",
       "version_major": 2,
       "version_minor": 0
      },
      "text/plain": [
       "NCBI631.json:   0%|          | 0.00/1.06k [00:00<?, ?B/s]"
      ]
     },
     "metadata": {},
     "output_type": "display_data"
    },
    {
     "data": {
      "application/vnd.jupyter.widget-view+json": {
       "model_id": "89eb5a316630426498e8b767fc8fcec1",
       "version_major": 2,
       "version_minor": 0
      },
      "text/plain": [
       "NCBI636.json:   0%|          | 0.00/1.06k [00:00<?, ?B/s]"
      ]
     },
     "metadata": {},
     "output_type": "display_data"
    },
    {
     "data": {
      "application/vnd.jupyter.widget-view+json": {
       "model_id": "2fc209f5abea4c59bbba57e122976c1d",
       "version_major": 2,
       "version_minor": 0
      },
      "text/plain": [
       "NCBI635.json:   0%|          | 0.00/1.06k [00:00<?, ?B/s]"
      ]
     },
     "metadata": {},
     "output_type": "display_data"
    },
    {
     "data": {
      "application/vnd.jupyter.widget-view+json": {
       "model_id": "511c468b0f354145abb87227b1e2736c",
       "version_major": 2,
       "version_minor": 0
      },
      "text/plain": [
       "NCBI638.json:   0%|          | 0.00/1.06k [00:00<?, ?B/s]"
      ]
     },
     "metadata": {},
     "output_type": "display_data"
    },
    {
     "data": {
      "application/vnd.jupyter.widget-view+json": {
       "model_id": "de234005f8e8439786259a246c40cdb6",
       "version_major": 2,
       "version_minor": 0
      },
      "text/plain": [
       "NCBI639.json:   0%|          | 0.00/1.06k [00:00<?, ?B/s]"
      ]
     },
     "metadata": {},
     "output_type": "display_data"
    },
    {
     "data": {
      "application/vnd.jupyter.widget-view+json": {
       "model_id": "bf8f149fa8414821b64b519b122518d2",
       "version_major": 2,
       "version_minor": 0
      },
      "text/plain": [
       "NCBI634.json:   0%|          | 0.00/1.06k [00:00<?, ?B/s]"
      ]
     },
     "metadata": {},
     "output_type": "display_data"
    },
    {
     "data": {
      "application/vnd.jupyter.widget-view+json": {
       "model_id": "05ced86f7cac4d5483b913ca4df0b9f7",
       "version_major": 2,
       "version_minor": 0
      },
      "text/plain": [
       "NCBI637.json:   0%|          | 0.00/1.06k [00:00<?, ?B/s]"
      ]
     },
     "metadata": {},
     "output_type": "display_data"
    },
    {
     "data": {
      "application/vnd.jupyter.widget-view+json": {
       "model_id": "9b3bd6996fdd48f0845ffdbffddc022f",
       "version_major": 2,
       "version_minor": 0
      },
      "text/plain": [
       "NCBI640.json:   0%|          | 0.00/1.06k [00:00<?, ?B/s]"
      ]
     },
     "metadata": {},
     "output_type": "display_data"
    },
    {
     "data": {
      "application/vnd.jupyter.widget-view+json": {
       "model_id": "7e9028ba50b84fffa903f07db3f4647d",
       "version_major": 2,
       "version_minor": 0
      },
      "text/plain": [
       "NCBI642.json:   0%|          | 0.00/1.04k [00:00<?, ?B/s]"
      ]
     },
     "metadata": {},
     "output_type": "display_data"
    },
    {
     "data": {
      "application/vnd.jupyter.widget-view+json": {
       "model_id": "9da198d881ca44259a6cec88a1c00605",
       "version_major": 2,
       "version_minor": 0
      },
      "text/plain": [
       "NCBI641.json:   0%|          | 0.00/1.06k [00:00<?, ?B/s]"
      ]
     },
     "metadata": {},
     "output_type": "display_data"
    },
    {
     "data": {
      "application/vnd.jupyter.widget-view+json": {
       "model_id": "a99e56a28eed4ffa811974653839f4e3",
       "version_major": 2,
       "version_minor": 0
      },
      "text/plain": [
       "NCBI682.json:   0%|          | 0.00/1.01k [00:00<?, ?B/s]"
      ]
     },
     "metadata": {},
     "output_type": "display_data"
    },
    {
     "data": {
      "application/vnd.jupyter.widget-view+json": {
       "model_id": "cd3bb74ede2647fa892625031a1a6aee",
       "version_major": 2,
       "version_minor": 0
      },
      "text/plain": [
       "NCBI684.json:   0%|          | 0.00/1.01k [00:00<?, ?B/s]"
      ]
     },
     "metadata": {},
     "output_type": "display_data"
    },
    {
     "data": {
      "application/vnd.jupyter.widget-view+json": {
       "model_id": "d4dcb1b454fd4f53a4f4f1417e6eaedc",
       "version_major": 2,
       "version_minor": 0
      },
      "text/plain": [
       "NCBI683.json:   0%|          | 0.00/1.01k [00:00<?, ?B/s]"
      ]
     },
     "metadata": {},
     "output_type": "display_data"
    },
    {
     "data": {
      "application/vnd.jupyter.widget-view+json": {
       "model_id": "8806a185080f479a87d4d36e950e92fc",
       "version_major": 2,
       "version_minor": 0
      },
      "text/plain": [
       "NCBI643.json:   0%|          | 0.00/1.04k [00:00<?, ?B/s]"
      ]
     },
     "metadata": {},
     "output_type": "display_data"
    },
    {
     "data": {
      "application/vnd.jupyter.widget-view+json": {
       "model_id": "2c2f3d9b7bf54fdb81feb376049fedfe",
       "version_major": 2,
       "version_minor": 0
      },
      "text/plain": [
       "NCBI681.json:   0%|          | 0.00/1.01k [00:00<?, ?B/s]"
      ]
     },
     "metadata": {},
     "output_type": "display_data"
    },
    {
     "data": {
      "application/vnd.jupyter.widget-view+json": {
       "model_id": "8a5580b857484ebeb07355e2e019953c",
       "version_major": 2,
       "version_minor": 0
      },
      "text/plain": [
       "NCBI776.json:   0%|          | 0.00/1.09k [00:00<?, ?B/s]"
      ]
     },
     "metadata": {},
     "output_type": "display_data"
    },
    {
     "data": {
      "application/vnd.jupyter.widget-view+json": {
       "model_id": "1c34a62535d847a18a140f01380439a7",
       "version_major": 2,
       "version_minor": 0
      },
      "text/plain": [
       "NCBI771.json:   0%|          | 0.00/980 [00:00<?, ?B/s]"
      ]
     },
     "metadata": {},
     "output_type": "display_data"
    },
    {
     "data": {
      "application/vnd.jupyter.widget-view+json": {
       "model_id": "bc24b56e30e44cd094a31e4b8ba36b92",
       "version_major": 2,
       "version_minor": 0
      },
      "text/plain": [
       "NCBI854.json:   0%|          | 0.00/1.14k [00:00<?, ?B/s]"
      ]
     },
     "metadata": {},
     "output_type": "display_data"
    },
    {
     "data": {
      "application/vnd.jupyter.widget-view+json": {
       "model_id": "a0aad52abf2946c79f7cc37414162c21",
       "version_major": 2,
       "version_minor": 0
      },
      "text/plain": [
       "NCBI855.json:   0%|          | 0.00/1.13k [00:00<?, ?B/s]"
      ]
     },
     "metadata": {},
     "output_type": "display_data"
    },
    {
     "data": {
      "application/vnd.jupyter.widget-view+json": {
       "model_id": "afdb8939c2874976b53915d2555079dc",
       "version_major": 2,
       "version_minor": 0
      },
      "text/plain": [
       "TENX131.json:   0%|          | 0.00/2.83k [00:00<?, ?B/s]"
      ]
     },
     "metadata": {},
     "output_type": "display_data"
    },
    {
     "data": {
      "application/vnd.jupyter.widget-view+json": {
       "model_id": "a70f9807cf6f45baac09afea7b5931d0",
       "version_major": 2,
       "version_minor": 0
      },
      "text/plain": [
       "TENX133.json:   0%|          | 0.00/2.44k [00:00<?, ?B/s]"
      ]
     },
     "metadata": {},
     "output_type": "display_data"
    },
    {
     "data": {
      "application/vnd.jupyter.widget-view+json": {
       "model_id": "6cc3be3a2db4415aa308ef3475f6bca2",
       "version_major": 2,
       "version_minor": 0
      },
      "text/plain": [
       "TENX132.json:   0%|          | 0.00/2.42k [00:00<?, ?B/s]"
      ]
     },
     "metadata": {},
     "output_type": "display_data"
    },
    {
     "data": {
      "application/vnd.jupyter.widget-view+json": {
       "model_id": "e3522fd694df4d69a9acef1bf8cc80d7",
       "version_major": 2,
       "version_minor": 0
      },
      "text/plain": [
       "TENX13.json:   0%|          | 0.00/2.06k [00:00<?, ?B/s]"
      ]
     },
     "metadata": {},
     "output_type": "display_data"
    },
    {
     "data": {
      "application/vnd.jupyter.widget-view+json": {
       "model_id": "5e686cb9aec149238c91d3014c625d7a",
       "version_major": 2,
       "version_minor": 0
      },
      "text/plain": [
       "TENX134.json:   0%|          | 0.00/2.47k [00:00<?, ?B/s]"
      ]
     },
     "metadata": {},
     "output_type": "display_data"
    },
    {
     "data": {
      "application/vnd.jupyter.widget-view+json": {
       "model_id": "6223c33c258b49359a03806724edac7b",
       "version_major": 2,
       "version_minor": 0
      },
      "text/plain": [
       "TENX137.json:   0%|          | 0.00/2.41k [00:00<?, ?B/s]"
      ]
     },
     "metadata": {},
     "output_type": "display_data"
    },
    {
     "data": {
      "application/vnd.jupyter.widget-view+json": {
       "model_id": "5f84ef6fd55044ac8e17804dc7815d3a",
       "version_major": 2,
       "version_minor": 0
      },
      "text/plain": [
       "TENX135.json:   0%|          | 0.00/2.41k [00:00<?, ?B/s]"
      ]
     },
     "metadata": {},
     "output_type": "display_data"
    },
    {
     "data": {
      "application/vnd.jupyter.widget-view+json": {
       "model_id": "1829c879e7f640a280ec9c8660d021e1",
       "version_major": 2,
       "version_minor": 0
      },
      "text/plain": [
       "TENX140.json:   0%|          | 0.00/2.51k [00:00<?, ?B/s]"
      ]
     },
     "metadata": {},
     "output_type": "display_data"
    },
    {
     "data": {
      "application/vnd.jupyter.widget-view+json": {
       "model_id": "c4955e02564d451f990a672fdacfa0d7",
       "version_major": 2,
       "version_minor": 0
      },
      "text/plain": [
       "TENX14.json:   0%|          | 0.00/2.06k [00:00<?, ?B/s]"
      ]
     },
     "metadata": {},
     "output_type": "display_data"
    },
    {
     "data": {
      "application/vnd.jupyter.widget-view+json": {
       "model_id": "529000b458b347f2ad520dd3f8d0cd71",
       "version_major": 2,
       "version_minor": 0
      },
      "text/plain": [
       "TENX142.json:   0%|          | 0.00/2.53k [00:00<?, ?B/s]"
      ]
     },
     "metadata": {},
     "output_type": "display_data"
    },
    {
     "data": {
      "application/vnd.jupyter.widget-view+json": {
       "model_id": "6fc045c140684aeb90428aeeb765e6b9",
       "version_major": 2,
       "version_minor": 0
      },
      "text/plain": [
       "TENX141.json:   0%|          | 0.00/2.51k [00:00<?, ?B/s]"
      ]
     },
     "metadata": {},
     "output_type": "display_data"
    },
    {
     "data": {
      "application/vnd.jupyter.widget-view+json": {
       "model_id": "51ad7f8e6cd0424ba8eee92dd8d63951",
       "version_major": 2,
       "version_minor": 0
      },
      "text/plain": [
       "TENX138.json:   0%|          | 0.00/2.55k [00:00<?, ?B/s]"
      ]
     },
     "metadata": {},
     "output_type": "display_data"
    },
    {
     "data": {
      "application/vnd.jupyter.widget-view+json": {
       "model_id": "52121d53a3fd48f5a6e619af7f54d07a",
       "version_major": 2,
       "version_minor": 0
      },
      "text/plain": [
       "TENX136.json:   0%|          | 0.00/2.43k [00:00<?, ?B/s]"
      ]
     },
     "metadata": {},
     "output_type": "display_data"
    },
    {
     "data": {
      "application/vnd.jupyter.widget-view+json": {
       "model_id": "4329794e488e4fd4ba8f82bc68d58782",
       "version_major": 2,
       "version_minor": 0
      },
      "text/plain": [
       "TENX143.json:   0%|          | 0.00/913 [00:00<?, ?B/s]"
      ]
     },
     "metadata": {},
     "output_type": "display_data"
    },
    {
     "data": {
      "application/vnd.jupyter.widget-view+json": {
       "model_id": "92224b6c520f43788be5bc4c5f5239c0",
       "version_major": 2,
       "version_minor": 0
      },
      "text/plain": [
       "TENX139.json:   0%|          | 0.00/2.54k [00:00<?, ?B/s]"
      ]
     },
     "metadata": {},
     "output_type": "display_data"
    },
    {
     "data": {
      "application/vnd.jupyter.widget-view+json": {
       "model_id": "6eb16676a5764f3aa43c6cf4e3e47d3a",
       "version_major": 2,
       "version_minor": 0
      },
      "text/plain": [
       "TENX145.json:   0%|          | 0.00/832 [00:00<?, ?B/s]"
      ]
     },
     "metadata": {},
     "output_type": "display_data"
    },
    {
     "data": {
      "application/vnd.jupyter.widget-view+json": {
       "model_id": "77b5109192894efb89b51b55dae4da8f",
       "version_major": 2,
       "version_minor": 0
      },
      "text/plain": [
       "TENX146.json:   0%|          | 0.00/831 [00:00<?, ?B/s]"
      ]
     },
     "metadata": {},
     "output_type": "display_data"
    },
    {
     "data": {
      "application/vnd.jupyter.widget-view+json": {
       "model_id": "40acbf2d16984b11bf5c1f6d123d3d85",
       "version_major": 2,
       "version_minor": 0
      },
      "text/plain": [
       "TENX148.json:   0%|          | 0.00/1.05k [00:00<?, ?B/s]"
      ]
     },
     "metadata": {},
     "output_type": "display_data"
    },
    {
     "data": {
      "application/vnd.jupyter.widget-view+json": {
       "model_id": "3ffa1f389d01405e915e807a765e2771",
       "version_major": 2,
       "version_minor": 0
      },
      "text/plain": [
       "TENX149.json:   0%|          | 0.00/1.05k [00:00<?, ?B/s]"
      ]
     },
     "metadata": {},
     "output_type": "display_data"
    },
    {
     "data": {
      "application/vnd.jupyter.widget-view+json": {
       "model_id": "4d1ae54947a14bd0a6dc97b856e43f78",
       "version_major": 2,
       "version_minor": 0
      },
      "text/plain": [
       "TENX28.json:   0%|          | 0.00/3.03k [00:00<?, ?B/s]"
      ]
     },
     "metadata": {},
     "output_type": "display_data"
    },
    {
     "data": {
      "application/vnd.jupyter.widget-view+json": {
       "model_id": "5c7a34b0884b417c91d52165cce205a9",
       "version_major": 2,
       "version_minor": 0
      },
      "text/plain": [
       "TENX24.json:   0%|          | 0.00/959 [00:00<?, ?B/s]"
      ]
     },
     "metadata": {},
     "output_type": "display_data"
    },
    {
     "data": {
      "application/vnd.jupyter.widget-view+json": {
       "model_id": "74ad6360f9544b91a247930f29bff682",
       "version_major": 2,
       "version_minor": 0
      },
      "text/plain": [
       "TENX147.json:   0%|          | 0.00/1.06k [00:00<?, ?B/s]"
      ]
     },
     "metadata": {},
     "output_type": "display_data"
    },
    {
     "data": {
      "application/vnd.jupyter.widget-view+json": {
       "model_id": "dc44e18fe13a438b9a8a712ccbb2aff2",
       "version_major": 2,
       "version_minor": 0
      },
      "text/plain": [
       "TENX152.json:   0%|          | 0.00/1.05k [00:00<?, ?B/s]"
      ]
     },
     "metadata": {},
     "output_type": "display_data"
    },
    {
     "data": {
      "application/vnd.jupyter.widget-view+json": {
       "model_id": "8ccd6a929f4b4b2b8fa03bf4b44da832",
       "version_major": 2,
       "version_minor": 0
      },
      "text/plain": [
       "TENX144.json:   0%|          | 0.00/837 [00:00<?, ?B/s]"
      ]
     },
     "metadata": {},
     "output_type": "display_data"
    },
    {
     "data": {
      "application/vnd.jupyter.widget-view+json": {
       "model_id": "142880b6ae854514b02e0a6f09f453b7",
       "version_major": 2,
       "version_minor": 0
      },
      "text/plain": [
       "TENX23.json:   0%|          | 0.00/3.05k [00:00<?, ?B/s]"
      ]
     },
     "metadata": {},
     "output_type": "display_data"
    },
    {
     "data": {
      "application/vnd.jupyter.widget-view+json": {
       "model_id": "48e2216a8935471b96fb5c204df5484d",
       "version_major": 2,
       "version_minor": 0
      },
      "text/plain": [
       "TENX30.json:   0%|          | 0.00/2.94k [00:00<?, ?B/s]"
      ]
     },
     "metadata": {},
     "output_type": "display_data"
    },
    {
     "data": {
      "application/vnd.jupyter.widget-view+json": {
       "model_id": "a31d35b4dd254aea9473600c76a8935e",
       "version_major": 2,
       "version_minor": 0
      },
      "text/plain": [
       "TENX31.json:   0%|          | 0.00/2.07k [00:00<?, ?B/s]"
      ]
     },
     "metadata": {},
     "output_type": "display_data"
    },
    {
     "data": {
      "application/vnd.jupyter.widget-view+json": {
       "model_id": "4db96907a6b54a769562d5ab4bd29d8b",
       "version_major": 2,
       "version_minor": 0
      },
      "text/plain": [
       "TENX49.json:   0%|          | 0.00/1.97k [00:00<?, ?B/s]"
      ]
     },
     "metadata": {},
     "output_type": "display_data"
    },
    {
     "data": {
      "application/vnd.jupyter.widget-view+json": {
       "model_id": "9ff2134a42f84944a020561828794c72",
       "version_major": 2,
       "version_minor": 0
      },
      "text/plain": [
       "TENX39.json:   0%|          | 0.00/2.17k [00:00<?, ?B/s]"
      ]
     },
     "metadata": {},
     "output_type": "display_data"
    },
    {
     "data": {
      "application/vnd.jupyter.widget-view+json": {
       "model_id": "991363c9aaac490794d3393762d65b4d",
       "version_major": 2,
       "version_minor": 0
      },
      "text/plain": [
       "TENX50.json:   0%|          | 0.00/1.98k [00:00<?, ?B/s]"
      ]
     },
     "metadata": {},
     "output_type": "display_data"
    },
    {
     "data": {
      "application/vnd.jupyter.widget-view+json": {
       "model_id": "908a4cc88fcf4560958ac4dae2f41e66",
       "version_major": 2,
       "version_minor": 0
      },
      "text/plain": [
       "TENX62.json:   0%|          | 0.00/1.88k [00:00<?, ?B/s]"
      ]
     },
     "metadata": {},
     "output_type": "display_data"
    },
    {
     "data": {
      "application/vnd.jupyter.widget-view+json": {
       "model_id": "b1ee8280449346f6a3dba554b58dcec6",
       "version_major": 2,
       "version_minor": 0
      },
      "text/plain": [
       "TENX46.json:   0%|          | 0.00/2.04k [00:00<?, ?B/s]"
      ]
     },
     "metadata": {},
     "output_type": "display_data"
    },
    {
     "data": {
      "application/vnd.jupyter.widget-view+json": {
       "model_id": "ca31d8c1d29d4aa18789328a3326cad5",
       "version_major": 2,
       "version_minor": 0
      },
      "text/plain": [
       "TENX29.json:   0%|          | 0.00/2.15k [00:00<?, ?B/s]"
      ]
     },
     "metadata": {},
     "output_type": "display_data"
    },
    {
     "data": {
      "application/vnd.jupyter.widget-view+json": {
       "model_id": "ecebc284d36a4fdab60c537c4304a583",
       "version_major": 2,
       "version_minor": 0
      },
      "text/plain": [
       "TENX65.json:   0%|          | 0.00/1.92k [00:00<?, ?B/s]"
      ]
     },
     "metadata": {},
     "output_type": "display_data"
    },
    {
     "data": {
      "application/vnd.jupyter.widget-view+json": {
       "model_id": "e1014edb1ca047af8e681683d4c43590",
       "version_major": 2,
       "version_minor": 0
      },
      "text/plain": [
       "TENX53.json:   0%|          | 0.00/2.08k [00:00<?, ?B/s]"
      ]
     },
     "metadata": {},
     "output_type": "display_data"
    },
    {
     "data": {
      "application/vnd.jupyter.widget-view+json": {
       "model_id": "1ce6853af0184400b88a2e7498984d96",
       "version_major": 2,
       "version_minor": 0
      },
      "text/plain": [
       "TENX72.json:   0%|          | 0.00/1.92k [00:00<?, ?B/s]"
      ]
     },
     "metadata": {},
     "output_type": "display_data"
    },
    {
     "data": {
      "application/vnd.jupyter.widget-view+json": {
       "model_id": "a48382fbc6474905a8238a6b3e1188fc",
       "version_major": 2,
       "version_minor": 0
      },
      "text/plain": [
       "TENX40.json:   0%|          | 0.00/2.08k [00:00<?, ?B/s]"
      ]
     },
     "metadata": {},
     "output_type": "display_data"
    },
    {
     "data": {
      "application/vnd.jupyter.widget-view+json": {
       "model_id": "77142494b1524387b1e947fe11fe87c2",
       "version_major": 2,
       "version_minor": 0
      },
      "text/plain": [
       "TENX91.json:   0%|          | 0.00/2.15k [00:00<?, ?B/s]"
      ]
     },
     "metadata": {},
     "output_type": "display_data"
    },
    {
     "data": {
      "application/vnd.jupyter.widget-view+json": {
       "model_id": "3418fa050e3d4e5b8e17abe268fa2548",
       "version_major": 2,
       "version_minor": 0
      },
      "text/plain": [
       "TENX68.json:   0%|          | 0.00/2.00k [00:00<?, ?B/s]"
      ]
     },
     "metadata": {},
     "output_type": "display_data"
    },
    {
     "data": {
      "application/vnd.jupyter.widget-view+json": {
       "model_id": "5a48ff07f63543b5bfe3ed99bfb75003",
       "version_major": 2,
       "version_minor": 0
      },
      "text/plain": [
       "TENX70.json:   0%|          | 0.00/1.92k [00:00<?, ?B/s]"
      ]
     },
     "metadata": {},
     "output_type": "display_data"
    },
    {
     "data": {
      "application/vnd.jupyter.widget-view+json": {
       "model_id": "53773615dbd74cf182cca9cf0b383758",
       "version_major": 2,
       "version_minor": 0
      },
      "text/plain": [
       "TENX73.json:   0%|          | 0.00/1.87k [00:00<?, ?B/s]"
      ]
     },
     "metadata": {},
     "output_type": "display_data"
    },
    {
     "data": {
      "application/vnd.jupyter.widget-view+json": {
       "model_id": "c7db24942d0640bf8f4d558c4e7ac1cc",
       "version_major": 2,
       "version_minor": 0
      },
      "text/plain": [
       "TENX51.json:   0%|          | 0.00/1.94k [00:00<?, ?B/s]"
      ]
     },
     "metadata": {},
     "output_type": "display_data"
    },
    {
     "data": {
      "application/vnd.jupyter.widget-view+json": {
       "model_id": "07a8235307e641de8875f89d7b5e648b",
       "version_major": 2,
       "version_minor": 0
      },
      "text/plain": [
       "ZEN36.json:   0%|          | 0.00/2.17k [00:00<?, ?B/s]"
      ]
     },
     "metadata": {},
     "output_type": "display_data"
    },
    {
     "data": {
      "application/vnd.jupyter.widget-view+json": {
       "model_id": "1d9df73c74014780ad37dbfce25f34bc",
       "version_major": 2,
       "version_minor": 0
      },
      "text/plain": [
       "ZEN38.json:   0%|          | 0.00/2.17k [00:00<?, ?B/s]"
      ]
     },
     "metadata": {},
     "output_type": "display_data"
    },
    {
     "data": {
      "application/vnd.jupyter.widget-view+json": {
       "model_id": "a885516768c04b1c9e5f60bb1e88509f",
       "version_major": 2,
       "version_minor": 0
      },
      "text/plain": [
       "ZEN42.json:   0%|          | 0.00/2.18k [00:00<?, ?B/s]"
      ]
     },
     "metadata": {},
     "output_type": "display_data"
    },
    {
     "data": {
      "application/vnd.jupyter.widget-view+json": {
       "model_id": "78801129fec844c19b5ef9da81618caa",
       "version_major": 2,
       "version_minor": 0
      },
      "text/plain": [
       "TENX89.json:   0%|          | 0.00/2.13k [00:00<?, ?B/s]"
      ]
     },
     "metadata": {},
     "output_type": "display_data"
    },
    {
     "data": {
      "application/vnd.jupyter.widget-view+json": {
       "model_id": "74f70941ebf448aab534f47d125dc9a6",
       "version_major": 2,
       "version_minor": 0
      },
      "text/plain": [
       "TENX90.json:   0%|          | 0.00/2.13k [00:00<?, ?B/s]"
      ]
     },
     "metadata": {},
     "output_type": "display_data"
    },
    {
     "data": {
      "application/vnd.jupyter.widget-view+json": {
       "model_id": "31b3091129864c02ba64806b95767246",
       "version_major": 2,
       "version_minor": 0
      },
      "text/plain": [
       "TENX92.json:   0%|          | 0.00/2.15k [00:00<?, ?B/s]"
      ]
     },
     "metadata": {},
     "output_type": "display_data"
    },
    {
     "data": {
      "application/vnd.jupyter.widget-view+json": {
       "model_id": "1ded9d4e67ee47879f6121e45fef3026",
       "version_major": 2,
       "version_minor": 0
      },
      "text/plain": [
       "ZEN44.json:   0%|          | 0.00/2.18k [00:00<?, ?B/s]"
      ]
     },
     "metadata": {},
     "output_type": "display_data"
    },
    {
     "data": {
      "application/vnd.jupyter.widget-view+json": {
       "model_id": "2497e0bab1974f8b82964e48cb12bdce",
       "version_major": 2,
       "version_minor": 0
      },
      "text/plain": [
       "ZEN43.json:   0%|          | 0.00/2.22k [00:00<?, ?B/s]"
      ]
     },
     "metadata": {},
     "output_type": "display_data"
    },
    {
     "data": {
      "application/vnd.jupyter.widget-view+json": {
       "model_id": "8f855f1fd84d47e48254e7cf46dc4b32",
       "version_major": 2,
       "version_minor": 0
      },
      "text/plain": [
       "ZEN47.json:   0%|          | 0.00/2.18k [00:00<?, ?B/s]"
      ]
     },
     "metadata": {},
     "output_type": "display_data"
    },
    {
     "data": {
      "application/vnd.jupyter.widget-view+json": {
       "model_id": "2d05a795063446a5ad6d97f69a270e7c",
       "version_major": 2,
       "version_minor": 0
      },
      "text/plain": [
       "ZEN48.json:   0%|          | 0.00/2.17k [00:00<?, ?B/s]"
      ]
     },
     "metadata": {},
     "output_type": "display_data"
    },
    {
     "data": {
      "application/vnd.jupyter.widget-view+json": {
       "model_id": "26c97f51a2a74a45bc08473fae845933",
       "version_major": 2,
       "version_minor": 0
      },
      "text/plain": [
       "st/INT1.h5ad:   0%|          | 0.00/26.5M [00:00<?, ?B/s]"
      ]
     },
     "metadata": {},
     "output_type": "display_data"
    },
    {
     "data": {
      "application/vnd.jupyter.widget-view+json": {
       "model_id": "bad7d16560884bf085b899e6ca7d2af8",
       "version_major": 2,
       "version_minor": 0
      },
      "text/plain": [
       "ZEN40.json:   0%|          | 0.00/2.16k [00:00<?, ?B/s]"
      ]
     },
     "metadata": {},
     "output_type": "display_data"
    },
    {
     "data": {
      "application/vnd.jupyter.widget-view+json": {
       "model_id": "074516a85ad941edb6d479e01c4ca41f",
       "version_major": 2,
       "version_minor": 0
      },
      "text/plain": [
       "st/INT10.h5ad:   0%|          | 0.00/83.5M [00:00<?, ?B/s]"
      ]
     },
     "metadata": {},
     "output_type": "display_data"
    },
    {
     "data": {
      "application/vnd.jupyter.widget-view+json": {
       "model_id": "01a8154820394bd2bf17411420d31d8b",
       "version_major": 2,
       "version_minor": 0
      },
      "text/plain": [
       "st/INT11.h5ad:   0%|          | 0.00/50.0M [00:00<?, ?B/s]"
      ]
     },
     "metadata": {},
     "output_type": "display_data"
    },
    {
     "data": {
      "application/vnd.jupyter.widget-view+json": {
       "model_id": "1f845df1b2414eda9e4fdf295e67434b",
       "version_major": 2,
       "version_minor": 0
      },
      "text/plain": [
       "ZEN46.json:   0%|          | 0.00/2.18k [00:00<?, ?B/s]"
      ]
     },
     "metadata": {},
     "output_type": "display_data"
    },
    {
     "data": {
      "application/vnd.jupyter.widget-view+json": {
       "model_id": "1e501bb465f046a5b80f87b00abc736c",
       "version_major": 2,
       "version_minor": 0
      },
      "text/plain": [
       "ZEN49.json:   0%|          | 0.00/2.17k [00:00<?, ?B/s]"
      ]
     },
     "metadata": {},
     "output_type": "display_data"
    },
    {
     "data": {
      "application/vnd.jupyter.widget-view+json": {
       "model_id": "7d512432f3ab4be7894c231077c7a345",
       "version_major": 2,
       "version_minor": 0
      },
      "text/plain": [
       "ZEN39.json:   0%|          | 0.00/2.22k [00:00<?, ?B/s]"
      ]
     },
     "metadata": {},
     "output_type": "display_data"
    },
    {
     "data": {
      "application/vnd.jupyter.widget-view+json": {
       "model_id": "8e1ad5f027b34221903ca6d73bcd3cfe",
       "version_major": 2,
       "version_minor": 0
      },
      "text/plain": [
       "st/INT13.h5ad:   0%|          | 0.00/139M [00:00<?, ?B/s]"
      ]
     },
     "metadata": {},
     "output_type": "display_data"
    },
    {
     "data": {
      "application/vnd.jupyter.widget-view+json": {
       "model_id": "d9b1b7296c9e48238d81ff04ed3bea16",
       "version_major": 2,
       "version_minor": 0
      },
      "text/plain": [
       "ZEN45.json:   0%|          | 0.00/2.17k [00:00<?, ?B/s]"
      ]
     },
     "metadata": {},
     "output_type": "display_data"
    },
    {
     "data": {
      "application/vnd.jupyter.widget-view+json": {
       "model_id": "6eb57effcccf43ec8852d0869dbe2391",
       "version_major": 2,
       "version_minor": 0
      },
      "text/plain": [
       "st/INT15.h5ad:   0%|          | 0.00/146M [00:00<?, ?B/s]"
      ]
     },
     "metadata": {},
     "output_type": "display_data"
    },
    {
     "data": {
      "application/vnd.jupyter.widget-view+json": {
       "model_id": "89989e1cce344e1eb1ab2ce56f8ab5d7",
       "version_major": 2,
       "version_minor": 0
      },
      "text/plain": [
       "st/INT12.h5ad:   0%|          | 0.00/60.3M [00:00<?, ?B/s]"
      ]
     },
     "metadata": {},
     "output_type": "display_data"
    },
    {
     "data": {
      "application/vnd.jupyter.widget-view+json": {
       "model_id": "4c422d1dc00a4aa19157601322965c84",
       "version_major": 2,
       "version_minor": 0
      },
      "text/plain": [
       "st/INT14.h5ad:   0%|          | 0.00/135M [00:00<?, ?B/s]"
      ]
     },
     "metadata": {},
     "output_type": "display_data"
    },
    {
     "data": {
      "application/vnd.jupyter.widget-view+json": {
       "model_id": "c97cc86a309b4717a21d5d19e93721a2",
       "version_major": 2,
       "version_minor": 0
      },
      "text/plain": [
       "st/INT16.h5ad:   0%|          | 0.00/107M [00:00<?, ?B/s]"
      ]
     },
     "metadata": {},
     "output_type": "display_data"
    },
    {
     "data": {
      "application/vnd.jupyter.widget-view+json": {
       "model_id": "d18d632603274467a2350035ab981629",
       "version_major": 2,
       "version_minor": 0
      },
      "text/plain": [
       "st/INT17.h5ad:   0%|          | 0.00/77.7M [00:00<?, ?B/s]"
      ]
     },
     "metadata": {},
     "output_type": "display_data"
    },
    {
     "data": {
      "application/vnd.jupyter.widget-view+json": {
       "model_id": "08411e2dd1f54885be3072e6c40efdf9",
       "version_major": 2,
       "version_minor": 0
      },
      "text/plain": [
       "st/INT18.h5ad:   0%|          | 0.00/184M [00:00<?, ?B/s]"
      ]
     },
     "metadata": {},
     "output_type": "display_data"
    },
    {
     "data": {
      "application/vnd.jupyter.widget-view+json": {
       "model_id": "3f1380a36532471bb2974befb39487f5",
       "version_major": 2,
       "version_minor": 0
      },
      "text/plain": [
       "st/INT19.h5ad:   0%|          | 0.00/102M [00:00<?, ?B/s]"
      ]
     },
     "metadata": {},
     "output_type": "display_data"
    },
    {
     "data": {
      "application/vnd.jupyter.widget-view+json": {
       "model_id": "9b27b26d926a40a0abc16a5c3ef75868",
       "version_major": 2,
       "version_minor": 0
      },
      "text/plain": [
       "st/INT2.h5ad:   0%|          | 0.00/48.5M [00:00<?, ?B/s]"
      ]
     },
     "metadata": {},
     "output_type": "display_data"
    },
    {
     "data": {
      "application/vnd.jupyter.widget-view+json": {
       "model_id": "e4d158de99a440a5a6f71ec2d209908f",
       "version_major": 2,
       "version_minor": 0
      },
      "text/plain": [
       "st/INT20.h5ad:   0%|          | 0.00/106M [00:00<?, ?B/s]"
      ]
     },
     "metadata": {},
     "output_type": "display_data"
    },
    {
     "data": {
      "application/vnd.jupyter.widget-view+json": {
       "model_id": "7c53e5cee29442d992b7ecc97835217d",
       "version_major": 2,
       "version_minor": 0
      },
      "text/plain": [
       "st/INT21.h5ad:   0%|          | 0.00/191M [00:00<?, ?B/s]"
      ]
     },
     "metadata": {},
     "output_type": "display_data"
    },
    {
     "data": {
      "application/vnd.jupyter.widget-view+json": {
       "model_id": "c43dd6f6b9e44959a1443fce4730e920",
       "version_major": 2,
       "version_minor": 0
      },
      "text/plain": [
       "st/INT22.h5ad:   0%|          | 0.00/147M [00:00<?, ?B/s]"
      ]
     },
     "metadata": {},
     "output_type": "display_data"
    },
    {
     "data": {
      "application/vnd.jupyter.widget-view+json": {
       "model_id": "81ed52263db2400686a5fbc52d9ff98c",
       "version_major": 2,
       "version_minor": 0
      },
      "text/plain": [
       "st/INT23.h5ad:   0%|          | 0.00/213M [00:00<?, ?B/s]"
      ]
     },
     "metadata": {},
     "output_type": "display_data"
    },
    {
     "data": {
      "application/vnd.jupyter.widget-view+json": {
       "model_id": "40047d0b936148a8a861692c01a3cdff",
       "version_major": 2,
       "version_minor": 0
      },
      "text/plain": [
       "st/INT24.h5ad:   0%|          | 0.00/119M [00:00<?, ?B/s]"
      ]
     },
     "metadata": {},
     "output_type": "display_data"
    },
    {
     "data": {
      "application/vnd.jupyter.widget-view+json": {
       "model_id": "a976313fb73342b5b6ee93bc57fddacc",
       "version_major": 2,
       "version_minor": 0
      },
      "text/plain": [
       "st/INT25.h5ad:   0%|          | 0.00/140M [00:00<?, ?B/s]"
      ]
     },
     "metadata": {},
     "output_type": "display_data"
    },
    {
     "data": {
      "application/vnd.jupyter.widget-view+json": {
       "model_id": "74411c6036d04942916596d7c3217d7e",
       "version_major": 2,
       "version_minor": 0
      },
      "text/plain": [
       "st/INT26.h5ad:   0%|          | 0.00/129M [00:00<?, ?B/s]"
      ]
     },
     "metadata": {},
     "output_type": "display_data"
    },
    {
     "data": {
      "application/vnd.jupyter.widget-view+json": {
       "model_id": "67856e690ba846fa8f611e1c5c3142d1",
       "version_major": 2,
       "version_minor": 0
      },
      "text/plain": [
       "st/INT27.h5ad:   0%|          | 0.00/208M [00:00<?, ?B/s]"
      ]
     },
     "metadata": {},
     "output_type": "display_data"
    },
    {
     "data": {
      "application/vnd.jupyter.widget-view+json": {
       "model_id": "f6a56d3dfd67407786079a3f33b6f040",
       "version_major": 2,
       "version_minor": 0
      },
      "text/plain": [
       "st/INT3.h5ad:   0%|          | 0.00/43.3M [00:00<?, ?B/s]"
      ]
     },
     "metadata": {},
     "output_type": "display_data"
    },
    {
     "data": {
      "application/vnd.jupyter.widget-view+json": {
       "model_id": "3998888ee9bf4e01b716f4131e984a3a",
       "version_major": 2,
       "version_minor": 0
      },
      "text/plain": [
       "st/INT35.h5ad:   0%|          | 0.00/96.4M [00:00<?, ?B/s]"
      ]
     },
     "metadata": {},
     "output_type": "display_data"
    },
    {
     "data": {
      "application/vnd.jupyter.widget-view+json": {
       "model_id": "ac3f3e2017a44da6997f30bc19c17129",
       "version_major": 2,
       "version_minor": 0
      },
      "text/plain": [
       "st/INT28.h5ad:   0%|          | 0.00/167M [00:00<?, ?B/s]"
      ]
     },
     "metadata": {},
     "output_type": "display_data"
    },
    {
     "data": {
      "application/vnd.jupyter.widget-view+json": {
       "model_id": "37262b5f1da344efb5530a0a2d367969",
       "version_major": 2,
       "version_minor": 0
      },
      "text/plain": [
       "st/INT4.h5ad:   0%|          | 0.00/19.9M [00:00<?, ?B/s]"
      ]
     },
     "metadata": {},
     "output_type": "display_data"
    },
    {
     "data": {
      "application/vnd.jupyter.widget-view+json": {
       "model_id": "8a59ec9eeec64e6293c27720f63d2c41",
       "version_major": 2,
       "version_minor": 0
      },
      "text/plain": [
       "st/INT5.h5ad:   0%|          | 0.00/81.2M [00:00<?, ?B/s]"
      ]
     },
     "metadata": {},
     "output_type": "display_data"
    },
    {
     "data": {
      "application/vnd.jupyter.widget-view+json": {
       "model_id": "9d0d2e20e55f477bbcabc4e1b5742b1d",
       "version_major": 2,
       "version_minor": 0
      },
      "text/plain": [
       "st/INT6.h5ad:   0%|          | 0.00/54.5M [00:00<?, ?B/s]"
      ]
     },
     "metadata": {},
     "output_type": "display_data"
    },
    {
     "data": {
      "application/vnd.jupyter.widget-view+json": {
       "model_id": "1c7041ae4e804787bba7411bfab703d1",
       "version_major": 2,
       "version_minor": 0
      },
      "text/plain": [
       "st/INT7.h5ad:   0%|          | 0.00/93.1M [00:00<?, ?B/s]"
      ]
     },
     "metadata": {},
     "output_type": "display_data"
    },
    {
     "data": {
      "application/vnd.jupyter.widget-view+json": {
       "model_id": "d3a828b3df6641bc9a1dc023da796270",
       "version_major": 2,
       "version_minor": 0
      },
      "text/plain": [
       "st/INT8.h5ad:   0%|          | 0.00/87.5M [00:00<?, ?B/s]"
      ]
     },
     "metadata": {},
     "output_type": "display_data"
    },
    {
     "data": {
      "application/vnd.jupyter.widget-view+json": {
       "model_id": "f6254e43ead747eb93a4adb53ca55669",
       "version_major": 2,
       "version_minor": 0
      },
      "text/plain": [
       "st/INT9.h5ad:   0%|          | 0.00/60.0M [00:00<?, ?B/s]"
      ]
     },
     "metadata": {},
     "output_type": "display_data"
    },
    {
     "data": {
      "application/vnd.jupyter.widget-view+json": {
       "model_id": "176c46db1c0048f39353c20e5d6ee7d7",
       "version_major": 2,
       "version_minor": 0
      },
      "text/plain": [
       "st/MEND139.h5ad:   0%|          | 0.00/95.6M [00:00<?, ?B/s]"
      ]
     },
     "metadata": {},
     "output_type": "display_data"
    },
    {
     "data": {
      "application/vnd.jupyter.widget-view+json": {
       "model_id": "4a2f428379bc495b9c3c10e8bdad984f",
       "version_major": 2,
       "version_minor": 0
      },
      "text/plain": [
       "st/MEND140.h5ad:   0%|          | 0.00/52.4M [00:00<?, ?B/s]"
      ]
     },
     "metadata": {},
     "output_type": "display_data"
    },
    {
     "data": {
      "application/vnd.jupyter.widget-view+json": {
       "model_id": "ce7a67c5317542c39c027c9a0fdc1f8c",
       "version_major": 2,
       "version_minor": 0
      },
      "text/plain": [
       "st/MEND142.h5ad:   0%|          | 0.00/64.0M [00:00<?, ?B/s]"
      ]
     },
     "metadata": {},
     "output_type": "display_data"
    },
    {
     "data": {
      "application/vnd.jupyter.widget-view+json": {
       "model_id": "4516ec4ba2094dff8a650a28d3619c9f",
       "version_major": 2,
       "version_minor": 0
      },
      "text/plain": [
       "st/MEND141.h5ad:   0%|          | 0.00/37.5M [00:00<?, ?B/s]"
      ]
     },
     "metadata": {},
     "output_type": "display_data"
    },
    {
     "data": {
      "application/vnd.jupyter.widget-view+json": {
       "model_id": "662b0c6a056445f29178755751fe0859",
       "version_major": 2,
       "version_minor": 0
      },
      "text/plain": [
       "st/MEND143.h5ad:   0%|          | 0.00/63.3M [00:00<?, ?B/s]"
      ]
     },
     "metadata": {},
     "output_type": "display_data"
    },
    {
     "data": {
      "application/vnd.jupyter.widget-view+json": {
       "model_id": "d5dfeeb7130e4219915f335d1629e3b5",
       "version_major": 2,
       "version_minor": 0
      },
      "text/plain": [
       "st/MEND144.h5ad:   0%|          | 0.00/58.6M [00:00<?, ?B/s]"
      ]
     },
     "metadata": {},
     "output_type": "display_data"
    },
    {
     "data": {
      "application/vnd.jupyter.widget-view+json": {
       "model_id": "f8e08495357745729a6fd5302b8775b9",
       "version_major": 2,
       "version_minor": 0
      },
      "text/plain": [
       "st/MEND145.h5ad:   0%|          | 0.00/28.6M [00:00<?, ?B/s]"
      ]
     },
     "metadata": {},
     "output_type": "display_data"
    },
    {
     "data": {
      "application/vnd.jupyter.widget-view+json": {
       "model_id": "cb4902c260204e9ab33096ecf335bba5",
       "version_major": 2,
       "version_minor": 0
      },
      "text/plain": [
       "st/MEND146.h5ad:   0%|          | 0.00/28.2M [00:00<?, ?B/s]"
      ]
     },
     "metadata": {},
     "output_type": "display_data"
    },
    {
     "data": {
      "application/vnd.jupyter.widget-view+json": {
       "model_id": "834e7135037245cdb3bd000b0b34e4fe",
       "version_major": 2,
       "version_minor": 0
      },
      "text/plain": [
       "st/MEND147.h5ad:   0%|          | 0.00/41.0M [00:00<?, ?B/s]"
      ]
     },
     "metadata": {},
     "output_type": "display_data"
    },
    {
     "data": {
      "application/vnd.jupyter.widget-view+json": {
       "model_id": "738197845bb141ccadb79ab4756807cb",
       "version_major": 2,
       "version_minor": 0
      },
      "text/plain": [
       "st/MEND149.h5ad:   0%|          | 0.00/38.8M [00:00<?, ?B/s]"
      ]
     },
     "metadata": {},
     "output_type": "display_data"
    },
    {
     "data": {
      "application/vnd.jupyter.widget-view+json": {
       "model_id": "c8e34fc8eef94ebd9d7f6436bc3fbae4",
       "version_major": 2,
       "version_minor": 0
      },
      "text/plain": [
       "st/MEND148.h5ad:   0%|          | 0.00/18.9M [00:00<?, ?B/s]"
      ]
     },
     "metadata": {},
     "output_type": "display_data"
    },
    {
     "data": {
      "application/vnd.jupyter.widget-view+json": {
       "model_id": "854c77105009458091b2dace79533f72",
       "version_major": 2,
       "version_minor": 0
      },
      "text/plain": [
       "st/MEND150.h5ad:   0%|          | 0.00/55.0M [00:00<?, ?B/s]"
      ]
     },
     "metadata": {},
     "output_type": "display_data"
    },
    {
     "data": {
      "application/vnd.jupyter.widget-view+json": {
       "model_id": "d7b20128d73a4c0c8f55adc8ec00bfee",
       "version_major": 2,
       "version_minor": 0
      },
      "text/plain": [
       "st/MEND151.h5ad:   0%|          | 0.00/50.5M [00:00<?, ?B/s]"
      ]
     },
     "metadata": {},
     "output_type": "display_data"
    },
    {
     "data": {
      "application/vnd.jupyter.widget-view+json": {
       "model_id": "8bbaa42a905841b2aba942daa05d5be3",
       "version_major": 2,
       "version_minor": 0
      },
      "text/plain": [
       "st/MEND152.h5ad:   0%|          | 0.00/52.7M [00:00<?, ?B/s]"
      ]
     },
     "metadata": {},
     "output_type": "display_data"
    },
    {
     "data": {
      "application/vnd.jupyter.widget-view+json": {
       "model_id": "3a7d251dddae47a49f08fcac848fb6b8",
       "version_major": 2,
       "version_minor": 0
      },
      "text/plain": [
       "st/MEND153.h5ad:   0%|          | 0.00/45.3M [00:00<?, ?B/s]"
      ]
     },
     "metadata": {},
     "output_type": "display_data"
    },
    {
     "data": {
      "application/vnd.jupyter.widget-view+json": {
       "model_id": "8e061c1cf1484fd38688d2b869571774",
       "version_major": 2,
       "version_minor": 0
      },
      "text/plain": [
       "st/MEND154.h5ad:   0%|          | 0.00/70.2M [00:00<?, ?B/s]"
      ]
     },
     "metadata": {},
     "output_type": "display_data"
    },
    {
     "data": {
      "application/vnd.jupyter.widget-view+json": {
       "model_id": "f50bc19c1e634b399d492079b0201b6d",
       "version_major": 2,
       "version_minor": 0
      },
      "text/plain": [
       "st/MEND156.h5ad:   0%|          | 0.00/86.5M [00:00<?, ?B/s]"
      ]
     },
     "metadata": {},
     "output_type": "display_data"
    },
    {
     "data": {
      "application/vnd.jupyter.widget-view+json": {
       "model_id": "eb021cf106aa4a058213fcef93c3b34f",
       "version_major": 2,
       "version_minor": 0
      },
      "text/plain": [
       "st/MEND157.h5ad:   0%|          | 0.00/68.5M [00:00<?, ?B/s]"
      ]
     },
     "metadata": {},
     "output_type": "display_data"
    },
    {
     "data": {
      "application/vnd.jupyter.widget-view+json": {
       "model_id": "43d431f1961c44a6a38d4b492ab4b7b0",
       "version_major": 2,
       "version_minor": 0
      },
      "text/plain": [
       "st/MEND158.h5ad:   0%|          | 0.00/47.6M [00:00<?, ?B/s]"
      ]
     },
     "metadata": {},
     "output_type": "display_data"
    },
    {
     "data": {
      "application/vnd.jupyter.widget-view+json": {
       "model_id": "6e07aa012c7a412489e9f7fac145c960",
       "version_major": 2,
       "version_minor": 0
      },
      "text/plain": [
       "st/MEND159.h5ad:   0%|          | 0.00/37.2M [00:00<?, ?B/s]"
      ]
     },
     "metadata": {},
     "output_type": "display_data"
    },
    {
     "data": {
      "application/vnd.jupyter.widget-view+json": {
       "model_id": "8f216ac9d6d04635b1acce6a228192c3",
       "version_major": 2,
       "version_minor": 0
      },
      "text/plain": [
       "st/MEND160.h5ad:   0%|          | 0.00/46.5M [00:00<?, ?B/s]"
      ]
     },
     "metadata": {},
     "output_type": "display_data"
    },
    {
     "data": {
      "application/vnd.jupyter.widget-view+json": {
       "model_id": "72915069df444ca0be07d0e6d8208549",
       "version_major": 2,
       "version_minor": 0
      },
      "text/plain": [
       "st/MEND161.h5ad:   0%|          | 0.00/65.6M [00:00<?, ?B/s]"
      ]
     },
     "metadata": {},
     "output_type": "display_data"
    },
    {
     "data": {
      "application/vnd.jupyter.widget-view+json": {
       "model_id": "eba626a79cf4455bb5dd232c8fac00f0",
       "version_major": 2,
       "version_minor": 0
      },
      "text/plain": [
       "st/MEND162.h5ad:   0%|          | 0.00/26.3M [00:00<?, ?B/s]"
      ]
     },
     "metadata": {},
     "output_type": "display_data"
    },
    {
     "data": {
      "application/vnd.jupyter.widget-view+json": {
       "model_id": "bc7da9bb2a1242c988d64c7b9749e2a7",
       "version_major": 2,
       "version_minor": 0
      },
      "text/plain": [
       "st/MEND37.h5ad:   0%|          | 0.00/27.2M [00:00<?, ?B/s]"
      ]
     },
     "metadata": {},
     "output_type": "display_data"
    },
    {
     "data": {
      "application/vnd.jupyter.widget-view+json": {
       "model_id": "3b1c5c03eaf9411bbd7ebddf491ff175",
       "version_major": 2,
       "version_minor": 0
      },
      "text/plain": [
       "st/MEND38.h5ad:   0%|          | 0.00/40.2M [00:00<?, ?B/s]"
      ]
     },
     "metadata": {},
     "output_type": "display_data"
    },
    {
     "data": {
      "application/vnd.jupyter.widget-view+json": {
       "model_id": "755fa401e40140a588392a76ecf91287",
       "version_major": 2,
       "version_minor": 0
      },
      "text/plain": [
       "st/MEND39.h5ad:   0%|          | 0.00/34.2M [00:00<?, ?B/s]"
      ]
     },
     "metadata": {},
     "output_type": "display_data"
    },
    {
     "data": {
      "application/vnd.jupyter.widget-view+json": {
       "model_id": "5fa018b5221c46f2920d0c04d3f43874",
       "version_major": 2,
       "version_minor": 0
      },
      "text/plain": [
       "st/MEND40.h5ad:   0%|          | 0.00/52.2M [00:00<?, ?B/s]"
      ]
     },
     "metadata": {},
     "output_type": "display_data"
    },
    {
     "data": {
      "application/vnd.jupyter.widget-view+json": {
       "model_id": "b65201c5b5e54077a15d3d679bfef657",
       "version_major": 2,
       "version_minor": 0
      },
      "text/plain": [
       "st/MEND59.h5ad:   0%|          | 0.00/145M [00:00<?, ?B/s]"
      ]
     },
     "metadata": {},
     "output_type": "display_data"
    },
    {
     "data": {
      "application/vnd.jupyter.widget-view+json": {
       "model_id": "d840480a8c274726b2ff5fbe4865d5ca",
       "version_major": 2,
       "version_minor": 0
      },
      "text/plain": [
       "st/MEND60.h5ad:   0%|          | 0.00/165M [00:00<?, ?B/s]"
      ]
     },
     "metadata": {},
     "output_type": "display_data"
    },
    {
     "data": {
      "application/vnd.jupyter.widget-view+json": {
       "model_id": "44175de8c605429a897ef2350bffe1da",
       "version_major": 2,
       "version_minor": 0
      },
      "text/plain": [
       "st/MEND61.h5ad:   0%|          | 0.00/103M [00:00<?, ?B/s]"
      ]
     },
     "metadata": {},
     "output_type": "display_data"
    },
    {
     "data": {
      "application/vnd.jupyter.widget-view+json": {
       "model_id": "83b1b5a461ca476f83a1b85f388af56e",
       "version_major": 2,
       "version_minor": 0
      },
      "text/plain": [
       "st/MEND62.h5ad:   0%|          | 0.00/88.4M [00:00<?, ?B/s]"
      ]
     },
     "metadata": {},
     "output_type": "display_data"
    },
    {
     "data": {
      "application/vnd.jupyter.widget-view+json": {
       "model_id": "31ea69fb2e284492a2f943484ab62181",
       "version_major": 2,
       "version_minor": 0
      },
      "text/plain": [
       "st/MEND63.h5ad:   0%|          | 0.00/80.7M [00:00<?, ?B/s]"
      ]
     },
     "metadata": {},
     "output_type": "display_data"
    },
    {
     "data": {
      "application/vnd.jupyter.widget-view+json": {
       "model_id": "91ebe911794a42c2aa9787d8dc9a76d4",
       "version_major": 2,
       "version_minor": 0
      },
      "text/plain": [
       "st/MEND64.h5ad:   0%|          | 0.00/93.9M [00:00<?, ?B/s]"
      ]
     },
     "metadata": {},
     "output_type": "display_data"
    },
    {
     "data": {
      "application/vnd.jupyter.widget-view+json": {
       "model_id": "ab76686d98b046afa1e884e646d04289",
       "version_major": 2,
       "version_minor": 0
      },
      "text/plain": [
       "st/MEND65.h5ad:   0%|          | 0.00/44.0M [00:00<?, ?B/s]"
      ]
     },
     "metadata": {},
     "output_type": "display_data"
    },
    {
     "data": {
      "application/vnd.jupyter.widget-view+json": {
       "model_id": "93b1c84b10a44a8a8342033792e1a4a1",
       "version_major": 2,
       "version_minor": 0
      },
      "text/plain": [
       "st/MEND66.h5ad:   0%|          | 0.00/26.8M [00:00<?, ?B/s]"
      ]
     },
     "metadata": {},
     "output_type": "display_data"
    },
    {
     "data": {
      "application/vnd.jupyter.widget-view+json": {
       "model_id": "7ae99c24a5ac41ac9cd7e402d4d8b67a",
       "version_major": 2,
       "version_minor": 0
      },
      "text/plain": [
       "st/MEND67.h5ad:   0%|          | 0.00/15.9M [00:00<?, ?B/s]"
      ]
     },
     "metadata": {},
     "output_type": "display_data"
    },
    {
     "data": {
      "application/vnd.jupyter.widget-view+json": {
       "model_id": "9c8bc0a23d8b4951b85198eb567aec4c",
       "version_major": 2,
       "version_minor": 0
      },
      "text/plain": [
       "st/MEND68.h5ad:   0%|          | 0.00/13.0M [00:00<?, ?B/s]"
      ]
     },
     "metadata": {},
     "output_type": "display_data"
    },
    {
     "data": {
      "application/vnd.jupyter.widget-view+json": {
       "model_id": "5847a760268744b9afc7914c6a643385",
       "version_major": 2,
       "version_minor": 0
      },
      "text/plain": [
       "st/MISC33.h5ad:   0%|          | 0.00/53.8M [00:00<?, ?B/s]"
      ]
     },
     "metadata": {},
     "output_type": "display_data"
    },
    {
     "data": {
      "application/vnd.jupyter.widget-view+json": {
       "model_id": "dd1b4001e95540ac9c49c0d5e604bef3",
       "version_major": 2,
       "version_minor": 0
      },
      "text/plain": [
       "st/MISC34.h5ad:   0%|          | 0.00/127M [00:00<?, ?B/s]"
      ]
     },
     "metadata": {},
     "output_type": "display_data"
    },
    {
     "data": {
      "application/vnd.jupyter.widget-view+json": {
       "model_id": "77f9c27c1229481294db1418a3341b7e",
       "version_major": 2,
       "version_minor": 0
      },
      "text/plain": [
       "st/MISC35.h5ad:   0%|          | 0.00/168M [00:00<?, ?B/s]"
      ]
     },
     "metadata": {},
     "output_type": "display_data"
    },
    {
     "data": {
      "application/vnd.jupyter.widget-view+json": {
       "model_id": "808584e9f6494d2185422b6955836e34",
       "version_major": 2,
       "version_minor": 0
      },
      "text/plain": [
       "st/MISC36.h5ad:   0%|          | 0.00/144M [00:00<?, ?B/s]"
      ]
     },
     "metadata": {},
     "output_type": "display_data"
    },
    {
     "data": {
      "application/vnd.jupyter.widget-view+json": {
       "model_id": "d80489b2947e4e4d8312af58771d658e",
       "version_major": 2,
       "version_minor": 0
      },
      "text/plain": [
       "st/MISC38.h5ad:   0%|          | 0.00/80.0M [00:00<?, ?B/s]"
      ]
     },
     "metadata": {},
     "output_type": "display_data"
    },
    {
     "data": {
      "application/vnd.jupyter.widget-view+json": {
       "model_id": "91a89518f8c14d7094337c5036f79546",
       "version_major": 2,
       "version_minor": 0
      },
      "text/plain": [
       "st/MISC37.h5ad:   0%|          | 0.00/132M [00:00<?, ?B/s]"
      ]
     },
     "metadata": {},
     "output_type": "display_data"
    },
    {
     "data": {
      "application/vnd.jupyter.widget-view+json": {
       "model_id": "f7e75e7310234f8f9bd188e5a4570cd1",
       "version_major": 2,
       "version_minor": 0
      },
      "text/plain": [
       "st/MISC39.h5ad:   0%|          | 0.00/222M [00:00<?, ?B/s]"
      ]
     },
     "metadata": {},
     "output_type": "display_data"
    },
    {
     "data": {
      "application/vnd.jupyter.widget-view+json": {
       "model_id": "81e67042bf4244a6854ba920f06800c2",
       "version_major": 2,
       "version_minor": 0
      },
      "text/plain": [
       "st/MISC40.h5ad:   0%|          | 0.00/202M [00:00<?, ?B/s]"
      ]
     },
     "metadata": {},
     "output_type": "display_data"
    },
    {
     "data": {
      "application/vnd.jupyter.widget-view+json": {
       "model_id": "e94e3a20681d482cb34cfb6890800633",
       "version_major": 2,
       "version_minor": 0
      },
      "text/plain": [
       "st/MISC41.h5ad:   0%|          | 0.00/214M [00:00<?, ?B/s]"
      ]
     },
     "metadata": {},
     "output_type": "display_data"
    },
    {
     "data": {
      "application/vnd.jupyter.widget-view+json": {
       "model_id": "28d21686a9fa49698f60001fb1a476d7",
       "version_major": 2,
       "version_minor": 0
      },
      "text/plain": [
       "st/MISC42.h5ad:   0%|          | 0.00/15.2M [00:00<?, ?B/s]"
      ]
     },
     "metadata": {},
     "output_type": "display_data"
    },
    {
     "data": {
      "application/vnd.jupyter.widget-view+json": {
       "model_id": "10718a874673454abfd77f05b1f1b8d3",
       "version_major": 2,
       "version_minor": 0
      },
      "text/plain": [
       "st/MISC43.h5ad:   0%|          | 0.00/36.9M [00:00<?, ?B/s]"
      ]
     },
     "metadata": {},
     "output_type": "display_data"
    },
    {
     "data": {
      "application/vnd.jupyter.widget-view+json": {
       "model_id": "15526f83fa364cdeb77b0494265a5bf5",
       "version_major": 2,
       "version_minor": 0
      },
      "text/plain": [
       "st/MISC44.h5ad:   0%|          | 0.00/22.0M [00:00<?, ?B/s]"
      ]
     },
     "metadata": {},
     "output_type": "display_data"
    },
    {
     "data": {
      "application/vnd.jupyter.widget-view+json": {
       "model_id": "e9d5456103234660b226ac71f1661981",
       "version_major": 2,
       "version_minor": 0
      },
      "text/plain": [
       "st/MISC45.h5ad:   0%|          | 0.00/83.5M [00:00<?, ?B/s]"
      ]
     },
     "metadata": {},
     "output_type": "display_data"
    },
    {
     "data": {
      "application/vnd.jupyter.widget-view+json": {
       "model_id": "de9b0e980e7144c8aeab7d496d35edfb",
       "version_major": 2,
       "version_minor": 0
      },
      "text/plain": [
       "st/MISC46.h5ad:   0%|          | 0.00/116M [00:00<?, ?B/s]"
      ]
     },
     "metadata": {},
     "output_type": "display_data"
    },
    {
     "data": {
      "application/vnd.jupyter.widget-view+json": {
       "model_id": "35eb68e416a94598ba87698174819a73",
       "version_major": 2,
       "version_minor": 0
      },
      "text/plain": [
       "st/MISC47.h5ad:   0%|          | 0.00/74.5M [00:00<?, ?B/s]"
      ]
     },
     "metadata": {},
     "output_type": "display_data"
    },
    {
     "data": {
      "application/vnd.jupyter.widget-view+json": {
       "model_id": "7c7c6b69282d4c079ea535ace9cae387",
       "version_major": 2,
       "version_minor": 0
      },
      "text/plain": [
       "st/MISC49.h5ad:   0%|          | 0.00/106M [00:00<?, ?B/s]"
      ]
     },
     "metadata": {},
     "output_type": "display_data"
    },
    {
     "data": {
      "application/vnd.jupyter.widget-view+json": {
       "model_id": "5ba782b3683a4762a586448a67f27802",
       "version_major": 2,
       "version_minor": 0
      },
      "text/plain": [
       "st/MISC50.h5ad:   0%|          | 0.00/165M [00:00<?, ?B/s]"
      ]
     },
     "metadata": {},
     "output_type": "display_data"
    },
    {
     "data": {
      "application/vnd.jupyter.widget-view+json": {
       "model_id": "96e1d2492ea9401ba8d7c49ab871a383",
       "version_major": 2,
       "version_minor": 0
      },
      "text/plain": [
       "st/MISC51.h5ad:   0%|          | 0.00/107M [00:00<?, ?B/s]"
      ]
     },
     "metadata": {},
     "output_type": "display_data"
    },
    {
     "data": {
      "application/vnd.jupyter.widget-view+json": {
       "model_id": "45467e30a83a49659c291bec645c54ee",
       "version_major": 2,
       "version_minor": 0
      },
      "text/plain": [
       "st/MISC48.h5ad:   0%|          | 0.00/96.2M [00:00<?, ?B/s]"
      ]
     },
     "metadata": {},
     "output_type": "display_data"
    },
    {
     "data": {
      "application/vnd.jupyter.widget-view+json": {
       "model_id": "d57b882ff06b4179bc1cce9f316a618d",
       "version_major": 2,
       "version_minor": 0
      },
      "text/plain": [
       "st/MISC56.h5ad:   0%|          | 0.00/68.9M [00:00<?, ?B/s]"
      ]
     },
     "metadata": {},
     "output_type": "display_data"
    },
    {
     "data": {
      "application/vnd.jupyter.widget-view+json": {
       "model_id": "63ab351436e044898ad4884a6805ce3a",
       "version_major": 2,
       "version_minor": 0
      },
      "text/plain": [
       "st/MISC57.h5ad:   0%|          | 0.00/32.6M [00:00<?, ?B/s]"
      ]
     },
     "metadata": {},
     "output_type": "display_data"
    },
    {
     "data": {
      "application/vnd.jupyter.widget-view+json": {
       "model_id": "47d9cbfebfa0442e9594cea42e20b285",
       "version_major": 2,
       "version_minor": 0
      },
      "text/plain": [
       "st/MISC58.h5ad:   0%|          | 0.00/28.3M [00:00<?, ?B/s]"
      ]
     },
     "metadata": {},
     "output_type": "display_data"
    },
    {
     "data": {
      "application/vnd.jupyter.widget-view+json": {
       "model_id": "46d42674c76c4c20af16204047e34dcc",
       "version_major": 2,
       "version_minor": 0
      },
      "text/plain": [
       "st/MISC62.h5ad:   0%|          | 0.00/279M [00:00<?, ?B/s]"
      ]
     },
     "metadata": {},
     "output_type": "display_data"
    },
    {
     "data": {
      "application/vnd.jupyter.widget-view+json": {
       "model_id": "895bc8755d75448ca40cd900ed20731d",
       "version_major": 2,
       "version_minor": 0
      },
      "text/plain": [
       "st/MISC63.h5ad:   0%|          | 0.00/255M [00:00<?, ?B/s]"
      ]
     },
     "metadata": {},
     "output_type": "display_data"
    },
    {
     "data": {
      "application/vnd.jupyter.widget-view+json": {
       "model_id": "f2aee784c12e49858830739122cd0310",
       "version_major": 2,
       "version_minor": 0
      },
      "text/plain": [
       "st/MISC64.h5ad:   0%|          | 0.00/155M [00:00<?, ?B/s]"
      ]
     },
     "metadata": {},
     "output_type": "display_data"
    },
    {
     "data": {
      "application/vnd.jupyter.widget-view+json": {
       "model_id": "b2b09287998c46a9b37812f932f0619d",
       "version_major": 2,
       "version_minor": 0
      },
      "text/plain": [
       "st/MISC65.h5ad:   0%|          | 0.00/180M [00:00<?, ?B/s]"
      ]
     },
     "metadata": {},
     "output_type": "display_data"
    },
    {
     "data": {
      "application/vnd.jupyter.widget-view+json": {
       "model_id": "5ca152359c254c95a40d4232fa559c71",
       "version_major": 2,
       "version_minor": 0
      },
      "text/plain": [
       "st/MISC66.h5ad:   0%|          | 0.00/174M [00:00<?, ?B/s]"
      ]
     },
     "metadata": {},
     "output_type": "display_data"
    },
    {
     "data": {
      "application/vnd.jupyter.widget-view+json": {
       "model_id": "5b88004a55db4f839ce17edffd797668",
       "version_major": 2,
       "version_minor": 0
      },
      "text/plain": [
       "st/MISC67.h5ad:   0%|          | 0.00/161M [00:00<?, ?B/s]"
      ]
     },
     "metadata": {},
     "output_type": "display_data"
    },
    {
     "data": {
      "application/vnd.jupyter.widget-view+json": {
       "model_id": "3fa1a112d2e5445990ee5272d92d4b5c",
       "version_major": 2,
       "version_minor": 0
      },
      "text/plain": [
       "st/MISC68.h5ad:   0%|          | 0.00/39.8M [00:00<?, ?B/s]"
      ]
     },
     "metadata": {},
     "output_type": "display_data"
    },
    {
     "data": {
      "application/vnd.jupyter.widget-view+json": {
       "model_id": "aa29b78bde264153bbb8ae90779d9c61",
       "version_major": 2,
       "version_minor": 0
      },
      "text/plain": [
       "st/MISC69.h5ad:   0%|          | 0.00/29.0M [00:00<?, ?B/s]"
      ]
     },
     "metadata": {},
     "output_type": "display_data"
    },
    {
     "data": {
      "application/vnd.jupyter.widget-view+json": {
       "model_id": "3b13a1a460a3446ab70ba40381ec91b4",
       "version_major": 2,
       "version_minor": 0
      },
      "text/plain": [
       "st/MISC70.h5ad:   0%|          | 0.00/76.9M [00:00<?, ?B/s]"
      ]
     },
     "metadata": {},
     "output_type": "display_data"
    },
    {
     "data": {
      "application/vnd.jupyter.widget-view+json": {
       "model_id": "ef60a7ec9e5c4e2385b98c43feb3c937",
       "version_major": 2,
       "version_minor": 0
      },
      "text/plain": [
       "st/MISC71.h5ad:   0%|          | 0.00/87.7M [00:00<?, ?B/s]"
      ]
     },
     "metadata": {},
     "output_type": "display_data"
    },
    {
     "data": {
      "application/vnd.jupyter.widget-view+json": {
       "model_id": "7c0c2d9d536e4c3ea901ac03db02f170",
       "version_major": 2,
       "version_minor": 0
      },
      "text/plain": [
       "st/MISC72.h5ad:   0%|          | 0.00/158M [00:00<?, ?B/s]"
      ]
     },
     "metadata": {},
     "output_type": "display_data"
    },
    {
     "data": {
      "application/vnd.jupyter.widget-view+json": {
       "model_id": "22209375a17746b1aa39f917413b55a0",
       "version_major": 2,
       "version_minor": 0
      },
      "text/plain": [
       "st/MISC73.h5ad:   0%|          | 0.00/151M [00:00<?, ?B/s]"
      ]
     },
     "metadata": {},
     "output_type": "display_data"
    },
    {
     "data": {
      "application/vnd.jupyter.widget-view+json": {
       "model_id": "1c4001b265534e6c90c28163b310215b",
       "version_major": 2,
       "version_minor": 0
      },
      "text/plain": [
       "st/NCBI1.h5ad:   0%|          | 0.00/27.5M [00:00<?, ?B/s]"
      ]
     },
     "metadata": {},
     "output_type": "display_data"
    },
    {
     "data": {
      "application/vnd.jupyter.widget-view+json": {
       "model_id": "d83d9489707f42949c2d3c7d8ef35ea6",
       "version_major": 2,
       "version_minor": 0
      },
      "text/plain": [
       "st/NCBI10.h5ad:   0%|          | 0.00/22.0M [00:00<?, ?B/s]"
      ]
     },
     "metadata": {},
     "output_type": "display_data"
    },
    {
     "data": {
      "application/vnd.jupyter.widget-view+json": {
       "model_id": "bb09c89e67294c32b4ba13803e897d33",
       "version_major": 2,
       "version_minor": 0
      },
      "text/plain": [
       "st/NCBI100.h5ad:   0%|          | 0.00/45.1M [00:00<?, ?B/s]"
      ]
     },
     "metadata": {},
     "output_type": "display_data"
    },
    {
     "data": {
      "application/vnd.jupyter.widget-view+json": {
       "model_id": "4333a32e31e54c0ba29c1a27846ff060",
       "version_major": 2,
       "version_minor": 0
      },
      "text/plain": [
       "st/NCBI101.h5ad:   0%|          | 0.00/35.8M [00:00<?, ?B/s]"
      ]
     },
     "metadata": {},
     "output_type": "display_data"
    },
    {
     "data": {
      "application/vnd.jupyter.widget-view+json": {
       "model_id": "9696ec5a551d4f6481e3ca87b1895ba7",
       "version_major": 2,
       "version_minor": 0
      },
      "text/plain": [
       "st/NCBI103.h5ad:   0%|          | 0.00/60.2M [00:00<?, ?B/s]"
      ]
     },
     "metadata": {},
     "output_type": "display_data"
    },
    {
     "data": {
      "application/vnd.jupyter.widget-view+json": {
       "model_id": "6090a4162db947dc9065930d0a4a86af",
       "version_major": 2,
       "version_minor": 0
      },
      "text/plain": [
       "st/NCBI102.h5ad:   0%|          | 0.00/39.1M [00:00<?, ?B/s]"
      ]
     },
     "metadata": {},
     "output_type": "display_data"
    },
    {
     "data": {
      "application/vnd.jupyter.widget-view+json": {
       "model_id": "7823a8773f43408c8bb287f0d72bb700",
       "version_major": 2,
       "version_minor": 0
      },
      "text/plain": [
       "st/NCBI105.h5ad:   0%|          | 0.00/52.8M [00:00<?, ?B/s]"
      ]
     },
     "metadata": {},
     "output_type": "display_data"
    },
    {
     "data": {
      "application/vnd.jupyter.widget-view+json": {
       "model_id": "a0a34a5bc6fc4083bd2024b60f1359e0",
       "version_major": 2,
       "version_minor": 0
      },
      "text/plain": [
       "st/NCBI104.h5ad:   0%|          | 0.00/53.9M [00:00<?, ?B/s]"
      ]
     },
     "metadata": {},
     "output_type": "display_data"
    },
    {
     "data": {
      "application/vnd.jupyter.widget-view+json": {
       "model_id": "1d4f043cc0354fcbb71911428e3211a9",
       "version_major": 2,
       "version_minor": 0
      },
      "text/plain": [
       "st/NCBI106.h5ad:   0%|          | 0.00/58.4M [00:00<?, ?B/s]"
      ]
     },
     "metadata": {},
     "output_type": "display_data"
    },
    {
     "data": {
      "application/vnd.jupyter.widget-view+json": {
       "model_id": "d93119a11a484106b367f382f8365273",
       "version_major": 2,
       "version_minor": 0
      },
      "text/plain": [
       "st/NCBI107.h5ad:   0%|          | 0.00/46.4M [00:00<?, ?B/s]"
      ]
     },
     "metadata": {},
     "output_type": "display_data"
    },
    {
     "data": {
      "application/vnd.jupyter.widget-view+json": {
       "model_id": "f26e4c4000e347f28afb2f8765c5565c",
       "version_major": 2,
       "version_minor": 0
      },
      "text/plain": [
       "st/NCBI108.h5ad:   0%|          | 0.00/55.5M [00:00<?, ?B/s]"
      ]
     },
     "metadata": {},
     "output_type": "display_data"
    },
    {
     "data": {
      "application/vnd.jupyter.widget-view+json": {
       "model_id": "4c6a29251ef043ee9624f3ceff97f786",
       "version_major": 2,
       "version_minor": 0
      },
      "text/plain": [
       "st/NCBI109.h5ad:   0%|          | 0.00/40.7M [00:00<?, ?B/s]"
      ]
     },
     "metadata": {},
     "output_type": "display_data"
    },
    {
     "data": {
      "application/vnd.jupyter.widget-view+json": {
       "model_id": "f75e84a699224d83a089931be509eeab",
       "version_major": 2,
       "version_minor": 0
      },
      "text/plain": [
       "st/NCBI11.h5ad:   0%|          | 0.00/25.4M [00:00<?, ?B/s]"
      ]
     },
     "metadata": {},
     "output_type": "display_data"
    },
    {
     "data": {
      "application/vnd.jupyter.widget-view+json": {
       "model_id": "257c97717e154bcdb8369000705543f7",
       "version_major": 2,
       "version_minor": 0
      },
      "text/plain": [
       "st/NCBI110.h5ad:   0%|          | 0.00/45.2M [00:00<?, ?B/s]"
      ]
     },
     "metadata": {},
     "output_type": "display_data"
    },
    {
     "data": {
      "application/vnd.jupyter.widget-view+json": {
       "model_id": "453d347006ba4b018942a10fbc832959",
       "version_major": 2,
       "version_minor": 0
      },
      "text/plain": [
       "st/NCBI111.h5ad:   0%|          | 0.00/47.8M [00:00<?, ?B/s]"
      ]
     },
     "metadata": {},
     "output_type": "display_data"
    },
    {
     "data": {
      "application/vnd.jupyter.widget-view+json": {
       "model_id": "a098105894a349f68448aba09d8f8afe",
       "version_major": 2,
       "version_minor": 0
      },
      "text/plain": [
       "st/NCBI112.h5ad:   0%|          | 0.00/45.4M [00:00<?, ?B/s]"
      ]
     },
     "metadata": {},
     "output_type": "display_data"
    },
    {
     "data": {
      "application/vnd.jupyter.widget-view+json": {
       "model_id": "ee977b246fdf4a9d94710fb7b774bcef",
       "version_major": 2,
       "version_minor": 0
      },
      "text/plain": [
       "st/NCBI113.h5ad:   0%|          | 0.00/41.9M [00:00<?, ?B/s]"
      ]
     },
     "metadata": {},
     "output_type": "display_data"
    },
    {
     "data": {
      "application/vnd.jupyter.widget-view+json": {
       "model_id": "4ff1acf8646a44f8b0752e483b4e3c5b",
       "version_major": 2,
       "version_minor": 0
      },
      "text/plain": [
       "st/NCBI114.h5ad:   0%|          | 0.00/48.5M [00:00<?, ?B/s]"
      ]
     },
     "metadata": {},
     "output_type": "display_data"
    },
    {
     "data": {
      "application/vnd.jupyter.widget-view+json": {
       "model_id": "ac3cc47dabd14ac0ac6e0cc1dba99cc5",
       "version_major": 2,
       "version_minor": 0
      },
      "text/plain": [
       "st/NCBI115.h5ad:   0%|          | 0.00/39.4M [00:00<?, ?B/s]"
      ]
     },
     "metadata": {},
     "output_type": "display_data"
    },
    {
     "data": {
      "application/vnd.jupyter.widget-view+json": {
       "model_id": "225847e2199643b897e677645fb52160",
       "version_major": 2,
       "version_minor": 0
      },
      "text/plain": [
       "st/NCBI116.h5ad:   0%|          | 0.00/37.0M [00:00<?, ?B/s]"
      ]
     },
     "metadata": {},
     "output_type": "display_data"
    },
    {
     "data": {
      "application/vnd.jupyter.widget-view+json": {
       "model_id": "8592a70038134b298e254cbf1ce27cf4",
       "version_major": 2,
       "version_minor": 0
      },
      "text/plain": [
       "st/NCBI117.h5ad:   0%|          | 0.00/51.6M [00:00<?, ?B/s]"
      ]
     },
     "metadata": {},
     "output_type": "display_data"
    },
    {
     "data": {
      "application/vnd.jupyter.widget-view+json": {
       "model_id": "79595b0391494933814c6d0f2b0ae39e",
       "version_major": 2,
       "version_minor": 0
      },
      "text/plain": [
       "st/NCBI118.h5ad:   0%|          | 0.00/47.6M [00:00<?, ?B/s]"
      ]
     },
     "metadata": {},
     "output_type": "display_data"
    },
    {
     "data": {
      "application/vnd.jupyter.widget-view+json": {
       "model_id": "605b8724868d4c72bf01535c0251a085",
       "version_major": 2,
       "version_minor": 0
      },
      "text/plain": [
       "st/NCBI119.h5ad:   0%|          | 0.00/48.8M [00:00<?, ?B/s]"
      ]
     },
     "metadata": {},
     "output_type": "display_data"
    },
    {
     "data": {
      "application/vnd.jupyter.widget-view+json": {
       "model_id": "c6a4772bcd294751a3891c6be4f8e763",
       "version_major": 2,
       "version_minor": 0
      },
      "text/plain": [
       "st/NCBI12.h5ad:   0%|          | 0.00/20.6M [00:00<?, ?B/s]"
      ]
     },
     "metadata": {},
     "output_type": "display_data"
    },
    {
     "data": {
      "application/vnd.jupyter.widget-view+json": {
       "model_id": "4de1c29dfb6549d18ea8974411280fe6",
       "version_major": 2,
       "version_minor": 0
      },
      "text/plain": [
       "st/NCBI120.h5ad:   0%|          | 0.00/54.1M [00:00<?, ?B/s]"
      ]
     },
     "metadata": {},
     "output_type": "display_data"
    },
    {
     "data": {
      "application/vnd.jupyter.widget-view+json": {
       "model_id": "8939246c76534a76a4dd9c95adb9e426",
       "version_major": 2,
       "version_minor": 0
      },
      "text/plain": [
       "st/NCBI121.h5ad:   0%|          | 0.00/35.6M [00:00<?, ?B/s]"
      ]
     },
     "metadata": {},
     "output_type": "display_data"
    },
    {
     "data": {
      "application/vnd.jupyter.widget-view+json": {
       "model_id": "d21c4e953f63489591b53c327d96eeff",
       "version_major": 2,
       "version_minor": 0
      },
      "text/plain": [
       "st/NCBI123.h5ad:   0%|          | 0.00/50.0M [00:00<?, ?B/s]"
      ]
     },
     "metadata": {},
     "output_type": "display_data"
    },
    {
     "data": {
      "application/vnd.jupyter.widget-view+json": {
       "model_id": "ef59ab43ead849ce9df0b42a2e12ffb4",
       "version_major": 2,
       "version_minor": 0
      },
      "text/plain": [
       "st/NCBI122.h5ad:   0%|          | 0.00/37.7M [00:00<?, ?B/s]"
      ]
     },
     "metadata": {},
     "output_type": "display_data"
    },
    {
     "data": {
      "application/vnd.jupyter.widget-view+json": {
       "model_id": "4627a6ae9b434fc3a91836b58ec1b90c",
       "version_major": 2,
       "version_minor": 0
      },
      "text/plain": [
       "st/NCBI124.h5ad:   0%|          | 0.00/48.2M [00:00<?, ?B/s]"
      ]
     },
     "metadata": {},
     "output_type": "display_data"
    },
    {
     "data": {
      "application/vnd.jupyter.widget-view+json": {
       "model_id": "52cd13a41507447f877ee17cb89a2f65",
       "version_major": 2,
       "version_minor": 0
      },
      "text/plain": [
       "st/NCBI125.h5ad:   0%|          | 0.00/49.4M [00:00<?, ?B/s]"
      ]
     },
     "metadata": {},
     "output_type": "display_data"
    },
    {
     "data": {
      "application/vnd.jupyter.widget-view+json": {
       "model_id": "321ecba39c8b4588a498449f5e712688",
       "version_major": 2,
       "version_minor": 0
      },
      "text/plain": [
       "st/NCBI127.h5ad:   0%|          | 0.00/44.0M [00:00<?, ?B/s]"
      ]
     },
     "metadata": {},
     "output_type": "display_data"
    },
    {
     "data": {
      "application/vnd.jupyter.widget-view+json": {
       "model_id": "05122cf5792343ba901290e66655b296",
       "version_major": 2,
       "version_minor": 0
      },
      "text/plain": [
       "st/NCBI126.h5ad:   0%|          | 0.00/52.8M [00:00<?, ?B/s]"
      ]
     },
     "metadata": {},
     "output_type": "display_data"
    },
    {
     "data": {
      "application/vnd.jupyter.widget-view+json": {
       "model_id": "b0e2db25ce8949ae81a0263d3fb854fc",
       "version_major": 2,
       "version_minor": 0
      },
      "text/plain": [
       "st/NCBI128.h5ad:   0%|          | 0.00/48.8M [00:00<?, ?B/s]"
      ]
     },
     "metadata": {},
     "output_type": "display_data"
    },
    {
     "data": {
      "application/vnd.jupyter.widget-view+json": {
       "model_id": "88962557e94a401eb9bdc2d1cdaef62b",
       "version_major": 2,
       "version_minor": 0
      },
      "text/plain": [
       "st/NCBI129.h5ad:   0%|          | 0.00/41.6M [00:00<?, ?B/s]"
      ]
     },
     "metadata": {},
     "output_type": "display_data"
    },
    {
     "data": {
      "application/vnd.jupyter.widget-view+json": {
       "model_id": "bfaee0654c7a4a6e8c04ba610d1a912e",
       "version_major": 2,
       "version_minor": 0
      },
      "text/plain": [
       "st/NCBI13.h5ad:   0%|          | 0.00/28.0M [00:00<?, ?B/s]"
      ]
     },
     "metadata": {},
     "output_type": "display_data"
    },
    {
     "data": {
      "application/vnd.jupyter.widget-view+json": {
       "model_id": "aba747a3f33145fe8cb0da5be3ae0298",
       "version_major": 2,
       "version_minor": 0
      },
      "text/plain": [
       "st/NCBI130.h5ad:   0%|          | 0.00/48.7M [00:00<?, ?B/s]"
      ]
     },
     "metadata": {},
     "output_type": "display_data"
    },
    {
     "data": {
      "application/vnd.jupyter.widget-view+json": {
       "model_id": "1f45ea18362e410ebdf8a6e8fcf1bb78",
       "version_major": 2,
       "version_minor": 0
      },
      "text/plain": [
       "st/NCBI132.h5ad:   0%|          | 0.00/49.5M [00:00<?, ?B/s]"
      ]
     },
     "metadata": {},
     "output_type": "display_data"
    },
    {
     "data": {
      "application/vnd.jupyter.widget-view+json": {
       "model_id": "f0d64339ee3340379cfbe3acfd5f586c",
       "version_major": 2,
       "version_minor": 0
      },
      "text/plain": [
       "st/NCBI131.h5ad:   0%|          | 0.00/42.0M [00:00<?, ?B/s]"
      ]
     },
     "metadata": {},
     "output_type": "display_data"
    },
    {
     "data": {
      "application/vnd.jupyter.widget-view+json": {
       "model_id": "be689a534b714fd6bdc43d019f0f468c",
       "version_major": 2,
       "version_minor": 0
      },
      "text/plain": [
       "st/NCBI133.h5ad:   0%|          | 0.00/44.4M [00:00<?, ?B/s]"
      ]
     },
     "metadata": {},
     "output_type": "display_data"
    },
    {
     "data": {
      "application/vnd.jupyter.widget-view+json": {
       "model_id": "da8ef5b53eb449d5a4bf1fa49bb9f917",
       "version_major": 2,
       "version_minor": 0
      },
      "text/plain": [
       "st/NCBI134.h5ad:   0%|          | 0.00/43.4M [00:00<?, ?B/s]"
      ]
     },
     "metadata": {},
     "output_type": "display_data"
    },
    {
     "data": {
      "application/vnd.jupyter.widget-view+json": {
       "model_id": "09a2854288b0400284401477fa1d6c8a",
       "version_major": 2,
       "version_minor": 0
      },
      "text/plain": [
       "st/NCBI135.h5ad:   0%|          | 0.00/45.1M [00:00<?, ?B/s]"
      ]
     },
     "metadata": {},
     "output_type": "display_data"
    },
    {
     "data": {
      "application/vnd.jupyter.widget-view+json": {
       "model_id": "af3d49ba495c4be4a747307d4106b841",
       "version_major": 2,
       "version_minor": 0
      },
      "text/plain": [
       "st/NCBI136.h5ad:   0%|          | 0.00/34.5M [00:00<?, ?B/s]"
      ]
     },
     "metadata": {},
     "output_type": "display_data"
    },
    {
     "data": {
      "application/vnd.jupyter.widget-view+json": {
       "model_id": "f8ce33bae7894f7a943b000c34e796d5",
       "version_major": 2,
       "version_minor": 0
      },
      "text/plain": [
       "st/NCBI137.h5ad:   0%|          | 0.00/38.7M [00:00<?, ?B/s]"
      ]
     },
     "metadata": {},
     "output_type": "display_data"
    },
    {
     "data": {
      "application/vnd.jupyter.widget-view+json": {
       "model_id": "d0405edcf89d4abe82144852c0e5e257",
       "version_major": 2,
       "version_minor": 0
      },
      "text/plain": [
       "st/NCBI138.h5ad:   0%|          | 0.00/40.8M [00:00<?, ?B/s]"
      ]
     },
     "metadata": {},
     "output_type": "display_data"
    },
    {
     "data": {
      "application/vnd.jupyter.widget-view+json": {
       "model_id": "1be32dde7ccb49058f94b484cc324303",
       "version_major": 2,
       "version_minor": 0
      },
      "text/plain": [
       "st/NCBI139.h5ad:   0%|          | 0.00/39.9M [00:00<?, ?B/s]"
      ]
     },
     "metadata": {},
     "output_type": "display_data"
    },
    {
     "data": {
      "application/vnd.jupyter.widget-view+json": {
       "model_id": "b37cfd7a0b7b43a79bbac8a277b5c1fb",
       "version_major": 2,
       "version_minor": 0
      },
      "text/plain": [
       "st/NCBI14.h5ad:   0%|          | 0.00/22.4M [00:00<?, ?B/s]"
      ]
     },
     "metadata": {},
     "output_type": "display_data"
    },
    {
     "data": {
      "application/vnd.jupyter.widget-view+json": {
       "model_id": "023dcf59b33e4db6903f7133d300cbb5",
       "version_major": 2,
       "version_minor": 0
      },
      "text/plain": [
       "st/NCBI140.h5ad:   0%|          | 0.00/34.7M [00:00<?, ?B/s]"
      ]
     },
     "metadata": {},
     "output_type": "display_data"
    },
    {
     "data": {
      "application/vnd.jupyter.widget-view+json": {
       "model_id": "8af81203ba8349cc96dc5baab4ab3f9b",
       "version_major": 2,
       "version_minor": 0
      },
      "text/plain": [
       "st/NCBI141.h5ad:   0%|          | 0.00/39.6M [00:00<?, ?B/s]"
      ]
     },
     "metadata": {},
     "output_type": "display_data"
    },
    {
     "data": {
      "application/vnd.jupyter.widget-view+json": {
       "model_id": "f95135ba8c3f4273ad7b3723f86b7fe7",
       "version_major": 2,
       "version_minor": 0
      },
      "text/plain": [
       "st/NCBI142.h5ad:   0%|          | 0.00/31.1M [00:00<?, ?B/s]"
      ]
     },
     "metadata": {},
     "output_type": "display_data"
    },
    {
     "data": {
      "application/vnd.jupyter.widget-view+json": {
       "model_id": "f88c5d87ed1640bcbe4279b75e1a6e31",
       "version_major": 2,
       "version_minor": 0
      },
      "text/plain": [
       "st/NCBI143.h5ad:   0%|          | 0.00/36.6M [00:00<?, ?B/s]"
      ]
     },
     "metadata": {},
     "output_type": "display_data"
    },
    {
     "data": {
      "application/vnd.jupyter.widget-view+json": {
       "model_id": "33386136afbb4a62a8f59c4a17a4c0d9",
       "version_major": 2,
       "version_minor": 0
      },
      "text/plain": [
       "st/NCBI144.h5ad:   0%|          | 0.00/40.0M [00:00<?, ?B/s]"
      ]
     },
     "metadata": {},
     "output_type": "display_data"
    },
    {
     "data": {
      "application/vnd.jupyter.widget-view+json": {
       "model_id": "0362ea02eda34451a6bd1f35486b2b81",
       "version_major": 2,
       "version_minor": 0
      },
      "text/plain": [
       "st/NCBI145.h5ad:   0%|          | 0.00/37.3M [00:00<?, ?B/s]"
      ]
     },
     "metadata": {},
     "output_type": "display_data"
    },
    {
     "data": {
      "application/vnd.jupyter.widget-view+json": {
       "model_id": "3325937432b74804a4d08f809ee33d2b",
       "version_major": 2,
       "version_minor": 0
      },
      "text/plain": [
       "st/NCBI146.h5ad:   0%|          | 0.00/43.0M [00:00<?, ?B/s]"
      ]
     },
     "metadata": {},
     "output_type": "display_data"
    },
    {
     "data": {
      "application/vnd.jupyter.widget-view+json": {
       "model_id": "6bb3fe60a2e74b38af800931a6951c4c",
       "version_major": 2,
       "version_minor": 0
      },
      "text/plain": [
       "st/NCBI147.h5ad:   0%|          | 0.00/41.7M [00:00<?, ?B/s]"
      ]
     },
     "metadata": {},
     "output_type": "display_data"
    },
    {
     "data": {
      "application/vnd.jupyter.widget-view+json": {
       "model_id": "3014bac6d85f4b4aa1050070e55c7f28",
       "version_major": 2,
       "version_minor": 0
      },
      "text/plain": [
       "st/NCBI148.h5ad:   0%|          | 0.00/42.0M [00:00<?, ?B/s]"
      ]
     },
     "metadata": {},
     "output_type": "display_data"
    },
    {
     "data": {
      "application/vnd.jupyter.widget-view+json": {
       "model_id": "68161c54e6034653b9c3699cbff1221d",
       "version_major": 2,
       "version_minor": 0
      },
      "text/plain": [
       "st/NCBI149.h5ad:   0%|          | 0.00/39.7M [00:00<?, ?B/s]"
      ]
     },
     "metadata": {},
     "output_type": "display_data"
    },
    {
     "data": {
      "application/vnd.jupyter.widget-view+json": {
       "model_id": "d1acc5b873bf46498b5ece848064775b",
       "version_major": 2,
       "version_minor": 0
      },
      "text/plain": [
       "st/NCBI15.h5ad:   0%|          | 0.00/33.2M [00:00<?, ?B/s]"
      ]
     },
     "metadata": {},
     "output_type": "display_data"
    },
    {
     "data": {
      "application/vnd.jupyter.widget-view+json": {
       "model_id": "d1d24fce3e9048d0bde46009160a6117",
       "version_major": 2,
       "version_minor": 0
      },
      "text/plain": [
       "st/NCBI150.h5ad:   0%|          | 0.00/38.8M [00:00<?, ?B/s]"
      ]
     },
     "metadata": {},
     "output_type": "display_data"
    },
    {
     "data": {
      "application/vnd.jupyter.widget-view+json": {
       "model_id": "a0d36802ed7645e58eef357a2faf77b1",
       "version_major": 2,
       "version_minor": 0
      },
      "text/plain": [
       "st/NCBI151.h5ad:   0%|          | 0.00/41.9M [00:00<?, ?B/s]"
      ]
     },
     "metadata": {},
     "output_type": "display_data"
    },
    {
     "data": {
      "application/vnd.jupyter.widget-view+json": {
       "model_id": "a655f29358b64446a07dbde8189ab510",
       "version_major": 2,
       "version_minor": 0
      },
      "text/plain": [
       "st/NCBI152.h5ad:   0%|          | 0.00/44.7M [00:00<?, ?B/s]"
      ]
     },
     "metadata": {},
     "output_type": "display_data"
    },
    {
     "data": {
      "application/vnd.jupyter.widget-view+json": {
       "model_id": "894a97c275cb4c0aa88401b2cc0c5a5f",
       "version_major": 2,
       "version_minor": 0
      },
      "text/plain": [
       "st/NCBI153.h5ad:   0%|          | 0.00/40.7M [00:00<?, ?B/s]"
      ]
     },
     "metadata": {},
     "output_type": "display_data"
    },
    {
     "data": {
      "application/vnd.jupyter.widget-view+json": {
       "model_id": "14e0c825db1c41c2b28822a16267eb86",
       "version_major": 2,
       "version_minor": 0
      },
      "text/plain": [
       "st/NCBI154.h5ad:   0%|          | 0.00/43.2M [00:00<?, ?B/s]"
      ]
     },
     "metadata": {},
     "output_type": "display_data"
    },
    {
     "data": {
      "application/vnd.jupyter.widget-view+json": {
       "model_id": "e04b9a54f5e14c11a8667ee23435c641",
       "version_major": 2,
       "version_minor": 0
      },
      "text/plain": [
       "st/NCBI155.h5ad:   0%|          | 0.00/40.8M [00:00<?, ?B/s]"
      ]
     },
     "metadata": {},
     "output_type": "display_data"
    },
    {
     "data": {
      "application/vnd.jupyter.widget-view+json": {
       "model_id": "58503ce1870b494dafe7fd28ec10998a",
       "version_major": 2,
       "version_minor": 0
      },
      "text/plain": [
       "st/NCBI156.h5ad:   0%|          | 0.00/38.9M [00:00<?, ?B/s]"
      ]
     },
     "metadata": {},
     "output_type": "display_data"
    },
    {
     "data": {
      "application/vnd.jupyter.widget-view+json": {
       "model_id": "db448ef6b5a74b08bcc3cf2db52aa437",
       "version_major": 2,
       "version_minor": 0
      },
      "text/plain": [
       "st/NCBI157.h5ad:   0%|          | 0.00/43.0M [00:00<?, ?B/s]"
      ]
     },
     "metadata": {},
     "output_type": "display_data"
    },
    {
     "data": {
      "application/vnd.jupyter.widget-view+json": {
       "model_id": "bd4079c394a14398a0231e6daa1b343f",
       "version_major": 2,
       "version_minor": 0
      },
      "text/plain": [
       "st/NCBI158.h5ad:   0%|          | 0.00/35.8M [00:00<?, ?B/s]"
      ]
     },
     "metadata": {},
     "output_type": "display_data"
    },
    {
     "data": {
      "application/vnd.jupyter.widget-view+json": {
       "model_id": "0973b2cb7f2c45449df3147263f66c25",
       "version_major": 2,
       "version_minor": 0
      },
      "text/plain": [
       "st/NCBI159.h5ad:   0%|          | 0.00/32.7M [00:00<?, ?B/s]"
      ]
     },
     "metadata": {},
     "output_type": "display_data"
    },
    {
     "data": {
      "application/vnd.jupyter.widget-view+json": {
       "model_id": "2af2a085dbaa4377aa9b53c3e5f614d4",
       "version_major": 2,
       "version_minor": 0
      },
      "text/plain": [
       "st/NCBI160.h5ad:   0%|          | 0.00/43.2M [00:00<?, ?B/s]"
      ]
     },
     "metadata": {},
     "output_type": "display_data"
    },
    {
     "data": {
      "application/vnd.jupyter.widget-view+json": {
       "model_id": "ced9adf28e654827b89e4d3cf36c6878",
       "version_major": 2,
       "version_minor": 0
      },
      "text/plain": [
       "st/NCBI16.h5ad:   0%|          | 0.00/19.6M [00:00<?, ?B/s]"
      ]
     },
     "metadata": {},
     "output_type": "display_data"
    },
    {
     "data": {
      "application/vnd.jupyter.widget-view+json": {
       "model_id": "816e8fc8ce0c416b959d792e75817a76",
       "version_major": 2,
       "version_minor": 0
      },
      "text/plain": [
       "st/NCBI161.h5ad:   0%|          | 0.00/39.1M [00:00<?, ?B/s]"
      ]
     },
     "metadata": {},
     "output_type": "display_data"
    },
    {
     "data": {
      "application/vnd.jupyter.widget-view+json": {
       "model_id": "de9697dd6f79428a92e2913a93a1980a",
       "version_major": 2,
       "version_minor": 0
      },
      "text/plain": [
       "st/NCBI162.h5ad:   0%|          | 0.00/33.1M [00:00<?, ?B/s]"
      ]
     },
     "metadata": {},
     "output_type": "display_data"
    },
    {
     "data": {
      "application/vnd.jupyter.widget-view+json": {
       "model_id": "d14ae5ea3be749cb9f61b37d299e1ec7",
       "version_major": 2,
       "version_minor": 0
      },
      "text/plain": [
       "st/NCBI163.h5ad:   0%|          | 0.00/42.9M [00:00<?, ?B/s]"
      ]
     },
     "metadata": {},
     "output_type": "display_data"
    },
    {
     "data": {
      "application/vnd.jupyter.widget-view+json": {
       "model_id": "5e9a5950c5bb4a8fa15a887f6578464c",
       "version_major": 2,
       "version_minor": 0
      },
      "text/plain": [
       "st/NCBI164.h5ad:   0%|          | 0.00/42.8M [00:00<?, ?B/s]"
      ]
     },
     "metadata": {},
     "output_type": "display_data"
    },
    {
     "data": {
      "application/vnd.jupyter.widget-view+json": {
       "model_id": "b4ca7bf197204f68887a0faf497d800c",
       "version_major": 2,
       "version_minor": 0
      },
      "text/plain": [
       "st/NCBI165.h5ad:   0%|          | 0.00/39.2M [00:00<?, ?B/s]"
      ]
     },
     "metadata": {},
     "output_type": "display_data"
    },
    {
     "data": {
      "application/vnd.jupyter.widget-view+json": {
       "model_id": "89934a424fc44c369ac466eb6cdcf322",
       "version_major": 2,
       "version_minor": 0
      },
      "text/plain": [
       "st/NCBI166.h5ad:   0%|          | 0.00/43.9M [00:00<?, ?B/s]"
      ]
     },
     "metadata": {},
     "output_type": "display_data"
    },
    {
     "data": {
      "application/vnd.jupyter.widget-view+json": {
       "model_id": "bcb9ba43963049d996d18ba8a8779234",
       "version_major": 2,
       "version_minor": 0
      },
      "text/plain": [
       "st/NCBI167.h5ad:   0%|          | 0.00/41.2M [00:00<?, ?B/s]"
      ]
     },
     "metadata": {},
     "output_type": "display_data"
    },
    {
     "data": {
      "application/vnd.jupyter.widget-view+json": {
       "model_id": "2f864c0e270e4dac8b578ed10b696339",
       "version_major": 2,
       "version_minor": 0
      },
      "text/plain": [
       "st/NCBI168.h5ad:   0%|          | 0.00/31.9M [00:00<?, ?B/s]"
      ]
     },
     "metadata": {},
     "output_type": "display_data"
    },
    {
     "data": {
      "application/vnd.jupyter.widget-view+json": {
       "model_id": "2f40c54c36f446e689d56dbc1c865903",
       "version_major": 2,
       "version_minor": 0
      },
      "text/plain": [
       "st/NCBI169.h5ad:   0%|          | 0.00/44.3M [00:00<?, ?B/s]"
      ]
     },
     "metadata": {},
     "output_type": "display_data"
    },
    {
     "data": {
      "application/vnd.jupyter.widget-view+json": {
       "model_id": "30fd011661f0427da0c7f35373694d2b",
       "version_major": 2,
       "version_minor": 0
      },
      "text/plain": [
       "st/NCBI17.h5ad:   0%|          | 0.00/34.7M [00:00<?, ?B/s]"
      ]
     },
     "metadata": {},
     "output_type": "display_data"
    },
    {
     "data": {
      "application/vnd.jupyter.widget-view+json": {
       "model_id": "a54ceec2811f4ca693692834beb127ef",
       "version_major": 2,
       "version_minor": 0
      },
      "text/plain": [
       "st/NCBI170.h5ad:   0%|          | 0.00/40.6M [00:00<?, ?B/s]"
      ]
     },
     "metadata": {},
     "output_type": "display_data"
    },
    {
     "data": {
      "application/vnd.jupyter.widget-view+json": {
       "model_id": "a69eb5512582441196b25239d1b58be1",
       "version_major": 2,
       "version_minor": 0
      },
      "text/plain": [
       "st/NCBI171.h5ad:   0%|          | 0.00/36.1M [00:00<?, ?B/s]"
      ]
     },
     "metadata": {},
     "output_type": "display_data"
    },
    {
     "data": {
      "application/vnd.jupyter.widget-view+json": {
       "model_id": "98b74da28e934f579a080d161400bb77",
       "version_major": 2,
       "version_minor": 0
      },
      "text/plain": [
       "st/NCBI173.h5ad:   0%|          | 0.00/37.8M [00:00<?, ?B/s]"
      ]
     },
     "metadata": {},
     "output_type": "display_data"
    },
    {
     "data": {
      "application/vnd.jupyter.widget-view+json": {
       "model_id": "2809d31b2a5642cab9c2f48a70ace640",
       "version_major": 2,
       "version_minor": 0
      },
      "text/plain": [
       "st/NCBI172.h5ad:   0%|          | 0.00/28.8M [00:00<?, ?B/s]"
      ]
     },
     "metadata": {},
     "output_type": "display_data"
    },
    {
     "data": {
      "application/vnd.jupyter.widget-view+json": {
       "model_id": "c7e184c85d914f14931bda12f357ccfd",
       "version_major": 2,
       "version_minor": 0
      },
      "text/plain": [
       "st/NCBI174.h5ad:   0%|          | 0.00/32.0M [00:00<?, ?B/s]"
      ]
     },
     "metadata": {},
     "output_type": "display_data"
    },
    {
     "data": {
      "application/vnd.jupyter.widget-view+json": {
       "model_id": "f960699bbd9343609525cce2324acc67",
       "version_major": 2,
       "version_minor": 0
      },
      "text/plain": [
       "st/NCBI175.h5ad:   0%|          | 0.00/30.3M [00:00<?, ?B/s]"
      ]
     },
     "metadata": {},
     "output_type": "display_data"
    },
    {
     "data": {
      "application/vnd.jupyter.widget-view+json": {
       "model_id": "1d2e69f580174c37b97ac1186021846f",
       "version_major": 2,
       "version_minor": 0
      },
      "text/plain": [
       "st/NCBI176.h5ad:   0%|          | 0.00/41.4M [00:00<?, ?B/s]"
      ]
     },
     "metadata": {},
     "output_type": "display_data"
    },
    {
     "data": {
      "application/vnd.jupyter.widget-view+json": {
       "model_id": "e96a20bcfd394406bcfb9b0a7a49f501",
       "version_major": 2,
       "version_minor": 0
      },
      "text/plain": [
       "st/NCBI177.h5ad:   0%|          | 0.00/42.9M [00:00<?, ?B/s]"
      ]
     },
     "metadata": {},
     "output_type": "display_data"
    },
    {
     "data": {
      "application/vnd.jupyter.widget-view+json": {
       "model_id": "bd76bd036fb14b37b1bb847efbc321c8",
       "version_major": 2,
       "version_minor": 0
      },
      "text/plain": [
       "st/NCBI178.h5ad:   0%|          | 0.00/49.0M [00:00<?, ?B/s]"
      ]
     },
     "metadata": {},
     "output_type": "display_data"
    },
    {
     "data": {
      "application/vnd.jupyter.widget-view+json": {
       "model_id": "ec85198af38148cdbdaff7391f928301",
       "version_major": 2,
       "version_minor": 0
      },
      "text/plain": [
       "st/NCBI18.h5ad:   0%|          | 0.00/32.1M [00:00<?, ?B/s]"
      ]
     },
     "metadata": {},
     "output_type": "display_data"
    },
    {
     "data": {
      "application/vnd.jupyter.widget-view+json": {
       "model_id": "b4ef6ef51e504b04a31360277d89141c",
       "version_major": 2,
       "version_minor": 0
      },
      "text/plain": [
       "st/NCBI179.h5ad:   0%|          | 0.00/35.6M [00:00<?, ?B/s]"
      ]
     },
     "metadata": {},
     "output_type": "display_data"
    },
    {
     "data": {
      "application/vnd.jupyter.widget-view+json": {
       "model_id": "7f0c846e51bf46c5bef28cbeb106b5ae",
       "version_major": 2,
       "version_minor": 0
      },
      "text/plain": [
       "st/NCBI180.h5ad:   0%|          | 0.00/42.7M [00:00<?, ?B/s]"
      ]
     },
     "metadata": {},
     "output_type": "display_data"
    },
    {
     "data": {
      "application/vnd.jupyter.widget-view+json": {
       "model_id": "5b22d7f5c63d450ca19b03f2c15f8ed5",
       "version_major": 2,
       "version_minor": 0
      },
      "text/plain": [
       "st/NCBI181.h5ad:   0%|          | 0.00/44.5M [00:00<?, ?B/s]"
      ]
     },
     "metadata": {},
     "output_type": "display_data"
    },
    {
     "data": {
      "application/vnd.jupyter.widget-view+json": {
       "model_id": "e87cb4dc335842159f1c65fd81b91617",
       "version_major": 2,
       "version_minor": 0
      },
      "text/plain": [
       "st/NCBI182.h5ad:   0%|          | 0.00/42.7M [00:00<?, ?B/s]"
      ]
     },
     "metadata": {},
     "output_type": "display_data"
    },
    {
     "data": {
      "application/vnd.jupyter.widget-view+json": {
       "model_id": "757996f9a7b1450fa53dc4ba8d9d6912",
       "version_major": 2,
       "version_minor": 0
      },
      "text/plain": [
       "st/NCBI183.h5ad:   0%|          | 0.00/32.5M [00:00<?, ?B/s]"
      ]
     },
     "metadata": {},
     "output_type": "display_data"
    },
    {
     "data": {
      "application/vnd.jupyter.widget-view+json": {
       "model_id": "9d445b635cc04982b3e83bd606f6205e",
       "version_major": 2,
       "version_minor": 0
      },
      "text/plain": [
       "st/NCBI184.h5ad:   0%|          | 0.00/49.2M [00:00<?, ?B/s]"
      ]
     },
     "metadata": {},
     "output_type": "display_data"
    },
    {
     "data": {
      "application/vnd.jupyter.widget-view+json": {
       "model_id": "6341ed4a9bf641abb9c99407266175d1",
       "version_major": 2,
       "version_minor": 0
      },
      "text/plain": [
       "st/NCBI185.h5ad:   0%|          | 0.00/28.6M [00:00<?, ?B/s]"
      ]
     },
     "metadata": {},
     "output_type": "display_data"
    },
    {
     "data": {
      "application/vnd.jupyter.widget-view+json": {
       "model_id": "3188085e3579456d9713ecd906f98a1d",
       "version_major": 2,
       "version_minor": 0
      },
      "text/plain": [
       "st/NCBI186.h5ad:   0%|          | 0.00/30.0M [00:00<?, ?B/s]"
      ]
     },
     "metadata": {},
     "output_type": "display_data"
    },
    {
     "data": {
      "application/vnd.jupyter.widget-view+json": {
       "model_id": "f1020f249e4a4c64b7c7b06d3f9069d3",
       "version_major": 2,
       "version_minor": 0
      },
      "text/plain": [
       "st/NCBI187.h5ad:   0%|          | 0.00/33.6M [00:00<?, ?B/s]"
      ]
     },
     "metadata": {},
     "output_type": "display_data"
    },
    {
     "data": {
      "application/vnd.jupyter.widget-view+json": {
       "model_id": "735cb89e466b465a9dad918271b146d0",
       "version_major": 2,
       "version_minor": 0
      },
      "text/plain": [
       "st/NCBI188.h5ad:   0%|          | 0.00/25.7M [00:00<?, ?B/s]"
      ]
     },
     "metadata": {},
     "output_type": "display_data"
    },
    {
     "data": {
      "application/vnd.jupyter.widget-view+json": {
       "model_id": "cbaafb19597b4818bd5cd6dde09d36a1",
       "version_major": 2,
       "version_minor": 0
      },
      "text/plain": [
       "st/NCBI189.h5ad:   0%|          | 0.00/37.0M [00:00<?, ?B/s]"
      ]
     },
     "metadata": {},
     "output_type": "display_data"
    },
    {
     "data": {
      "application/vnd.jupyter.widget-view+json": {
       "model_id": "a1e716179d47471891fa3686d9e7cbe9",
       "version_major": 2,
       "version_minor": 0
      },
      "text/plain": [
       "st/NCBI19.h5ad:   0%|          | 0.00/21.4M [00:00<?, ?B/s]"
      ]
     },
     "metadata": {},
     "output_type": "display_data"
    },
    {
     "data": {
      "application/vnd.jupyter.widget-view+json": {
       "model_id": "6f15b976fcc1486ab3adf87865411388",
       "version_major": 2,
       "version_minor": 0
      },
      "text/plain": [
       "st/NCBI190.h5ad:   0%|          | 0.00/37.8M [00:00<?, ?B/s]"
      ]
     },
     "metadata": {},
     "output_type": "display_data"
    },
    {
     "data": {
      "application/vnd.jupyter.widget-view+json": {
       "model_id": "f9932c3588f9480089cc1dc1e96b1935",
       "version_major": 2,
       "version_minor": 0
      },
      "text/plain": [
       "st/NCBI191.h5ad:   0%|          | 0.00/35.6M [00:00<?, ?B/s]"
      ]
     },
     "metadata": {},
     "output_type": "display_data"
    },
    {
     "data": {
      "application/vnd.jupyter.widget-view+json": {
       "model_id": "f6d15d95629c46c9b54790e8179afcf9",
       "version_major": 2,
       "version_minor": 0
      },
      "text/plain": [
       "st/NCBI192.h5ad:   0%|          | 0.00/34.4M [00:00<?, ?B/s]"
      ]
     },
     "metadata": {},
     "output_type": "display_data"
    },
    {
     "data": {
      "application/vnd.jupyter.widget-view+json": {
       "model_id": "33e25b054728458db7f9c00d8030684c",
       "version_major": 2,
       "version_minor": 0
      },
      "text/plain": [
       "st/NCBI193.h5ad:   0%|          | 0.00/36.4M [00:00<?, ?B/s]"
      ]
     },
     "metadata": {},
     "output_type": "display_data"
    },
    {
     "data": {
      "application/vnd.jupyter.widget-view+json": {
       "model_id": "803bb6b7d20e408aa4c4360da9011f85",
       "version_major": 2,
       "version_minor": 0
      },
      "text/plain": [
       "st/NCBI195.h5ad:   0%|          | 0.00/41.7M [00:00<?, ?B/s]"
      ]
     },
     "metadata": {},
     "output_type": "display_data"
    },
    {
     "data": {
      "application/vnd.jupyter.widget-view+json": {
       "model_id": "957d7c15464943a3883b12ba1dbb962a",
       "version_major": 2,
       "version_minor": 0
      },
      "text/plain": [
       "st/NCBI194.h5ad:   0%|          | 0.00/39.8M [00:00<?, ?B/s]"
      ]
     },
     "metadata": {},
     "output_type": "display_data"
    },
    {
     "data": {
      "application/vnd.jupyter.widget-view+json": {
       "model_id": "5009c168b329446e9d4fd2ff5ecda293",
       "version_major": 2,
       "version_minor": 0
      },
      "text/plain": [
       "st/NCBI197.h5ad:   0%|          | 0.00/38.5M [00:00<?, ?B/s]"
      ]
     },
     "metadata": {},
     "output_type": "display_data"
    },
    {
     "data": {
      "application/vnd.jupyter.widget-view+json": {
       "model_id": "610dbfbbf4704d8f805252625ebee959",
       "version_major": 2,
       "version_minor": 0
      },
      "text/plain": [
       "st/NCBI196.h5ad:   0%|          | 0.00/36.2M [00:00<?, ?B/s]"
      ]
     },
     "metadata": {},
     "output_type": "display_data"
    },
    {
     "data": {
      "application/vnd.jupyter.widget-view+json": {
       "model_id": "7e8f5a445e3548a48e6feb4918b32821",
       "version_major": 2,
       "version_minor": 0
      },
      "text/plain": [
       "st/NCBI198.h5ad:   0%|          | 0.00/40.2M [00:00<?, ?B/s]"
      ]
     },
     "metadata": {},
     "output_type": "display_data"
    },
    {
     "data": {
      "application/vnd.jupyter.widget-view+json": {
       "model_id": "35dcbf4ed4204867b5de4a762c455ab1",
       "version_major": 2,
       "version_minor": 0
      },
      "text/plain": [
       "st/NCBI199.h5ad:   0%|          | 0.00/34.9M [00:00<?, ?B/s]"
      ]
     },
     "metadata": {},
     "output_type": "display_data"
    },
    {
     "data": {
      "application/vnd.jupyter.widget-view+json": {
       "model_id": "ef51048fc6274af093d879ffc0c40419",
       "version_major": 2,
       "version_minor": 0
      },
      "text/plain": [
       "st/NCBI2.h5ad:   0%|          | 0.00/63.9M [00:00<?, ?B/s]"
      ]
     },
     "metadata": {},
     "output_type": "display_data"
    },
    {
     "data": {
      "application/vnd.jupyter.widget-view+json": {
       "model_id": "26d9db01180d47c783b17ec623469f12",
       "version_major": 2,
       "version_minor": 0
      },
      "text/plain": [
       "st/NCBI20.h5ad:   0%|          | 0.00/32.2M [00:00<?, ?B/s]"
      ]
     },
     "metadata": {},
     "output_type": "display_data"
    },
    {
     "data": {
      "application/vnd.jupyter.widget-view+json": {
       "model_id": "d7c8f40f62004bb08550a303bb8c8a0e",
       "version_major": 2,
       "version_minor": 0
      },
      "text/plain": [
       "st/NCBI200.h5ad:   0%|          | 0.00/32.5M [00:00<?, ?B/s]"
      ]
     },
     "metadata": {},
     "output_type": "display_data"
    },
    {
     "data": {
      "application/vnd.jupyter.widget-view+json": {
       "model_id": "7c7115cffb2a4acbba900b3fa910afea",
       "version_major": 2,
       "version_minor": 0
      },
      "text/plain": [
       "st/NCBI201.h5ad:   0%|          | 0.00/39.3M [00:00<?, ?B/s]"
      ]
     },
     "metadata": {},
     "output_type": "display_data"
    },
    {
     "data": {
      "application/vnd.jupyter.widget-view+json": {
       "model_id": "b9f987749e6343cfa9defb934f2c7fd4",
       "version_major": 2,
       "version_minor": 0
      },
      "text/plain": [
       "st/NCBI202.h5ad:   0%|          | 0.00/28.8M [00:00<?, ?B/s]"
      ]
     },
     "metadata": {},
     "output_type": "display_data"
    },
    {
     "data": {
      "application/vnd.jupyter.widget-view+json": {
       "model_id": "2e49b7be669f44a5a7c657f05fa200fe",
       "version_major": 2,
       "version_minor": 0
      },
      "text/plain": [
       "st/NCBI203.h5ad:   0%|          | 0.00/36.2M [00:00<?, ?B/s]"
      ]
     },
     "metadata": {},
     "output_type": "display_data"
    },
    {
     "data": {
      "application/vnd.jupyter.widget-view+json": {
       "model_id": "9880103d5bc648fa81ac6a15dc080041",
       "version_major": 2,
       "version_minor": 0
      },
      "text/plain": [
       "st/NCBI204.h5ad:   0%|          | 0.00/36.0M [00:00<?, ?B/s]"
      ]
     },
     "metadata": {},
     "output_type": "display_data"
    },
    {
     "data": {
      "application/vnd.jupyter.widget-view+json": {
       "model_id": "237e8b0fd37549479dbbf87fb70f5e3c",
       "version_major": 2,
       "version_minor": 0
      },
      "text/plain": [
       "st/NCBI205.h5ad:   0%|          | 0.00/45.4M [00:00<?, ?B/s]"
      ]
     },
     "metadata": {},
     "output_type": "display_data"
    },
    {
     "data": {
      "application/vnd.jupyter.widget-view+json": {
       "model_id": "0d2e317d209a42e7aee6b8aa59896052",
       "version_major": 2,
       "version_minor": 0
      },
      "text/plain": [
       "st/NCBI206.h5ad:   0%|          | 0.00/37.8M [00:00<?, ?B/s]"
      ]
     },
     "metadata": {},
     "output_type": "display_data"
    },
    {
     "data": {
      "application/vnd.jupyter.widget-view+json": {
       "model_id": "e249ab92e5dc4d93b6cdfbdf4dfa3195",
       "version_major": 2,
       "version_minor": 0
      },
      "text/plain": [
       "st/NCBI207.h5ad:   0%|          | 0.00/41.3M [00:00<?, ?B/s]"
      ]
     },
     "metadata": {},
     "output_type": "display_data"
    },
    {
     "data": {
      "application/vnd.jupyter.widget-view+json": {
       "model_id": "024dae52ed2745fc88875a69b5abd2d0",
       "version_major": 2,
       "version_minor": 0
      },
      "text/plain": [
       "st/NCBI21.h5ad:   0%|          | 0.00/29.1M [00:00<?, ?B/s]"
      ]
     },
     "metadata": {},
     "output_type": "display_data"
    },
    {
     "data": {
      "application/vnd.jupyter.widget-view+json": {
       "model_id": "8cb618cdcddc4a35bd6eb4c3084be40e",
       "version_major": 2,
       "version_minor": 0
      },
      "text/plain": [
       "st/NCBI208.h5ad:   0%|          | 0.00/32.2M [00:00<?, ?B/s]"
      ]
     },
     "metadata": {},
     "output_type": "display_data"
    },
    {
     "data": {
      "application/vnd.jupyter.widget-view+json": {
       "model_id": "e059c0060d5144f0b6e65ed2c9d23dfd",
       "version_major": 2,
       "version_minor": 0
      },
      "text/plain": [
       "st/NCBI210.h5ad:   0%|          | 0.00/41.7M [00:00<?, ?B/s]"
      ]
     },
     "metadata": {},
     "output_type": "display_data"
    },
    {
     "data": {
      "application/vnd.jupyter.widget-view+json": {
       "model_id": "0526a71c20bb4e13a0314f96989e1021",
       "version_major": 2,
       "version_minor": 0
      },
      "text/plain": [
       "st/NCBI209.h5ad:   0%|          | 0.00/40.6M [00:00<?, ?B/s]"
      ]
     },
     "metadata": {},
     "output_type": "display_data"
    },
    {
     "data": {
      "application/vnd.jupyter.widget-view+json": {
       "model_id": "aade07286fa8441aa467b8dac0eaa7c4",
       "version_major": 2,
       "version_minor": 0
      },
      "text/plain": [
       "st/NCBI211.h5ad:   0%|          | 0.00/46.6M [00:00<?, ?B/s]"
      ]
     },
     "metadata": {},
     "output_type": "display_data"
    },
    {
     "data": {
      "application/vnd.jupyter.widget-view+json": {
       "model_id": "c6d0b1d8dbd5463dba5992065832e38d",
       "version_major": 2,
       "version_minor": 0
      },
      "text/plain": [
       "st/NCBI212.h5ad:   0%|          | 0.00/39.9M [00:00<?, ?B/s]"
      ]
     },
     "metadata": {},
     "output_type": "display_data"
    },
    {
     "data": {
      "application/vnd.jupyter.widget-view+json": {
       "model_id": "54c514b7f8d84174b66806807ffd4749",
       "version_major": 2,
       "version_minor": 0
      },
      "text/plain": [
       "st/NCBI214.h5ad:   0%|          | 0.00/44.3M [00:00<?, ?B/s]"
      ]
     },
     "metadata": {},
     "output_type": "display_data"
    },
    {
     "data": {
      "application/vnd.jupyter.widget-view+json": {
       "model_id": "53c9400a4cc742bdbe8262d749b8034e",
       "version_major": 2,
       "version_minor": 0
      },
      "text/plain": [
       "st/NCBI213.h5ad:   0%|          | 0.00/35.9M [00:00<?, ?B/s]"
      ]
     },
     "metadata": {},
     "output_type": "display_data"
    },
    {
     "data": {
      "application/vnd.jupyter.widget-view+json": {
       "model_id": "5c1f90826aa54c45bfa5689775297078",
       "version_major": 2,
       "version_minor": 0
      },
      "text/plain": [
       "st/NCBI215.h5ad:   0%|          | 0.00/38.3M [00:00<?, ?B/s]"
      ]
     },
     "metadata": {},
     "output_type": "display_data"
    },
    {
     "data": {
      "application/vnd.jupyter.widget-view+json": {
       "model_id": "b00e0782397a4486bbe1a9983a6d67c4",
       "version_major": 2,
       "version_minor": 0
      },
      "text/plain": [
       "st/NCBI218.h5ad:   0%|          | 0.00/45.8M [00:00<?, ?B/s]"
      ]
     },
     "metadata": {},
     "output_type": "display_data"
    },
    {
     "data": {
      "application/vnd.jupyter.widget-view+json": {
       "model_id": "e02d3372f92e4e17a36bf175bf25de13",
       "version_major": 2,
       "version_minor": 0
      },
      "text/plain": [
       "st/NCBI217.h5ad:   0%|          | 0.00/44.7M [00:00<?, ?B/s]"
      ]
     },
     "metadata": {},
     "output_type": "display_data"
    },
    {
     "data": {
      "application/vnd.jupyter.widget-view+json": {
       "model_id": "3f526982556244eaaa78bfb22ef1b0b2",
       "version_major": 2,
       "version_minor": 0
      },
      "text/plain": [
       "st/NCBI216.h5ad:   0%|          | 0.00/39.9M [00:00<?, ?B/s]"
      ]
     },
     "metadata": {},
     "output_type": "display_data"
    },
    {
     "data": {
      "application/vnd.jupyter.widget-view+json": {
       "model_id": "f36e925012a8431096c7bf0d63cc0ecc",
       "version_major": 2,
       "version_minor": 0
      },
      "text/plain": [
       "st/NCBI219.h5ad:   0%|          | 0.00/32.4M [00:00<?, ?B/s]"
      ]
     },
     "metadata": {},
     "output_type": "display_data"
    },
    {
     "data": {
      "application/vnd.jupyter.widget-view+json": {
       "model_id": "6a9c4e285fa8492397240b0290695eae",
       "version_major": 2,
       "version_minor": 0
      },
      "text/plain": [
       "st/NCBI22.h5ad:   0%|          | 0.00/41.3M [00:00<?, ?B/s]"
      ]
     },
     "metadata": {},
     "output_type": "display_data"
    },
    {
     "data": {
      "application/vnd.jupyter.widget-view+json": {
       "model_id": "a256452e6e014bc499a26dfb3a91e01b",
       "version_major": 2,
       "version_minor": 0
      },
      "text/plain": [
       "st/NCBI220.h5ad:   0%|          | 0.00/28.5M [00:00<?, ?B/s]"
      ]
     },
     "metadata": {},
     "output_type": "display_data"
    },
    {
     "data": {
      "application/vnd.jupyter.widget-view+json": {
       "model_id": "72758da209db4d2ba7e6adfe6d68e067",
       "version_major": 2,
       "version_minor": 0
      },
      "text/plain": [
       "st/NCBI221.h5ad:   0%|          | 0.00/44.2M [00:00<?, ?B/s]"
      ]
     },
     "metadata": {},
     "output_type": "display_data"
    },
    {
     "data": {
      "application/vnd.jupyter.widget-view+json": {
       "model_id": "0571460178ac456b836e6d7161829630",
       "version_major": 2,
       "version_minor": 0
      },
      "text/plain": [
       "st/NCBI222.h5ad:   0%|          | 0.00/39.9M [00:00<?, ?B/s]"
      ]
     },
     "metadata": {},
     "output_type": "display_data"
    },
    {
     "data": {
      "application/vnd.jupyter.widget-view+json": {
       "model_id": "44aa09ab32644491b9d66963e02d2450",
       "version_major": 2,
       "version_minor": 0
      },
      "text/plain": [
       "st/NCBI223.h5ad:   0%|          | 0.00/30.4M [00:00<?, ?B/s]"
      ]
     },
     "metadata": {},
     "output_type": "display_data"
    },
    {
     "data": {
      "application/vnd.jupyter.widget-view+json": {
       "model_id": "f743658d0cd74154b13db7c226cd43b8",
       "version_major": 2,
       "version_minor": 0
      },
      "text/plain": [
       "st/NCBI224.h5ad:   0%|          | 0.00/42.0M [00:00<?, ?B/s]"
      ]
     },
     "metadata": {},
     "output_type": "display_data"
    },
    {
     "data": {
      "application/vnd.jupyter.widget-view+json": {
       "model_id": "772928f2a56a4b7ab6a1b86a4b482a40",
       "version_major": 2,
       "version_minor": 0
      },
      "text/plain": [
       "st/NCBI225.h5ad:   0%|          | 0.00/41.3M [00:00<?, ?B/s]"
      ]
     },
     "metadata": {},
     "output_type": "display_data"
    },
    {
     "data": {
      "application/vnd.jupyter.widget-view+json": {
       "model_id": "a9dea3e3dfd240ab9b03f5c856a7f1b5",
       "version_major": 2,
       "version_minor": 0
      },
      "text/plain": [
       "st/NCBI226.h5ad:   0%|          | 0.00/30.8M [00:00<?, ?B/s]"
      ]
     },
     "metadata": {},
     "output_type": "display_data"
    },
    {
     "data": {
      "application/vnd.jupyter.widget-view+json": {
       "model_id": "2ebebc0ad3e9455dac72e1414eb3aa40",
       "version_major": 2,
       "version_minor": 0
      },
      "text/plain": [
       "st/NCBI227.h5ad:   0%|          | 0.00/39.0M [00:00<?, ?B/s]"
      ]
     },
     "metadata": {},
     "output_type": "display_data"
    },
    {
     "data": {
      "application/vnd.jupyter.widget-view+json": {
       "model_id": "67534721d9ce4764be53871720b37e4d",
       "version_major": 2,
       "version_minor": 0
      },
      "text/plain": [
       "st/NCBI228.h5ad:   0%|          | 0.00/36.7M [00:00<?, ?B/s]"
      ]
     },
     "metadata": {},
     "output_type": "display_data"
    },
    {
     "data": {
      "application/vnd.jupyter.widget-view+json": {
       "model_id": "e87d12ff5fc74508b3585cbed80e15b8",
       "version_major": 2,
       "version_minor": 0
      },
      "text/plain": [
       "st/NCBI229.h5ad:   0%|          | 0.00/35.2M [00:00<?, ?B/s]"
      ]
     },
     "metadata": {},
     "output_type": "display_data"
    },
    {
     "data": {
      "application/vnd.jupyter.widget-view+json": {
       "model_id": "6d60f22e5b114454bd914c32314ebecd",
       "version_major": 2,
       "version_minor": 0
      },
      "text/plain": [
       "st/NCBI23.h5ad:   0%|          | 0.00/38.4M [00:00<?, ?B/s]"
      ]
     },
     "metadata": {},
     "output_type": "display_data"
    },
    {
     "data": {
      "application/vnd.jupyter.widget-view+json": {
       "model_id": "220354d8b6aa4b35abcdd84033e45692",
       "version_major": 2,
       "version_minor": 0
      },
      "text/plain": [
       "st/NCBI230.h5ad:   0%|          | 0.00/44.1M [00:00<?, ?B/s]"
      ]
     },
     "metadata": {},
     "output_type": "display_data"
    },
    {
     "data": {
      "application/vnd.jupyter.widget-view+json": {
       "model_id": "3e6cc5a429974950a8acd805e7fb3147",
       "version_major": 2,
       "version_minor": 0
      },
      "text/plain": [
       "st/NCBI231.h5ad:   0%|          | 0.00/36.4M [00:00<?, ?B/s]"
      ]
     },
     "metadata": {},
     "output_type": "display_data"
    },
    {
     "data": {
      "application/vnd.jupyter.widget-view+json": {
       "model_id": "0ed0be6327d2421982611c6250340867",
       "version_major": 2,
       "version_minor": 0
      },
      "text/plain": [
       "st/NCBI232.h5ad:   0%|          | 0.00/34.4M [00:00<?, ?B/s]"
      ]
     },
     "metadata": {},
     "output_type": "display_data"
    },
    {
     "data": {
      "application/vnd.jupyter.widget-view+json": {
       "model_id": "3c9fb666a841499e8ae70c779153935f",
       "version_major": 2,
       "version_minor": 0
      },
      "text/plain": [
       "st/NCBI233.h5ad:   0%|          | 0.00/34.8M [00:00<?, ?B/s]"
      ]
     },
     "metadata": {},
     "output_type": "display_data"
    },
    {
     "data": {
      "application/vnd.jupyter.widget-view+json": {
       "model_id": "84a7f2caeea5480b92ec0e60cdb43ee2",
       "version_major": 2,
       "version_minor": 0
      },
      "text/plain": [
       "st/NCBI234.h5ad:   0%|          | 0.00/38.9M [00:00<?, ?B/s]"
      ]
     },
     "metadata": {},
     "output_type": "display_data"
    },
    {
     "data": {
      "application/vnd.jupyter.widget-view+json": {
       "model_id": "18a5db16425a46ea867209b27982c7fb",
       "version_major": 2,
       "version_minor": 0
      },
      "text/plain": [
       "st/NCBI235.h5ad:   0%|          | 0.00/28.3M [00:00<?, ?B/s]"
      ]
     },
     "metadata": {},
     "output_type": "display_data"
    },
    {
     "data": {
      "application/vnd.jupyter.widget-view+json": {
       "model_id": "3773a67359b04fbe8ec77a95f93aef43",
       "version_major": 2,
       "version_minor": 0
      },
      "text/plain": [
       "st/NCBI236.h5ad:   0%|          | 0.00/37.8M [00:00<?, ?B/s]"
      ]
     },
     "metadata": {},
     "output_type": "display_data"
    },
    {
     "data": {
      "application/vnd.jupyter.widget-view+json": {
       "model_id": "4266ec924791478b8e73412843054b39",
       "version_major": 2,
       "version_minor": 0
      },
      "text/plain": [
       "st/NCBI237.h5ad:   0%|          | 0.00/36.2M [00:00<?, ?B/s]"
      ]
     },
     "metadata": {},
     "output_type": "display_data"
    },
    {
     "data": {
      "application/vnd.jupyter.widget-view+json": {
       "model_id": "d52384ee6e8544439d8911ab91fceb56",
       "version_major": 2,
       "version_minor": 0
      },
      "text/plain": [
       "st/NCBI238.h5ad:   0%|          | 0.00/33.5M [00:00<?, ?B/s]"
      ]
     },
     "metadata": {},
     "output_type": "display_data"
    },
    {
     "data": {
      "application/vnd.jupyter.widget-view+json": {
       "model_id": "a1acf624f06b448fa897f0e1de8edc5b",
       "version_major": 2,
       "version_minor": 0
      },
      "text/plain": [
       "st/NCBI239.h5ad:   0%|          | 0.00/29.7M [00:00<?, ?B/s]"
      ]
     },
     "metadata": {},
     "output_type": "display_data"
    },
    {
     "data": {
      "application/vnd.jupyter.widget-view+json": {
       "model_id": "8d00ce537b19466cad14075eb4126947",
       "version_major": 2,
       "version_minor": 0
      },
      "text/plain": [
       "st/NCBI24.h5ad:   0%|          | 0.00/35.0M [00:00<?, ?B/s]"
      ]
     },
     "metadata": {},
     "output_type": "display_data"
    },
    {
     "data": {
      "application/vnd.jupyter.widget-view+json": {
       "model_id": "7fb48835e61b4a3b9b1e0627c47d416d",
       "version_major": 2,
       "version_minor": 0
      },
      "text/plain": [
       "st/NCBI240.h5ad:   0%|          | 0.00/33.6M [00:00<?, ?B/s]"
      ]
     },
     "metadata": {},
     "output_type": "display_data"
    },
    {
     "data": {
      "application/vnd.jupyter.widget-view+json": {
       "model_id": "c189ddf9912048b1a193ae1e7cec109e",
       "version_major": 2,
       "version_minor": 0
      },
      "text/plain": [
       "st/NCBI241.h5ad:   0%|          | 0.00/30.7M [00:00<?, ?B/s]"
      ]
     },
     "metadata": {},
     "output_type": "display_data"
    },
    {
     "data": {
      "application/vnd.jupyter.widget-view+json": {
       "model_id": "22be4552bb5b47d8930c4207a0a6cce3",
       "version_major": 2,
       "version_minor": 0
      },
      "text/plain": [
       "st/NCBI242.h5ad:   0%|          | 0.00/30.0M [00:00<?, ?B/s]"
      ]
     },
     "metadata": {},
     "output_type": "display_data"
    },
    {
     "data": {
      "application/vnd.jupyter.widget-view+json": {
       "model_id": "9c0cf3a31b374124970b13b033e05bf8",
       "version_major": 2,
       "version_minor": 0
      },
      "text/plain": [
       "st/NCBI243.h5ad:   0%|          | 0.00/44.7M [00:00<?, ?B/s]"
      ]
     },
     "metadata": {},
     "output_type": "display_data"
    },
    {
     "data": {
      "application/vnd.jupyter.widget-view+json": {
       "model_id": "d2328f3f16cf4fa09b1187b9bcab2887",
       "version_major": 2,
       "version_minor": 0
      },
      "text/plain": [
       "st/NCBI244.h5ad:   0%|          | 0.00/34.5M [00:00<?, ?B/s]"
      ]
     },
     "metadata": {},
     "output_type": "display_data"
    },
    {
     "data": {
      "application/vnd.jupyter.widget-view+json": {
       "model_id": "02ff0e4a6dfa454d9d75cecb03c43b3a",
       "version_major": 2,
       "version_minor": 0
      },
      "text/plain": [
       "st/NCBI245.h5ad:   0%|          | 0.00/34.9M [00:00<?, ?B/s]"
      ]
     },
     "metadata": {},
     "output_type": "display_data"
    },
    {
     "data": {
      "application/vnd.jupyter.widget-view+json": {
       "model_id": "12e76210faa54d2a9085728420d19c0d",
       "version_major": 2,
       "version_minor": 0
      },
      "text/plain": [
       "st/NCBI246.h5ad:   0%|          | 0.00/29.6M [00:00<?, ?B/s]"
      ]
     },
     "metadata": {},
     "output_type": "display_data"
    },
    {
     "data": {
      "application/vnd.jupyter.widget-view+json": {
       "model_id": "0134a95342da41c6ab411f219e406754",
       "version_major": 2,
       "version_minor": 0
      },
      "text/plain": [
       "st/NCBI248.h5ad:   0%|          | 0.00/22.1M [00:00<?, ?B/s]"
      ]
     },
     "metadata": {},
     "output_type": "display_data"
    },
    {
     "data": {
      "application/vnd.jupyter.widget-view+json": {
       "model_id": "c7c3517e52054211899ced5f62f3f5b5",
       "version_major": 2,
       "version_minor": 0
      },
      "text/plain": [
       "st/NCBI247.h5ad:   0%|          | 0.00/38.6M [00:00<?, ?B/s]"
      ]
     },
     "metadata": {},
     "output_type": "display_data"
    },
    {
     "data": {
      "application/vnd.jupyter.widget-view+json": {
       "model_id": "9634013f6f7e4873996716d40594358b",
       "version_major": 2,
       "version_minor": 0
      },
      "text/plain": [
       "st/NCBI249.h5ad:   0%|          | 0.00/19.2M [00:00<?, ?B/s]"
      ]
     },
     "metadata": {},
     "output_type": "display_data"
    },
    {
     "data": {
      "application/vnd.jupyter.widget-view+json": {
       "model_id": "db6da926701b4390a2d8e0b8b85b0462",
       "version_major": 2,
       "version_minor": 0
      },
      "text/plain": [
       "st/NCBI25.h5ad:   0%|          | 0.00/34.8M [00:00<?, ?B/s]"
      ]
     },
     "metadata": {},
     "output_type": "display_data"
    },
    {
     "data": {
      "application/vnd.jupyter.widget-view+json": {
       "model_id": "fea33c0cde434680a74859f12f56045f",
       "version_major": 2,
       "version_minor": 0
      },
      "text/plain": [
       "st/NCBI250.h5ad:   0%|          | 0.00/17.7M [00:00<?, ?B/s]"
      ]
     },
     "metadata": {},
     "output_type": "display_data"
    },
    {
     "data": {
      "application/vnd.jupyter.widget-view+json": {
       "model_id": "2f0ce4580c004da090b5b2e5c9f78381",
       "version_major": 2,
       "version_minor": 0
      },
      "text/plain": [
       "st/NCBI251.h5ad:   0%|          | 0.00/30.0M [00:00<?, ?B/s]"
      ]
     },
     "metadata": {},
     "output_type": "display_data"
    },
    {
     "data": {
      "application/vnd.jupyter.widget-view+json": {
       "model_id": "3a41998ebaad420fad0cf479c70d1932",
       "version_major": 2,
       "version_minor": 0
      },
      "text/plain": [
       "st/NCBI252.h5ad:   0%|          | 0.00/28.6M [00:00<?, ?B/s]"
      ]
     },
     "metadata": {},
     "output_type": "display_data"
    },
    {
     "data": {
      "application/vnd.jupyter.widget-view+json": {
       "model_id": "a60312e33e484f62ac7a8fcf5cec5471",
       "version_major": 2,
       "version_minor": 0
      },
      "text/plain": [
       "st/NCBI253.h5ad:   0%|          | 0.00/30.4M [00:00<?, ?B/s]"
      ]
     },
     "metadata": {},
     "output_type": "display_data"
    },
    {
     "data": {
      "application/vnd.jupyter.widget-view+json": {
       "model_id": "24bbfc0c5e384a03be97e2d54f7e3a75",
       "version_major": 2,
       "version_minor": 0
      },
      "text/plain": [
       "st/NCBI254.h5ad:   0%|          | 0.00/33.7M [00:00<?, ?B/s]"
      ]
     },
     "metadata": {},
     "output_type": "display_data"
    },
    {
     "data": {
      "application/vnd.jupyter.widget-view+json": {
       "model_id": "8e2232630e0f4c00b823a8ac60d677bb",
       "version_major": 2,
       "version_minor": 0
      },
      "text/plain": [
       "st/NCBI257.h5ad:   0%|          | 0.00/42.8M [00:00<?, ?B/s]"
      ]
     },
     "metadata": {},
     "output_type": "display_data"
    },
    {
     "data": {
      "application/vnd.jupyter.widget-view+json": {
       "model_id": "d5c638956e9e470ba1692765330fe614",
       "version_major": 2,
       "version_minor": 0
      },
      "text/plain": [
       "st/NCBI255.h5ad:   0%|          | 0.00/32.2M [00:00<?, ?B/s]"
      ]
     },
     "metadata": {},
     "output_type": "display_data"
    },
    {
     "data": {
      "application/vnd.jupyter.widget-view+json": {
       "model_id": "8ee1cd75d96c413ca43aa12ad156137b",
       "version_major": 2,
       "version_minor": 0
      },
      "text/plain": [
       "st/NCBI256.h5ad:   0%|          | 0.00/39.7M [00:00<?, ?B/s]"
      ]
     },
     "metadata": {},
     "output_type": "display_data"
    },
    {
     "data": {
      "application/vnd.jupyter.widget-view+json": {
       "model_id": "1a71c05356bc430889f4c08a5d00d9b8",
       "version_major": 2,
       "version_minor": 0
      },
      "text/plain": [
       "st/NCBI258.h5ad:   0%|          | 0.00/46.7M [00:00<?, ?B/s]"
      ]
     },
     "metadata": {},
     "output_type": "display_data"
    },
    {
     "data": {
      "application/vnd.jupyter.widget-view+json": {
       "model_id": "651f8887faf9407d883cf90cafa6c292",
       "version_major": 2,
       "version_minor": 0
      },
      "text/plain": [
       "st/NCBI26.h5ad:   0%|          | 0.00/28.7M [00:00<?, ?B/s]"
      ]
     },
     "metadata": {},
     "output_type": "display_data"
    },
    {
     "data": {
      "application/vnd.jupyter.widget-view+json": {
       "model_id": "d598b59fb9cf4ba5861b360aaa403f16",
       "version_major": 2,
       "version_minor": 0
      },
      "text/plain": [
       "st/NCBI259.h5ad:   0%|          | 0.00/31.1M [00:00<?, ?B/s]"
      ]
     },
     "metadata": {},
     "output_type": "display_data"
    },
    {
     "data": {
      "application/vnd.jupyter.widget-view+json": {
       "model_id": "99f9ede2db234a8a86c3fa3c2267641f",
       "version_major": 2,
       "version_minor": 0
      },
      "text/plain": [
       "st/NCBI260.h5ad:   0%|          | 0.00/40.7M [00:00<?, ?B/s]"
      ]
     },
     "metadata": {},
     "output_type": "display_data"
    },
    {
     "data": {
      "application/vnd.jupyter.widget-view+json": {
       "model_id": "eea9b86ff56c4d4f976d2bdd3bf9c8a6",
       "version_major": 2,
       "version_minor": 0
      },
      "text/plain": [
       "st/NCBI262.h5ad:   0%|          | 0.00/34.3M [00:00<?, ?B/s]"
      ]
     },
     "metadata": {},
     "output_type": "display_data"
    },
    {
     "data": {
      "application/vnd.jupyter.widget-view+json": {
       "model_id": "131041734ae74978b4a819bc8b5c7278",
       "version_major": 2,
       "version_minor": 0
      },
      "text/plain": [
       "st/NCBI261.h5ad:   0%|          | 0.00/41.9M [00:00<?, ?B/s]"
      ]
     },
     "metadata": {},
     "output_type": "display_data"
    },
    {
     "data": {
      "application/vnd.jupyter.widget-view+json": {
       "model_id": "2d94654d49994b4c9fd921e6bfb0d1d1",
       "version_major": 2,
       "version_minor": 0
      },
      "text/plain": [
       "st/NCBI265.h5ad:   0%|          | 0.00/29.4M [00:00<?, ?B/s]"
      ]
     },
     "metadata": {},
     "output_type": "display_data"
    },
    {
     "data": {
      "application/vnd.jupyter.widget-view+json": {
       "model_id": "66817af070744b04b72263e3a3828eac",
       "version_major": 2,
       "version_minor": 0
      },
      "text/plain": [
       "st/NCBI263.h5ad:   0%|          | 0.00/32.8M [00:00<?, ?B/s]"
      ]
     },
     "metadata": {},
     "output_type": "display_data"
    },
    {
     "data": {
      "application/vnd.jupyter.widget-view+json": {
       "model_id": "4d4d9674c3e5440c8234804d4eb6e0df",
       "version_major": 2,
       "version_minor": 0
      },
      "text/plain": [
       "st/NCBI264.h5ad:   0%|          | 0.00/31.6M [00:00<?, ?B/s]"
      ]
     },
     "metadata": {},
     "output_type": "display_data"
    },
    {
     "data": {
      "application/vnd.jupyter.widget-view+json": {
       "model_id": "fc8b353db6854b37b7358d5d5a17675b",
       "version_major": 2,
       "version_minor": 0
      },
      "text/plain": [
       "st/NCBI267.h5ad:   0%|          | 0.00/40.5M [00:00<?, ?B/s]"
      ]
     },
     "metadata": {},
     "output_type": "display_data"
    },
    {
     "data": {
      "application/vnd.jupyter.widget-view+json": {
       "model_id": "b43466a30a164bdcba886e887fc2b1b8",
       "version_major": 2,
       "version_minor": 0
      },
      "text/plain": [
       "st/NCBI266.h5ad:   0%|          | 0.00/42.5M [00:00<?, ?B/s]"
      ]
     },
     "metadata": {},
     "output_type": "display_data"
    },
    {
     "data": {
      "application/vnd.jupyter.widget-view+json": {
       "model_id": "aa010fd6398147ff838c2e947b7dad36",
       "version_major": 2,
       "version_minor": 0
      },
      "text/plain": [
       "st/NCBI268.h5ad:   0%|          | 0.00/52.3M [00:00<?, ?B/s]"
      ]
     },
     "metadata": {},
     "output_type": "display_data"
    },
    {
     "data": {
      "application/vnd.jupyter.widget-view+json": {
       "model_id": "34ff4417aa1944ec8555066566d650b2",
       "version_major": 2,
       "version_minor": 0
      },
      "text/plain": [
       "st/NCBI269.h5ad:   0%|          | 0.00/48.6M [00:00<?, ?B/s]"
      ]
     },
     "metadata": {},
     "output_type": "display_data"
    },
    {
     "data": {
      "application/vnd.jupyter.widget-view+json": {
       "model_id": "44fc898f004046ae8dad3d6fea2e0181",
       "version_major": 2,
       "version_minor": 0
      },
      "text/plain": [
       "st/NCBI27.h5ad:   0%|          | 0.00/30.8M [00:00<?, ?B/s]"
      ]
     },
     "metadata": {},
     "output_type": "display_data"
    },
    {
     "data": {
      "application/vnd.jupyter.widget-view+json": {
       "model_id": "186d2d75b2df42c3b083313abb2bbbd0",
       "version_major": 2,
       "version_minor": 0
      },
      "text/plain": [
       "st/NCBI270.h5ad:   0%|          | 0.00/40.8M [00:00<?, ?B/s]"
      ]
     },
     "metadata": {},
     "output_type": "display_data"
    },
    {
     "data": {
      "application/vnd.jupyter.widget-view+json": {
       "model_id": "1a6524cb59774499bfc331bb858be3bc",
       "version_major": 2,
       "version_minor": 0
      },
      "text/plain": [
       "st/NCBI271.h5ad:   0%|          | 0.00/39.2M [00:00<?, ?B/s]"
      ]
     },
     "metadata": {},
     "output_type": "display_data"
    },
    {
     "data": {
      "application/vnd.jupyter.widget-view+json": {
       "model_id": "b83ff9bd3db54191919fc39658973ee5",
       "version_major": 2,
       "version_minor": 0
      },
      "text/plain": [
       "st/NCBI272.h5ad:   0%|          | 0.00/48.7M [00:00<?, ?B/s]"
      ]
     },
     "metadata": {},
     "output_type": "display_data"
    },
    {
     "data": {
      "application/vnd.jupyter.widget-view+json": {
       "model_id": "31f5c6a0575846bbb0d4c3db39c911a5",
       "version_major": 2,
       "version_minor": 0
      },
      "text/plain": [
       "st/NCBI274.h5ad:   0%|          | 0.00/23.5M [00:00<?, ?B/s]"
      ]
     },
     "metadata": {},
     "output_type": "display_data"
    },
    {
     "data": {
      "application/vnd.jupyter.widget-view+json": {
       "model_id": "3739dbde81b14e45a0764ccb9bccda56",
       "version_major": 2,
       "version_minor": 0
      },
      "text/plain": [
       "st/NCBI273.h5ad:   0%|          | 0.00/25.6M [00:00<?, ?B/s]"
      ]
     },
     "metadata": {},
     "output_type": "display_data"
    },
    {
     "data": {
      "application/vnd.jupyter.widget-view+json": {
       "model_id": "92214552c0c1415b91f5cd6c76f51059",
       "version_major": 2,
       "version_minor": 0
      },
      "text/plain": [
       "st/NCBI275.h5ad:   0%|          | 0.00/34.8M [00:00<?, ?B/s]"
      ]
     },
     "metadata": {},
     "output_type": "display_data"
    },
    {
     "data": {
      "application/vnd.jupyter.widget-view+json": {
       "model_id": "481d5ac3cf4442f2a22308a143819290",
       "version_major": 2,
       "version_minor": 0
      },
      "text/plain": [
       "st/NCBI276.h5ad:   0%|          | 0.00/36.0M [00:00<?, ?B/s]"
      ]
     },
     "metadata": {},
     "output_type": "display_data"
    },
    {
     "data": {
      "application/vnd.jupyter.widget-view+json": {
       "model_id": "bb1783dfa1e442a4a777738e71d38a04",
       "version_major": 2,
       "version_minor": 0
      },
      "text/plain": [
       "st/NCBI277.h5ad:   0%|          | 0.00/27.9M [00:00<?, ?B/s]"
      ]
     },
     "metadata": {},
     "output_type": "display_data"
    },
    {
     "data": {
      "application/vnd.jupyter.widget-view+json": {
       "model_id": "e3e4b3c41767404f96f661d1ea853c16",
       "version_major": 2,
       "version_minor": 0
      },
      "text/plain": [
       "st/NCBI278.h5ad:   0%|          | 0.00/38.0M [00:00<?, ?B/s]"
      ]
     },
     "metadata": {},
     "output_type": "display_data"
    },
    {
     "data": {
      "application/vnd.jupyter.widget-view+json": {
       "model_id": "4a0384452bdb486d954914f829c25c40",
       "version_major": 2,
       "version_minor": 0
      },
      "text/plain": [
       "st/NCBI279.h5ad:   0%|          | 0.00/26.7M [00:00<?, ?B/s]"
      ]
     },
     "metadata": {},
     "output_type": "display_data"
    },
    {
     "data": {
      "application/vnd.jupyter.widget-view+json": {
       "model_id": "c904837528cf469fab8b74d08cc2d98f",
       "version_major": 2,
       "version_minor": 0
      },
      "text/plain": [
       "st/NCBI28.h5ad:   0%|          | 0.00/43.1M [00:00<?, ?B/s]"
      ]
     },
     "metadata": {},
     "output_type": "display_data"
    },
    {
     "data": {
      "application/vnd.jupyter.widget-view+json": {
       "model_id": "367ec90911154d039b5189ee4fdd40c5",
       "version_major": 2,
       "version_minor": 0
      },
      "text/plain": [
       "st/NCBI280.h5ad:   0%|          | 0.00/26.0M [00:00<?, ?B/s]"
      ]
     },
     "metadata": {},
     "output_type": "display_data"
    },
    {
     "data": {
      "application/vnd.jupyter.widget-view+json": {
       "model_id": "fdd91dcb2d6d425d837fe2d9397df4d8",
       "version_major": 2,
       "version_minor": 0
      },
      "text/plain": [
       "st/NCBI281.h5ad:   0%|          | 0.00/32.5M [00:00<?, ?B/s]"
      ]
     },
     "metadata": {},
     "output_type": "display_data"
    },
    {
     "data": {
      "application/vnd.jupyter.widget-view+json": {
       "model_id": "43016af45aac4743a4266b32972379f8",
       "version_major": 2,
       "version_minor": 0
      },
      "text/plain": [
       "st/NCBI282.h5ad:   0%|          | 0.00/37.1M [00:00<?, ?B/s]"
      ]
     },
     "metadata": {},
     "output_type": "display_data"
    },
    {
     "data": {
      "application/vnd.jupyter.widget-view+json": {
       "model_id": "16e7f08f63844f7bbb2e8b99f2ee12fb",
       "version_major": 2,
       "version_minor": 0
      },
      "text/plain": [
       "st/NCBI283.h5ad:   0%|          | 0.00/25.7M [00:00<?, ?B/s]"
      ]
     },
     "metadata": {},
     "output_type": "display_data"
    },
    {
     "data": {
      "application/vnd.jupyter.widget-view+json": {
       "model_id": "81e98dee03fb40ed8f3913d597c0ebe9",
       "version_major": 2,
       "version_minor": 0
      },
      "text/plain": [
       "st/NCBI284.h5ad:   0%|          | 0.00/23.6M [00:00<?, ?B/s]"
      ]
     },
     "metadata": {},
     "output_type": "display_data"
    },
    {
     "data": {
      "application/vnd.jupyter.widget-view+json": {
       "model_id": "dd7df1c835e74153ada0e4ba590bfa3d",
       "version_major": 2,
       "version_minor": 0
      },
      "text/plain": [
       "st/NCBI286.h5ad:   0%|          | 0.00/34.0M [00:00<?, ?B/s]"
      ]
     },
     "metadata": {},
     "output_type": "display_data"
    },
    {
     "data": {
      "application/vnd.jupyter.widget-view+json": {
       "model_id": "532baacb6ae04bb3911f44b854c80e78",
       "version_major": 2,
       "version_minor": 0
      },
      "text/plain": [
       "st/NCBI285.h5ad:   0%|          | 0.00/21.3M [00:00<?, ?B/s]"
      ]
     },
     "metadata": {},
     "output_type": "display_data"
    },
    {
     "data": {
      "application/vnd.jupyter.widget-view+json": {
       "model_id": "b1ae77b394164540bc053073abf60785",
       "version_major": 2,
       "version_minor": 0
      },
      "text/plain": [
       "st/NCBI287.h5ad:   0%|          | 0.00/32.4M [00:00<?, ?B/s]"
      ]
     },
     "metadata": {},
     "output_type": "display_data"
    },
    {
     "data": {
      "application/vnd.jupyter.widget-view+json": {
       "model_id": "e863c5cb67924439a9dd71445d1d10c1",
       "version_major": 2,
       "version_minor": 0
      },
      "text/plain": [
       "st/NCBI289.h5ad:   0%|          | 0.00/21.1M [00:00<?, ?B/s]"
      ]
     },
     "metadata": {},
     "output_type": "display_data"
    },
    {
     "data": {
      "application/vnd.jupyter.widget-view+json": {
       "model_id": "67e042a2862540219fcb37924b7d5368",
       "version_major": 2,
       "version_minor": 0
      },
      "text/plain": [
       "st/NCBI288.h5ad:   0%|          | 0.00/15.0M [00:00<?, ?B/s]"
      ]
     },
     "metadata": {},
     "output_type": "display_data"
    },
    {
     "data": {
      "application/vnd.jupyter.widget-view+json": {
       "model_id": "7c1b1ee2d98b4f84b0bf460a10f235a8",
       "version_major": 2,
       "version_minor": 0
      },
      "text/plain": [
       "st/NCBI29.h5ad:   0%|          | 0.00/44.4M [00:00<?, ?B/s]"
      ]
     },
     "metadata": {},
     "output_type": "display_data"
    },
    {
     "data": {
      "application/vnd.jupyter.widget-view+json": {
       "model_id": "3f9cf3857b634b99bbc838ac431243a2",
       "version_major": 2,
       "version_minor": 0
      },
      "text/plain": [
       "st/NCBI291.h5ad:   0%|          | 0.00/21.9M [00:00<?, ?B/s]"
      ]
     },
     "metadata": {},
     "output_type": "display_data"
    },
    {
     "data": {
      "application/vnd.jupyter.widget-view+json": {
       "model_id": "039ac8df2d8049b699766457459cd6d2",
       "version_major": 2,
       "version_minor": 0
      },
      "text/plain": [
       "st/NCBI292.h5ad:   0%|          | 0.00/20.3M [00:00<?, ?B/s]"
      ]
     },
     "metadata": {},
     "output_type": "display_data"
    },
    {
     "data": {
      "application/vnd.jupyter.widget-view+json": {
       "model_id": "8f3517f083a249b0ac613d11a817ccd7",
       "version_major": 2,
       "version_minor": 0
      },
      "text/plain": [
       "st/NCBI290.h5ad:   0%|          | 0.00/23.4M [00:00<?, ?B/s]"
      ]
     },
     "metadata": {},
     "output_type": "display_data"
    },
    {
     "data": {
      "application/vnd.jupyter.widget-view+json": {
       "model_id": "fdba1ec8dba740c3a9265be1006ead4f",
       "version_major": 2,
       "version_minor": 0
      },
      "text/plain": [
       "st/NCBI293.h5ad:   0%|          | 0.00/20.4M [00:00<?, ?B/s]"
      ]
     },
     "metadata": {},
     "output_type": "display_data"
    },
    {
     "data": {
      "application/vnd.jupyter.widget-view+json": {
       "model_id": "cdfd5735ec824dc38c563fc439f8f509",
       "version_major": 2,
       "version_minor": 0
      },
      "text/plain": [
       "st/NCBI295.h5ad:   0%|          | 0.00/19.1M [00:00<?, ?B/s]"
      ]
     },
     "metadata": {},
     "output_type": "display_data"
    },
    {
     "data": {
      "application/vnd.jupyter.widget-view+json": {
       "model_id": "fa828cfc7a774bfdb0d2e641607317d8",
       "version_major": 2,
       "version_minor": 0
      },
      "text/plain": [
       "st/NCBI296.h5ad:   0%|          | 0.00/20.1M [00:00<?, ?B/s]"
      ]
     },
     "metadata": {},
     "output_type": "display_data"
    },
    {
     "data": {
      "application/vnd.jupyter.widget-view+json": {
       "model_id": "ea6c4961689049c6a71d2047b37b9579",
       "version_major": 2,
       "version_minor": 0
      },
      "text/plain": [
       "st/NCBI294.h5ad:   0%|          | 0.00/20.9M [00:00<?, ?B/s]"
      ]
     },
     "metadata": {},
     "output_type": "display_data"
    },
    {
     "data": {
      "application/vnd.jupyter.widget-view+json": {
       "model_id": "0fc7cd0f648146c991b819c482c9bf6a",
       "version_major": 2,
       "version_minor": 0
      },
      "text/plain": [
       "st/NCBI297.h5ad:   0%|          | 0.00/17.2M [00:00<?, ?B/s]"
      ]
     },
     "metadata": {},
     "output_type": "display_data"
    },
    {
     "data": {
      "application/vnd.jupyter.widget-view+json": {
       "model_id": "ba163ea4e4fb4d80badf14d2e365f276",
       "version_major": 2,
       "version_minor": 0
      },
      "text/plain": [
       "st/NCBI298.h5ad:   0%|          | 0.00/17.1M [00:00<?, ?B/s]"
      ]
     },
     "metadata": {},
     "output_type": "display_data"
    },
    {
     "data": {
      "application/vnd.jupyter.widget-view+json": {
       "model_id": "518129b76c3a43a68232526457085fb0",
       "version_major": 2,
       "version_minor": 0
      },
      "text/plain": [
       "st/NCBI299.h5ad:   0%|          | 0.00/15.8M [00:00<?, ?B/s]"
      ]
     },
     "metadata": {},
     "output_type": "display_data"
    },
    {
     "data": {
      "application/vnd.jupyter.widget-view+json": {
       "model_id": "a28fa810d1cc47e39df0671cb521622e",
       "version_major": 2,
       "version_minor": 0
      },
      "text/plain": [
       "st/NCBI569.h5ad:   0%|          | 0.00/143M [00:00<?, ?B/s]"
      ]
     },
     "metadata": {},
     "output_type": "display_data"
    },
    {
     "data": {
      "application/vnd.jupyter.widget-view+json": {
       "model_id": "6ba3a6951cb047208520d4d3fcf5bf23",
       "version_major": 2,
       "version_minor": 0
      },
      "text/plain": [
       "st/NCBI570.h5ad:   0%|          | 0.00/108M [00:00<?, ?B/s]"
      ]
     },
     "metadata": {},
     "output_type": "display_data"
    },
    {
     "data": {
      "application/vnd.jupyter.widget-view+json": {
       "model_id": "cffbe9faf78e4c289d918bf2b0f64c14",
       "version_major": 2,
       "version_minor": 0
      },
      "text/plain": [
       "st/NCBI571.h5ad:   0%|          | 0.00/92.9M [00:00<?, ?B/s]"
      ]
     },
     "metadata": {},
     "output_type": "display_data"
    },
    {
     "data": {
      "application/vnd.jupyter.widget-view+json": {
       "model_id": "32d02f1189134eb986040a246dda3a8d",
       "version_major": 2,
       "version_minor": 0
      },
      "text/plain": [
       "st/NCBI600.h5ad:   0%|          | 0.00/21.1M [00:00<?, ?B/s]"
      ]
     },
     "metadata": {},
     "output_type": "display_data"
    },
    {
     "data": {
      "application/vnd.jupyter.widget-view+json": {
       "model_id": "a3ab7647b1384768a879d6063e5b27ec",
       "version_major": 2,
       "version_minor": 0
      },
      "text/plain": [
       "st/NCBI572.h5ad:   0%|          | 0.00/113M [00:00<?, ?B/s]"
      ]
     },
     "metadata": {},
     "output_type": "display_data"
    },
    {
     "data": {
      "application/vnd.jupyter.widget-view+json": {
       "model_id": "a205860deb9e4baab3a8b2dbfd81095b",
       "version_major": 2,
       "version_minor": 0
      },
      "text/plain": [
       "st/NCBI601.h5ad:   0%|          | 0.00/42.2M [00:00<?, ?B/s]"
      ]
     },
     "metadata": {},
     "output_type": "display_data"
    },
    {
     "data": {
      "application/vnd.jupyter.widget-view+json": {
       "model_id": "42b33565f62f461abee7a0bdfbb43f75",
       "version_major": 2,
       "version_minor": 0
      },
      "text/plain": [
       "st/NCBI602.h5ad:   0%|          | 0.00/39.2M [00:00<?, ?B/s]"
      ]
     },
     "metadata": {},
     "output_type": "display_data"
    },
    {
     "data": {
      "application/vnd.jupyter.widget-view+json": {
       "model_id": "03a9004793a64486a3dd5b898fb0c76b",
       "version_major": 2,
       "version_minor": 0
      },
      "text/plain": [
       "st/NCBI603.h5ad:   0%|          | 0.00/27.1M [00:00<?, ?B/s]"
      ]
     },
     "metadata": {},
     "output_type": "display_data"
    },
    {
     "data": {
      "application/vnd.jupyter.widget-view+json": {
       "model_id": "09d643154c4d47f5b6aeb59fa77221ce",
       "version_major": 2,
       "version_minor": 0
      },
      "text/plain": [
       "st/NCBI628.h5ad:   0%|          | 0.00/48.3M [00:00<?, ?B/s]"
      ]
     },
     "metadata": {},
     "output_type": "display_data"
    },
    {
     "data": {
      "application/vnd.jupyter.widget-view+json": {
       "model_id": "bacaa9ee1dea45538162eea62cc44e77",
       "version_major": 2,
       "version_minor": 0
      },
      "text/plain": [
       "st/NCBI629.h5ad:   0%|          | 0.00/109M [00:00<?, ?B/s]"
      ]
     },
     "metadata": {},
     "output_type": "display_data"
    },
    {
     "data": {
      "application/vnd.jupyter.widget-view+json": {
       "model_id": "0d04ef05f3384e09aa8242c83b58ea1f",
       "version_major": 2,
       "version_minor": 0
      },
      "text/plain": [
       "st/NCBI630.h5ad:   0%|          | 0.00/85.2M [00:00<?, ?B/s]"
      ]
     },
     "metadata": {},
     "output_type": "display_data"
    },
    {
     "data": {
      "application/vnd.jupyter.widget-view+json": {
       "model_id": "da7aaf13a3bf4167813e3a799d416e28",
       "version_major": 2,
       "version_minor": 0
      },
      "text/plain": [
       "st/NCBI631.h5ad:   0%|          | 0.00/62.2M [00:00<?, ?B/s]"
      ]
     },
     "metadata": {},
     "output_type": "display_data"
    },
    {
     "data": {
      "application/vnd.jupyter.widget-view+json": {
       "model_id": "f6fb0de4842240f09488efd47b051c0f",
       "version_major": 2,
       "version_minor": 0
      },
      "text/plain": [
       "st/NCBI632.h5ad:   0%|          | 0.00/70.8M [00:00<?, ?B/s]"
      ]
     },
     "metadata": {},
     "output_type": "display_data"
    },
    {
     "data": {
      "application/vnd.jupyter.widget-view+json": {
       "model_id": "fb2a43fb88a54460a627c09f8d601846",
       "version_major": 2,
       "version_minor": 0
      },
      "text/plain": [
       "st/NCBI633.h5ad:   0%|          | 0.00/78.7M [00:00<?, ?B/s]"
      ]
     },
     "metadata": {},
     "output_type": "display_data"
    },
    {
     "data": {
      "application/vnd.jupyter.widget-view+json": {
       "model_id": "420ea07d6911486599a2a5f9735ee51c",
       "version_major": 2,
       "version_minor": 0
      },
      "text/plain": [
       "st/NCBI634.h5ad:   0%|          | 0.00/75.3M [00:00<?, ?B/s]"
      ]
     },
     "metadata": {},
     "output_type": "display_data"
    },
    {
     "data": {
      "application/vnd.jupyter.widget-view+json": {
       "model_id": "80fd816dd8cc4244bf6c21a2e0008fc7",
       "version_major": 2,
       "version_minor": 0
      },
      "text/plain": [
       "st/NCBI635.h5ad:   0%|          | 0.00/90.8M [00:00<?, ?B/s]"
      ]
     },
     "metadata": {},
     "output_type": "display_data"
    },
    {
     "data": {
      "application/vnd.jupyter.widget-view+json": {
       "model_id": "cab0371893264d2a8a8d1285044783bb",
       "version_major": 2,
       "version_minor": 0
      },
      "text/plain": [
       "st/NCBI636.h5ad:   0%|          | 0.00/64.0M [00:00<?, ?B/s]"
      ]
     },
     "metadata": {},
     "output_type": "display_data"
    },
    {
     "data": {
      "application/vnd.jupyter.widget-view+json": {
       "model_id": "08fe271f7e574005beb6fd9970aa5bda",
       "version_major": 2,
       "version_minor": 0
      },
      "text/plain": [
       "st/NCBI637.h5ad:   0%|          | 0.00/86.9M [00:00<?, ?B/s]"
      ]
     },
     "metadata": {},
     "output_type": "display_data"
    },
    {
     "data": {
      "application/vnd.jupyter.widget-view+json": {
       "model_id": "3f6db36815e048039b7323e8f18c7809",
       "version_major": 2,
       "version_minor": 0
      },
      "text/plain": [
       "st/NCBI638.h5ad:   0%|          | 0.00/85.2M [00:00<?, ?B/s]"
      ]
     },
     "metadata": {},
     "output_type": "display_data"
    },
    {
     "data": {
      "application/vnd.jupyter.widget-view+json": {
       "model_id": "2b5d85fc95864b8e92808b9fdef42540",
       "version_major": 2,
       "version_minor": 0
      },
      "text/plain": [
       "st/NCBI639.h5ad:   0%|          | 0.00/55.3M [00:00<?, ?B/s]"
      ]
     },
     "metadata": {},
     "output_type": "display_data"
    },
    {
     "data": {
      "application/vnd.jupyter.widget-view+json": {
       "model_id": "bea1a60eb79543f7a230b4fbf9bdbf45",
       "version_major": 2,
       "version_minor": 0
      },
      "text/plain": [
       "st/NCBI640.h5ad:   0%|          | 0.00/68.1M [00:00<?, ?B/s]"
      ]
     },
     "metadata": {},
     "output_type": "display_data"
    },
    {
     "data": {
      "application/vnd.jupyter.widget-view+json": {
       "model_id": "76e347ab9cef4b45bf690d9f93f2ac06",
       "version_major": 2,
       "version_minor": 0
      },
      "text/plain": [
       "st/NCBI641.h5ad:   0%|          | 0.00/91.0M [00:00<?, ?B/s]"
      ]
     },
     "metadata": {},
     "output_type": "display_data"
    },
    {
     "data": {
      "application/vnd.jupyter.widget-view+json": {
       "model_id": "62c78307c1e84e5499845447d4b61e7c",
       "version_major": 2,
       "version_minor": 0
      },
      "text/plain": [
       "st/NCBI643.h5ad:   0%|          | 0.00/110M [00:00<?, ?B/s]"
      ]
     },
     "metadata": {},
     "output_type": "display_data"
    },
    {
     "data": {
      "application/vnd.jupyter.widget-view+json": {
       "model_id": "4376b578bf9a41a99878f16bb96e3f5c",
       "version_major": 2,
       "version_minor": 0
      },
      "text/plain": [
       "st/NCBI642.h5ad:   0%|          | 0.00/86.4M [00:00<?, ?B/s]"
      ]
     },
     "metadata": {},
     "output_type": "display_data"
    },
    {
     "data": {
      "application/vnd.jupyter.widget-view+json": {
       "model_id": "a1fda187fb01490c9925205c84343cb4",
       "version_major": 2,
       "version_minor": 0
      },
      "text/plain": [
       "st/NCBI681.h5ad:   0%|          | 0.00/245M [00:00<?, ?B/s]"
      ]
     },
     "metadata": {},
     "output_type": "display_data"
    },
    {
     "data": {
      "application/vnd.jupyter.widget-view+json": {
       "model_id": "695ccf1204fe4a0bac79af3c22a21b6e",
       "version_major": 2,
       "version_minor": 0
      },
      "text/plain": [
       "st/NCBI682.h5ad:   0%|          | 0.00/256M [00:00<?, ?B/s]"
      ]
     },
     "metadata": {},
     "output_type": "display_data"
    },
    {
     "data": {
      "application/vnd.jupyter.widget-view+json": {
       "model_id": "b3ab7207bea949e198e97bc71693be62",
       "version_major": 2,
       "version_minor": 0
      },
      "text/plain": [
       "st/NCBI683.h5ad:   0%|          | 0.00/224M [00:00<?, ?B/s]"
      ]
     },
     "metadata": {},
     "output_type": "display_data"
    },
    {
     "data": {
      "application/vnd.jupyter.widget-view+json": {
       "model_id": "f14c8d2935f94ec088092c214db71fbd",
       "version_major": 2,
       "version_minor": 0
      },
      "text/plain": [
       "st/NCBI684.h5ad:   0%|          | 0.00/190M [00:00<?, ?B/s]"
      ]
     },
     "metadata": {},
     "output_type": "display_data"
    },
    {
     "data": {
      "application/vnd.jupyter.widget-view+json": {
       "model_id": "47774f4500de49f397f7febeed012f7a",
       "version_major": 2,
       "version_minor": 0
      },
      "text/plain": [
       "st/NCBI771.h5ad:   0%|          | 0.00/19.8M [00:00<?, ?B/s]"
      ]
     },
     "metadata": {},
     "output_type": "display_data"
    },
    {
     "data": {
      "application/vnd.jupyter.widget-view+json": {
       "model_id": "2222c2e8b5a84cf68c1f9a8cae58ebf8",
       "version_major": 2,
       "version_minor": 0
      },
      "text/plain": [
       "st/NCBI776.h5ad:   0%|          | 0.00/244M [00:00<?, ?B/s]"
      ]
     },
     "metadata": {},
     "output_type": "display_data"
    },
    {
     "data": {
      "application/vnd.jupyter.widget-view+json": {
       "model_id": "d0d4636a298041fba001fdc6ea240432",
       "version_major": 2,
       "version_minor": 0
      },
      "text/plain": [
       "st/NCBI854.h5ad:   0%|          | 0.00/105M [00:00<?, ?B/s]"
      ]
     },
     "metadata": {},
     "output_type": "display_data"
    },
    {
     "data": {
      "application/vnd.jupyter.widget-view+json": {
       "model_id": "465601d4201b4f48a1d5faf41994989b",
       "version_major": 2,
       "version_minor": 0
      },
      "text/plain": [
       "st/NCBI855.h5ad:   0%|          | 0.00/210M [00:00<?, ?B/s]"
      ]
     },
     "metadata": {},
     "output_type": "display_data"
    },
    {
     "data": {
      "application/vnd.jupyter.widget-view+json": {
       "model_id": "2296dc24ff4943a78fd9c6e760636040",
       "version_major": 2,
       "version_minor": 0
      },
      "text/plain": [
       "st/TENX13.h5ad:   0%|          | 0.00/163M [00:00<?, ?B/s]"
      ]
     },
     "metadata": {},
     "output_type": "display_data"
    },
    {
     "data": {
      "application/vnd.jupyter.widget-view+json": {
       "model_id": "30edd918ee7842818970e8aa5e78b523",
       "version_major": 2,
       "version_minor": 0
      },
      "text/plain": [
       "st/TENX131.h5ad:   0%|          | 0.00/129M [00:00<?, ?B/s]"
      ]
     },
     "metadata": {},
     "output_type": "display_data"
    },
    {
     "data": {
      "application/vnd.jupyter.widget-view+json": {
       "model_id": "75d972d831254659a59b669173b972e9",
       "version_major": 2,
       "version_minor": 0
      },
      "text/plain": [
       "st/TENX132.h5ad:   0%|          | 0.00/14.8M [00:00<?, ?B/s]"
      ]
     },
     "metadata": {},
     "output_type": "display_data"
    },
    {
     "data": {
      "application/vnd.jupyter.widget-view+json": {
       "model_id": "eec57b9b35a541eb9db36e73cfd6f536",
       "version_major": 2,
       "version_minor": 0
      },
      "text/plain": [
       "st/TENX133.h5ad:   0%|          | 0.00/5.88M [00:00<?, ?B/s]"
      ]
     },
     "metadata": {},
     "output_type": "display_data"
    },
    {
     "data": {
      "application/vnd.jupyter.widget-view+json": {
       "model_id": "8e30bd0645dc43858b2714ac612b77bd",
       "version_major": 2,
       "version_minor": 0
      },
      "text/plain": [
       "st/TENX134.h5ad:   0%|          | 0.00/5.64M [00:00<?, ?B/s]"
      ]
     },
     "metadata": {},
     "output_type": "display_data"
    },
    {
     "data": {
      "application/vnd.jupyter.widget-view+json": {
       "model_id": "c465ee8898ae414c96482dd7c71c27a2",
       "version_major": 2,
       "version_minor": 0
      },
      "text/plain": [
       "st/TENX135.h5ad:   0%|          | 0.00/10.7M [00:00<?, ?B/s]"
      ]
     },
     "metadata": {},
     "output_type": "display_data"
    },
    {
     "data": {
      "application/vnd.jupyter.widget-view+json": {
       "model_id": "02fdf093c08f4412b3e4f02a923e7a10",
       "version_major": 2,
       "version_minor": 0
      },
      "text/plain": [
       "st/TENX136.h5ad:   0%|          | 0.00/12.3M [00:00<?, ?B/s]"
      ]
     },
     "metadata": {},
     "output_type": "display_data"
    },
    {
     "data": {
      "application/vnd.jupyter.widget-view+json": {
       "model_id": "5f929403d528475d90455f53aea8be5a",
       "version_major": 2,
       "version_minor": 0
      },
      "text/plain": [
       "st/TENX137.h5ad:   0%|          | 0.00/13.5M [00:00<?, ?B/s]"
      ]
     },
     "metadata": {},
     "output_type": "display_data"
    },
    {
     "data": {
      "application/vnd.jupyter.widget-view+json": {
       "model_id": "88a0c9b6c48a4c3dadc5fb4a0a165a6e",
       "version_major": 2,
       "version_minor": 0
      },
      "text/plain": [
       "st/TENX138.h5ad:   0%|          | 0.00/15.6M [00:00<?, ?B/s]"
      ]
     },
     "metadata": {},
     "output_type": "display_data"
    },
    {
     "data": {
      "application/vnd.jupyter.widget-view+json": {
       "model_id": "997a64c2772b4d01bcff055d414196bc",
       "version_major": 2,
       "version_minor": 0
      },
      "text/plain": [
       "st/TENX139.h5ad:   0%|          | 0.00/6.94M [00:00<?, ?B/s]"
      ]
     },
     "metadata": {},
     "output_type": "display_data"
    },
    {
     "data": {
      "application/vnd.jupyter.widget-view+json": {
       "model_id": "c24d108175ed4bc1ae5a96d49dd60e2e",
       "version_major": 2,
       "version_minor": 0
      },
      "text/plain": [
       "st/TENX14.h5ad:   0%|          | 0.00/169M [00:00<?, ?B/s]"
      ]
     },
     "metadata": {},
     "output_type": "display_data"
    },
    {
     "data": {
      "application/vnd.jupyter.widget-view+json": {
       "model_id": "e58daa68ee0e4e9eb949f28230968ec9",
       "version_major": 2,
       "version_minor": 0
      },
      "text/plain": [
       "st/TENX140.h5ad:   0%|          | 0.00/7.20M [00:00<?, ?B/s]"
      ]
     },
     "metadata": {},
     "output_type": "display_data"
    },
    {
     "data": {
      "application/vnd.jupyter.widget-view+json": {
       "model_id": "5a9e9880b67744878117cf1e4e19b74d",
       "version_major": 2,
       "version_minor": 0
      },
      "text/plain": [
       "st/TENX141.h5ad:   0%|          | 0.00/6.84M [00:00<?, ?B/s]"
      ]
     },
     "metadata": {},
     "output_type": "display_data"
    },
    {
     "data": {
      "application/vnd.jupyter.widget-view+json": {
       "model_id": "1d59cd1a24d94058b58c329a7a8311c6",
       "version_major": 2,
       "version_minor": 0
      },
      "text/plain": [
       "st/TENX142.h5ad:   0%|          | 0.00/6.58M [00:00<?, ?B/s]"
      ]
     },
     "metadata": {},
     "output_type": "display_data"
    },
    {
     "data": {
      "application/vnd.jupyter.widget-view+json": {
       "model_id": "bb0ba9b49d2e48aa889eae267d7e9ed4",
       "version_major": 2,
       "version_minor": 0
      },
      "text/plain": [
       "st/TENX143.h5ad:   0%|          | 0.00/82.0M [00:00<?, ?B/s]"
      ]
     },
     "metadata": {},
     "output_type": "display_data"
    },
    {
     "data": {
      "application/vnd.jupyter.widget-view+json": {
       "model_id": "d4473770998143988afcda0e64e18687",
       "version_major": 2,
       "version_minor": 0
      },
      "text/plain": [
       "st/TENX144.h5ad:   0%|          | 0.00/138M [00:00<?, ?B/s]"
      ]
     },
     "metadata": {},
     "output_type": "display_data"
    },
    {
     "data": {
      "application/vnd.jupyter.widget-view+json": {
       "model_id": "2c99fdea16924da685c57e87bbf1d80d",
       "version_major": 2,
       "version_minor": 0
      },
      "text/plain": [
       "st/TENX145.h5ad:   0%|          | 0.00/136M [00:00<?, ?B/s]"
      ]
     },
     "metadata": {},
     "output_type": "display_data"
    },
    {
     "data": {
      "application/vnd.jupyter.widget-view+json": {
       "model_id": "7e8c16cb44cd4fcfb3ef12cc718285a8",
       "version_major": 2,
       "version_minor": 0
      },
      "text/plain": [
       "st/TENX146.h5ad:   0%|          | 0.00/164M [00:00<?, ?B/s]"
      ]
     },
     "metadata": {},
     "output_type": "display_data"
    },
    {
     "data": {
      "application/vnd.jupyter.widget-view+json": {
       "model_id": "05286a13134d4bc88096c00cf0bdce4a",
       "version_major": 2,
       "version_minor": 0
      },
      "text/plain": [
       "st/TENX147.h5ad:   0%|          | 0.00/7.95M [00:00<?, ?B/s]"
      ]
     },
     "metadata": {},
     "output_type": "display_data"
    },
    {
     "data": {
      "application/vnd.jupyter.widget-view+json": {
       "model_id": "9cbc039ebea840fb98cd6389859beacc",
       "version_major": 2,
       "version_minor": 0
      },
      "text/plain": [
       "st/TENX148.h5ad:   0%|          | 0.00/7.58M [00:00<?, ?B/s]"
      ]
     },
     "metadata": {},
     "output_type": "display_data"
    },
    {
     "data": {
      "application/vnd.jupyter.widget-view+json": {
       "model_id": "9d00d52c93a94c8396b34d53b6324b1f",
       "version_major": 2,
       "version_minor": 0
      },
      "text/plain": [
       "st/TENX149.h5ad:   0%|          | 0.00/7.73M [00:00<?, ?B/s]"
      ]
     },
     "metadata": {},
     "output_type": "display_data"
    },
    {
     "data": {
      "application/vnd.jupyter.widget-view+json": {
       "model_id": "0aabaa2a354b4945a20a751661ef6b09",
       "version_major": 2,
       "version_minor": 0
      },
      "text/plain": [
       "st/TENX152.h5ad:   0%|          | 0.00/352M [00:00<?, ?B/s]"
      ]
     },
     "metadata": {},
     "output_type": "display_data"
    },
    {
     "data": {
      "application/vnd.jupyter.widget-view+json": {
       "model_id": "47f6588c5f4c4197949df375eee53fe8",
       "version_major": 2,
       "version_minor": 0
      },
      "text/plain": [
       "st/TENX23.h5ad:   0%|          | 0.00/10.8M [00:00<?, ?B/s]"
      ]
     },
     "metadata": {},
     "output_type": "display_data"
    },
    {
     "data": {
      "application/vnd.jupyter.widget-view+json": {
       "model_id": "852e53edf20f458d8a2a4033bce7364f",
       "version_major": 2,
       "version_minor": 0
      },
      "text/plain": [
       "st/TENX24.h5ad:   0%|          | 0.00/134M [00:00<?, ?B/s]"
      ]
     },
     "metadata": {},
     "output_type": "display_data"
    },
    {
     "data": {
      "application/vnd.jupyter.widget-view+json": {
       "model_id": "ab1be0c60dfa4553a63402b23a51914c",
       "version_major": 2,
       "version_minor": 0
      },
      "text/plain": [
       "st/TENX28.h5ad:   0%|          | 0.00/12.6M [00:00<?, ?B/s]"
      ]
     },
     "metadata": {},
     "output_type": "display_data"
    },
    {
     "data": {
      "application/vnd.jupyter.widget-view+json": {
       "model_id": "bd243da7a4cc4e029a6bf403f038cb74",
       "version_major": 2,
       "version_minor": 0
      },
      "text/plain": [
       "st/TENX29.h5ad:   0%|          | 0.00/97.5M [00:00<?, ?B/s]"
      ]
     },
     "metadata": {},
     "output_type": "display_data"
    },
    {
     "data": {
      "application/vnd.jupyter.widget-view+json": {
       "model_id": "d8f089f8e5ef47c1af24a4823b067ab0",
       "version_major": 2,
       "version_minor": 0
      },
      "text/plain": [
       "st/TENX30.h5ad:   0%|          | 0.00/12.6M [00:00<?, ?B/s]"
      ]
     },
     "metadata": {},
     "output_type": "display_data"
    },
    {
     "data": {
      "application/vnd.jupyter.widget-view+json": {
       "model_id": "c3edf558afe24874b5cb1a77496bbcde",
       "version_major": 2,
       "version_minor": 0
      },
      "text/plain": [
       "st/TENX31.h5ad:   0%|          | 0.00/127M [00:00<?, ?B/s]"
      ]
     },
     "metadata": {},
     "output_type": "display_data"
    },
    {
     "data": {
      "application/vnd.jupyter.widget-view+json": {
       "model_id": "bbe439cecd3b463f861618f406f8d210",
       "version_major": 2,
       "version_minor": 0
      },
      "text/plain": [
       "st/TENX39.h5ad:   0%|          | 0.00/102M [00:00<?, ?B/s]"
      ]
     },
     "metadata": {},
     "output_type": "display_data"
    },
    {
     "data": {
      "application/vnd.jupyter.widget-view+json": {
       "model_id": "d6389af73b0640259b866d0dae3cfb3b",
       "version_major": 2,
       "version_minor": 0
      },
      "text/plain": [
       "st/TENX40.h5ad:   0%|          | 0.00/171M [00:00<?, ?B/s]"
      ]
     },
     "metadata": {},
     "output_type": "display_data"
    },
    {
     "data": {
      "application/vnd.jupyter.widget-view+json": {
       "model_id": "d7242b42e7e24f86b7eaa68f8d3552c9",
       "version_major": 2,
       "version_minor": 0
      },
      "text/plain": [
       "st/TENX46.h5ad:   0%|          | 0.00/155M [00:00<?, ?B/s]"
      ]
     },
     "metadata": {},
     "output_type": "display_data"
    },
    {
     "data": {
      "application/vnd.jupyter.widget-view+json": {
       "model_id": "80b3d533a7c240cc882beacd1dd5e632",
       "version_major": 2,
       "version_minor": 0
      },
      "text/plain": [
       "st/TENX49.h5ad:   0%|          | 0.00/150M [00:00<?, ?B/s]"
      ]
     },
     "metadata": {},
     "output_type": "display_data"
    },
    {
     "data": {
      "application/vnd.jupyter.widget-view+json": {
       "model_id": "b2a71465789945d69d9aa0d1f8096672",
       "version_major": 2,
       "version_minor": 0
      },
      "text/plain": [
       "st/TENX50.h5ad:   0%|          | 0.00/143M [00:00<?, ?B/s]"
      ]
     },
     "metadata": {},
     "output_type": "display_data"
    },
    {
     "data": {
      "application/vnd.jupyter.widget-view+json": {
       "model_id": "36690d24dc52468691a19330dfe3b688",
       "version_major": 2,
       "version_minor": 0
      },
      "text/plain": [
       "st/TENX51.h5ad:   0%|          | 0.00/197M [00:00<?, ?B/s]"
      ]
     },
     "metadata": {},
     "output_type": "display_data"
    },
    {
     "data": {
      "application/vnd.jupyter.widget-view+json": {
       "model_id": "1f1952e42c844e5bba3285d6128525a0",
       "version_major": 2,
       "version_minor": 0
      },
      "text/plain": [
       "st/TENX53.h5ad:   0%|          | 0.00/146M [00:00<?, ?B/s]"
      ]
     },
     "metadata": {},
     "output_type": "display_data"
    },
    {
     "data": {
      "application/vnd.jupyter.widget-view+json": {
       "model_id": "4c7a808aa9f444d29ed38e09e95346e3",
       "version_major": 2,
       "version_minor": 0
      },
      "text/plain": [
       "st/TENX62.h5ad:   0%|          | 0.00/190M [00:00<?, ?B/s]"
      ]
     },
     "metadata": {},
     "output_type": "display_data"
    },
    {
     "data": {
      "application/vnd.jupyter.widget-view+json": {
       "model_id": "2a1e0abf63c44b61bb20a06c3f8bff4b",
       "version_major": 2,
       "version_minor": 0
      },
      "text/plain": [
       "st/TENX65.h5ad:   0%|          | 0.00/289M [00:00<?, ?B/s]"
      ]
     },
     "metadata": {},
     "output_type": "display_data"
    },
    {
     "data": {
      "application/vnd.jupyter.widget-view+json": {
       "model_id": "1e6ca4fcc3264f4dab0845342b58433f",
       "version_major": 2,
       "version_minor": 0
      },
      "text/plain": [
       "st/TENX68.h5ad:   0%|          | 0.00/82.3M [00:00<?, ?B/s]"
      ]
     },
     "metadata": {},
     "output_type": "display_data"
    },
    {
     "data": {
      "application/vnd.jupyter.widget-view+json": {
       "model_id": "8cd1a0bbf85641318412bf0bace558b9",
       "version_major": 2,
       "version_minor": 0
      },
      "text/plain": [
       "st/TENX70.h5ad:   0%|          | 0.00/624M [00:00<?, ?B/s]"
      ]
     },
     "metadata": {},
     "output_type": "display_data"
    },
    {
     "data": {
      "application/vnd.jupyter.widget-view+json": {
       "model_id": "272311107b424c8e8dddd5978a52ec1e",
       "version_major": 2,
       "version_minor": 0
      },
      "text/plain": [
       "st/TENX72.h5ad:   0%|          | 0.00/493M [00:00<?, ?B/s]"
      ]
     },
     "metadata": {},
     "output_type": "display_data"
    },
    {
     "data": {
      "application/vnd.jupyter.widget-view+json": {
       "model_id": "cfc6f67011dc48efb2d4a3360321e93d",
       "version_major": 2,
       "version_minor": 0
      },
      "text/plain": [
       "st/TENX73.h5ad:   0%|          | 0.00/425M [00:00<?, ?B/s]"
      ]
     },
     "metadata": {},
     "output_type": "display_data"
    },
    {
     "data": {
      "application/vnd.jupyter.widget-view+json": {
       "model_id": "fd25b892b4fe47ffa5d1479bdc0fc82f",
       "version_major": 2,
       "version_minor": 0
      },
      "text/plain": [
       "st/TENX89.h5ad:   0%|          | 0.00/158M [00:00<?, ?B/s]"
      ]
     },
     "metadata": {},
     "output_type": "display_data"
    },
    {
     "data": {
      "application/vnd.jupyter.widget-view+json": {
       "model_id": "ba52e25ccc0a42d2b40f73abd6cff417",
       "version_major": 2,
       "version_minor": 0
      },
      "text/plain": [
       "st/TENX90.h5ad:   0%|          | 0.00/179M [00:00<?, ?B/s]"
      ]
     },
     "metadata": {},
     "output_type": "display_data"
    },
    {
     "data": {
      "application/vnd.jupyter.widget-view+json": {
       "model_id": "d74cb9c8eea9453ba0dd79257cb7faf4",
       "version_major": 2,
       "version_minor": 0
      },
      "text/plain": [
       "st/TENX91.h5ad:   0%|          | 0.00/183M [00:00<?, ?B/s]"
      ]
     },
     "metadata": {},
     "output_type": "display_data"
    },
    {
     "data": {
      "application/vnd.jupyter.widget-view+json": {
       "model_id": "86fc555cf73f4ce1914b7f8e808977df",
       "version_major": 2,
       "version_minor": 0
      },
      "text/plain": [
       "st/TENX92.h5ad:   0%|          | 0.00/151M [00:00<?, ?B/s]"
      ]
     },
     "metadata": {},
     "output_type": "display_data"
    },
    {
     "data": {
      "application/vnd.jupyter.widget-view+json": {
       "model_id": "c369594c573647e9a647eb2d20ee8bbc",
       "version_major": 2,
       "version_minor": 0
      },
      "text/plain": [
       "st/ZEN36.h5ad:   0%|          | 0.00/78.2M [00:00<?, ?B/s]"
      ]
     },
     "metadata": {},
     "output_type": "display_data"
    },
    {
     "data": {
      "application/vnd.jupyter.widget-view+json": {
       "model_id": "044a75b6a1774baeaae3428d842f94ae",
       "version_major": 2,
       "version_minor": 0
      },
      "text/plain": [
       "st/ZEN38.h5ad:   0%|          | 0.00/20.4M [00:00<?, ?B/s]"
      ]
     },
     "metadata": {},
     "output_type": "display_data"
    },
    {
     "data": {
      "application/vnd.jupyter.widget-view+json": {
       "model_id": "6cff50b9bced4e2e89ce124310062720",
       "version_major": 2,
       "version_minor": 0
      },
      "text/plain": [
       "st/ZEN39.h5ad:   0%|          | 0.00/21.1M [00:00<?, ?B/s]"
      ]
     },
     "metadata": {},
     "output_type": "display_data"
    },
    {
     "data": {
      "application/vnd.jupyter.widget-view+json": {
       "model_id": "67352294594a47c9882c170685d6a4a7",
       "version_major": 2,
       "version_minor": 0
      },
      "text/plain": [
       "st/ZEN40.h5ad:   0%|          | 0.00/62.3M [00:00<?, ?B/s]"
      ]
     },
     "metadata": {},
     "output_type": "display_data"
    },
    {
     "data": {
      "application/vnd.jupyter.widget-view+json": {
       "model_id": "67fba162bce04975957d703e6d19891d",
       "version_major": 2,
       "version_minor": 0
      },
      "text/plain": [
       "st/ZEN42.h5ad:   0%|          | 0.00/50.9M [00:00<?, ?B/s]"
      ]
     },
     "metadata": {},
     "output_type": "display_data"
    },
    {
     "data": {
      "application/vnd.jupyter.widget-view+json": {
       "model_id": "6f08059105854f36a57fdfb7614b51ff",
       "version_major": 2,
       "version_minor": 0
      },
      "text/plain": [
       "st/ZEN43.h5ad:   0%|          | 0.00/33.2M [00:00<?, ?B/s]"
      ]
     },
     "metadata": {},
     "output_type": "display_data"
    },
    {
     "data": {
      "application/vnd.jupyter.widget-view+json": {
       "model_id": "c9f95711440448febc05f1189a243771",
       "version_major": 2,
       "version_minor": 0
      },
      "text/plain": [
       "st/ZEN44.h5ad:   0%|          | 0.00/36.0M [00:00<?, ?B/s]"
      ]
     },
     "metadata": {},
     "output_type": "display_data"
    },
    {
     "data": {
      "application/vnd.jupyter.widget-view+json": {
       "model_id": "4f2d6f8f917d46c6a21a0a2795297351",
       "version_major": 2,
       "version_minor": 0
      },
      "text/plain": [
       "st/ZEN45.h5ad:   0%|          | 0.00/18.2M [00:00<?, ?B/s]"
      ]
     },
     "metadata": {},
     "output_type": "display_data"
    },
    {
     "data": {
      "application/vnd.jupyter.widget-view+json": {
       "model_id": "c187d590071c4db2bd331d502abc60ee",
       "version_major": 2,
       "version_minor": 0
      },
      "text/plain": [
       "st/ZEN47.h5ad:   0%|          | 0.00/84.3M [00:00<?, ?B/s]"
      ]
     },
     "metadata": {},
     "output_type": "display_data"
    },
    {
     "data": {
      "application/vnd.jupyter.widget-view+json": {
       "model_id": "28681069528e462fb40d897fd9e7475e",
       "version_major": 2,
       "version_minor": 0
      },
      "text/plain": [
       "st/ZEN46.h5ad:   0%|          | 0.00/73.6M [00:00<?, ?B/s]"
      ]
     },
     "metadata": {},
     "output_type": "display_data"
    },
    {
     "data": {
      "application/vnd.jupyter.widget-view+json": {
       "model_id": "37ea79977941440ea1fd6b0c9280a986",
       "version_major": 2,
       "version_minor": 0
      },
      "text/plain": [
       "st/ZEN48.h5ad:   0%|          | 0.00/82.0M [00:00<?, ?B/s]"
      ]
     },
     "metadata": {},
     "output_type": "display_data"
    },
    {
     "data": {
      "application/vnd.jupyter.widget-view+json": {
       "model_id": "747d5bcbf3be416abb700a30bb2d2d51",
       "version_major": 2,
       "version_minor": 0
      },
      "text/plain": [
       "st/ZEN49.h5ad:   0%|          | 0.00/82.9M [00:00<?, ?B/s]"
      ]
     },
     "metadata": {},
     "output_type": "display_data"
    },
    {
     "data": {
      "application/vnd.jupyter.widget-view+json": {
       "model_id": "4e2aede1f8b04641a0b7a9ae4f6e3923",
       "version_major": 2,
       "version_minor": 0
      },
      "text/plain": [
       "Generating train split: 0 examples [00:00, ? examples/s]"
      ]
     },
     "metadata": {},
     "output_type": "display_data"
    }
   ],
   "source": [
    "ids_to_query = meta_df['id'].values\n",
    "wanted_folders = ['st', 'metadata'] # some data is really heavy, so download only needed files\n",
    "patterns = []\n",
    "for id in ids_to_query:\n",
    "    for folder in wanted_folders:\n",
    "        patterns.append(f\"{folder}/{id}*\")\n",
    "dataset = datasets.load_dataset(\n",
    "    'MahmoodLab/hest', \n",
    "    cache_dir=local_dir,\n",
    "    patterns=patterns\n",
    ")"
   ]
  },
  {
   "cell_type": "code",
   "execution_count": null,
   "id": "4221036a-9aff-47fe-9ff8-e9e77e7559f7",
   "metadata": {},
   "outputs": [],
   "source": []
  }
 ],
 "metadata": {
  "kernelspec": {
   "display_name": "Python 3 (ipykernel)",
   "language": "python",
   "name": "python3"
  },
  "language_info": {
   "codemirror_mode": {
    "name": "ipython",
    "version": 3
   },
   "file_extension": ".py",
   "mimetype": "text/x-python",
   "name": "python",
   "nbconvert_exporter": "python",
   "pygments_lexer": "ipython3",
   "version": "3.11.9"
  }
 },
 "nbformat": 4,
 "nbformat_minor": 5
}
